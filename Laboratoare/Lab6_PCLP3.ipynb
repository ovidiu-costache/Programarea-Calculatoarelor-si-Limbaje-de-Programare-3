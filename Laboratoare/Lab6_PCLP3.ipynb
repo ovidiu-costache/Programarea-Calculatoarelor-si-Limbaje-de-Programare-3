{
  "nbformat": 4,
  "nbformat_minor": 0,
  "metadata": {
    "colab": {
      "provenance": [],
      "collapsed_sections": [
        "hmnudaiK8gif"
      ]
    },
    "kernelspec": {
      "name": "python3",
      "display_name": "Python 3"
    },
    "language_info": {
      "name": "python"
    }
  },
  "cells": [
    {
      "cell_type": "markdown",
      "source": [
        "# Laborator 6 - Clasificarea imaginilor\n",
        "\n",
        "**Clasificarea imaginilor** este o sarcină fundamentală în domeniul învațării automate și al viziunii computerizate (computer vision), cu numeroase aplicații practice - de la recunoașterea scrisului de mână și a plăcuțelor de înmatriculare, până la clasificarea fotografiilor sau recunoașterea facială. În esență, clasificarea imaginilor presupune antrenarea unui model care poate primi o imagine ca intrare și poate prezice eticheta corespunzătoare (de exemplu, ce cifră sau obiect apare în imagine).\n"
      ],
      "metadata": {
        "id": "Zm-eAtc3SHxB"
      }
    },
    {
      "cell_type": "markdown",
      "source": [
        "În acest laborator, vom aborda o problemă clasică: recunoașterea cifrelor scrise de mână folosind un set de date binecunoscut (**MNIST**). Vom parcurge același flux ca în laboratoarele anterioare:\n",
        "\n",
        "1.   Încărcarea datelor - vom folosi dataset-ul MNIST, care conține imagini cu cifre 0-9 scrise de mână.\n",
        "2.   Explorarea datelor - vom examina formatul datelor, distribuția etichetelor și vom vizualiza exemple de imagini.\n",
        "3. Preprocesarea - vom pregăti datele pentru model.\n",
        "4. Construirea unui model de clasificare - vom defini un model simplu folosind biblioteca *scikit-learn*.\n",
        "5. Antrenarea modelului și evaluarea performanței - vom antrena modelul pe imagini și vom măsura acuratețea acestuia pe date de test.\n",
        "\n",
        "În plus, în acest laborator, vom crea și o interfață interactivă cu **Gradio**, care va permite desenarea sau încărcarea unei imagini cu o cifră, pentru ca modelul antrenat să facă predicții în timp real."
      ],
      "metadata": {
        "id": "iweEaOxJ3OSq"
      }
    },
    {
      "cell_type": "markdown",
      "source": [
        "## Încărcarea setului de date de imagini (MNIST)\n",
        "\n",
        "**MNIST** (Modified National Institute of Standards and Technology database) este un set de date clasic folosit pentru probleme de recunoaștere a cifrelor scrise de mână.\n",
        "\n",
        "Dataset-ul conține imagini alb-negru (tonuri de gri) de dimensiune 28x28 pixeli, fiecare imagine reprezentând o cifră între 0 și 9. În total, MNIST include *70.000* de imagini. Fiecare pixel are o valoare între 0 și 255 (0 corespondând culorii negru și 255 alb, cifrele fiind de obicei reprezentate cu pixeli albi pe fundal negru).\n"
      ],
      "metadata": {
        "id": "1DK9sXci4nfC"
      }
    },
    {
      "cell_type": "markdown",
      "source": [
        "Pentru a încărca acest set de date în Python, putem folosi fie utilitarul *fetch_openml* din scikit-learn și vom împărți datele în set de antrenament și test."
      ],
      "metadata": {
        "id": "nv-SHyXJ5V-K"
      }
    },
    {
      "cell_type": "code",
      "source": [
        "from sklearn.datasets import fetch_openml\n",
        "from sklearn.model_selection import train_test_split\n",
        "import numpy as np\n",
        "\n",
        "# Încărcăm dataset-ul MNIST (toate cele 70.000 imagini)\n",
        "mnist = fetch_openml('mnist_784', version=1, as_frame=False)\n",
        "X, y = mnist.data, mnist.target.astype(np.int32)\n",
        "\n",
        "# Împărțim automat 60.000 pentru antrenament, 10.000 pentru test\n",
        "X_train, X_test, y_train, y_test = train_test_split(\n",
        "    X, y, train_size=60000, test_size=10000, random_state=42, shuffle=True\n",
        ")\n",
        "\n",
        "print(\"X_train shape:\", X_train.shape)\n",
        "print(\"X_test shape:\", X_test.shape)"
      ],
      "metadata": {
        "colab": {
          "base_uri": "https://localhost:8080/"
        },
        "id": "hMa9o0ZG5UHx",
        "outputId": "eb79e2c2-069a-4c07-c9a7-1f58f4a6d709"
      },
      "execution_count": 1,
      "outputs": [
        {
          "output_type": "stream",
          "name": "stdout",
          "text": [
            "X_train shape: (60000, 784)\n",
            "X_test shape: (10000, 784)\n"
          ]
        }
      ]
    },
    {
      "cell_type": "markdown",
      "source": [
        "După rularea codului, variabilele vor conține:\n",
        "\n",
        "* X_train - un array NumPy cu dimensiunea (60000, 784), unde fiecare rând reprezintă o imagine aplatizată 28x28 = 784 pixeli.\n",
        "* y_train - un array cu 60.000 de etichete (întregi între 0 și 9), corespunzătoare imaginilor de antrenament.\n",
        "* X_test - un array cu dimensiunea (10000, 784), imagini de test aplatizate.\n",
        "* y_test - un array cu 10.000 de etichete pentru imaginile de test."
      ],
      "metadata": {
        "id": "QsFroGjV61_W"
      }
    },
    {
      "cell_type": "markdown",
      "source": [
        "## Explorarea și înțelegerea datelor\n",
        "\n",
        "Înainte de a antrena un model, este important să explorăm datele pentru a înțelege mai bine problema. Vom avea în vedere câteva aspecte de bază:\n",
        "* Exemple de imagini și etichete: vom afișa câteva imagini din setul de date, împreună cu etichetele lor (cifra corectă), pentru a ne asigura că înțelegem ce conține dataset-ul.\n",
        "* Distribuția claselor: vom verifica dacă toate cele 10 cifre apar în mod aproximativ echilibrat în datele de antrenament."
      ],
      "metadata": {
        "id": "hmnudaiK8gif"
      }
    },
    {
      "cell_type": "markdown",
      "source": [
        " Să afișăm câteva imagini din X_train. Vom folosi biblioteca Matplotlib pentru a vizualiza imagini. De exemplu, putem afișa primele 5 imagini din set și etichetele asociată acestora:"
      ],
      "metadata": {
        "id": "ivsAmChU8-Vu"
      }
    },
    {
      "cell_type": "code",
      "source": [
        "import matplotlib.pyplot as plt\n",
        "\n",
        "plt.figure(figsize=(10, 2))\n",
        "for i in range(5):\n",
        "    plt.subplot(1, 5, i + 1)\n",
        "    plt.imshow(X_train[i].reshape(28, 28), cmap='gray')\n",
        "    plt.title(f\"Etichetă: {y_train[i]}\")\n",
        "    plt.axis('off')\n",
        "plt.tight_layout()\n",
        "plt.show()"
      ],
      "metadata": {
        "colab": {
          "base_uri": "https://localhost:8080/",
          "height": 0
        },
        "id": "TXqMqmfL9EKi",
        "outputId": "b28fd7ef-670d-4e5d-ec84-3e87e8414c83"
      },
      "execution_count": 2,
      "outputs": [
        {
          "output_type": "display_data",
          "data": {
            "text/plain": [
              "<Figure size 1000x200 with 5 Axes>"
            ],
            "image/png": "[encoded data removed]"
          },
          "metadata": {}
        }
      ]
    },
    {
      "cell_type": "markdown",
      "source": [
        "Vom verifica dacă datele de antrenament conțin un număr aproximativ egal de exemple pentru fiecare cifră de la 0 la 9. Ideal, dataset-ul ar trebui să fie echilibrat, pentru ca modelul să învețe fiecare clasă în mod similar. Putem folosi Pandas sau NumPy pentru a număra frecvența fiecărei etichete în *y_train* . De exemplu, folosind pandas:"
      ],
      "metadata": {
        "id": "u0mjHFKA9qFe"
      }
    },
    {
      "cell_type": "code",
      "source": [
        "import pandas as pd\n",
        "\n",
        "labels, counts = np.unique(y_train, return_counts=True)\n",
        "freq_series = pd.Series(counts, index=labels)\n",
        "print(freq_series)"
      ],
      "metadata": {
        "colab": {
          "base_uri": "https://localhost:8080/"
        },
        "id": "ILhBNHDG9ziz",
        "outputId": "c7af93d0-4957-4cc8-f43f-006ca5cd52e4"
      },
      "execution_count": 3,
      "outputs": [
        {
          "output_type": "stream",
          "name": "stdout",
          "text": [
            "0    5920\n",
            "1    6725\n",
            "2    6023\n",
            "3    6107\n",
            "4    5918\n",
            "5    5376\n",
            "6    5915\n",
            "7    6238\n",
            "8    5856\n",
            "9    5922\n",
            "dtype: int64\n"
          ]
        }
      ]
    },
    {
      "cell_type": "markdown",
      "source": [
        "**Observație!** Deoarece am folosit împărțire aleatoare, distribuția claselor în *y_train* nu este perfect uniformă. Acest lucru reflectă condiții mai realiste și permite modelului să învețe din date mai diverse."
      ],
      "metadata": {
        "id": "oZSyECLZ-ivu"
      }
    },
    {
      "cell_type": "markdown",
      "source": [
        " ## Preprocesarea imaginilor\n",
        "\n",
        "În forma actuală, imaginile din *X_train* și *X_test* sunt stocate ca vectori unidimensionali de 784 de elemente, corespunzători pixelilor unei imagini 28x28. Acest format este specific funcției *fetch_openml('mnist_784')*, care returnează deja imaginile aplatizate.\n",
        "\n",
        "Pentru a putea antrena un model de învățare automată clasic, vom realiza un singur pas important de preprocesare:\n",
        "* **Normalizarea pixelilor**: Pixelii au valori între 0 și 255. Pentru a aduce toate caracteristicile la aceeași scară, vom împărți valorile la 255, obținând valori în intervalul [0, 1]. Această normalizare ajută algoritmii să învețe mai eficient și să evite dezechilibre numerice în calculul gradientului sau distanțelor.\n",
        "\n"
      ],
      "metadata": {
        "id": "alblTgZG-z2V"
      }
    },
    {
      "cell_type": "code",
      "source": [
        "# Convertim la float și normalizăm la [0,1]\n",
        "X_train = X_train.astype('float32') / 255.0\n",
        "X_test = X_test.astype('float32') / 255.0\n",
        "\n",
        "print(\"Valori pixel normalizate:\", X_train.min(), \"->\", X_train.max())"
      ],
      "metadata": {
        "colab": {
          "base_uri": "https://localhost:8080/"
        },
        "id": "nASXJ2SP-1F8",
        "outputId": "bfb51f6a-090c-46bd-a4ad-473e8a0679fc"
      },
      "execution_count": 4,
      "outputs": [
        {
          "output_type": "stream",
          "name": "stdout",
          "text": [
            "Valori pixel normalizate: 0.0 -> 1.0\n"
          ]
        }
      ]
    },
    {
      "cell_type": "markdown",
      "source": [
        "**Observație!** Dacă am lucra cu un model de rețea neurală convoluțională (CNN), am păstra imaginile în forma lor 2D (28, 28) și nu le-am aplatiza. Însă, algoritmii clasici din scikit-learn (regresie, SVM, arbori de decizie etc.) necesită vectori de caracteristici și nu pot lucra direct cu imagini 2D."
      ],
      "metadata": {
        "id": "uP-wjxU6_hdI"
      }
    },
    {
      "cell_type": "markdown",
      "source": [
        "## Construirea unui model de clasificare\n",
        "\n",
        " Pentru clasificarea cifrelor, vom începe cu un model de bază: **Regresia Logistică**. Regresia logistică este un algoritm liniar de clasificare care, în varianta *multiclass*, poate fi folosit pentru a distinge\n",
        " între mai multe clase (în cazul nostru, 10 clase). Practic, modelul va învăța 10 seturi de coeficienți (câte unul pentru fiecare cifră 0-9) astfel încât să calculeze scoruri pentru fiecare clasă; predicția finală va fi clasa cu\n",
        " scorul cel mai mare."
      ],
      "metadata": {
        "id": "gh-Pvtps_vyF"
      }
    },
    {
      "cell_type": "code",
      "source": [
        "from sklearn.linear_model import LogisticRegression\n",
        "\n",
        "# Inițializăm modelul de regresie logistică\n",
        "model = LogisticRegression(max_iter=1000)"
      ],
      "metadata": {
        "id": "IVlrj_MyBFUl"
      },
      "execution_count": 5,
      "outputs": []
    },
    {
      "cell_type": "markdown",
      "source": [
        "Am setat *max_iter=1000* pentru a permite algoritmului de optimizare să facă până la 1000 de iterații în încercarea de a converge la o soluție (implicit erau 100; pe un set mare ca MNIST, 100 ar putea fi insuficient și am primi un warning de convergență)."
      ],
      "metadata": {
        "id": "L0mmOi6GBOMX"
      }
    },
    {
      "cell_type": "markdown",
      "source": [
        "## Antrenarea modelului\n",
        "\n",
        "Acum că avem modelul definit și datele pregătite, următorul pas este antrenarea efectivă a modelului pe datele de antrenament. Antrenarea presupune ca modelul să învețe din exemple - în cazul regresiei logistice, se vor ajusta coeficienții astfel încât să prezică corect cât mai multeimagini."
      ],
      "metadata": {
        "id": "M_XuGLnkBjrV"
      }
    },
    {
      "cell_type": "code",
      "source": [
        "# Antrenarea modelului pe datele de antrenament\n",
        "model.fit(X_train, y_train)"
      ],
      "metadata": {
        "colab": {
          "base_uri": "https://localhost:8080/",
          "height": 80
        },
        "id": "K3YQozx_BvPa",
        "outputId": "7e19e663-500c-432c-d9d8-f7d91b8c8e54"
      },
      "execution_count": 6,
      "outputs": [
        {
          "output_type": "execute_result",
          "data": {
            "text/plain": [
              "LogisticRegression(max_iter=1000)"
            ],
            "text/html": [
              "<style>#sk-container-id-1 {\n",
              "  /* Definition of color scheme common for light and dark mode */\n",
              "  --sklearn-color-text: #000;\n",
              "  --sklearn-color-text-muted: #666;\n",
              "  --sklearn-color-line: gray;\n",
              "  /* Definition of color scheme for unfitted estimators */\n",
              "  --sklearn-color-unfitted-level-0: #fff5e6;\n",
              "  --sklearn-color-unfitted-level-1: #f6e4d2;\n",
              "  --sklearn-color-unfitted-level-2: #ffe0b3;\n",
              "  --sklearn-color-unfitted-level-3: chocolate;\n",
              "  /* Definition of color scheme for fitted estimators */\n",
              "  --sklearn-color-fitted-level-0: #f0f8ff;\n",
              "  --sklearn-color-fitted-level-1: #d4ebff;\n",
              "  --sklearn-color-fitted-level-2: #b3dbfd;\n",
              "  --sklearn-color-fitted-level-3: cornflowerblue;\n",
              "\n",
              "  /* Specific color for light theme */\n",
              "  --sklearn-color-text-on-default-background: var(--sg-text-color, var(--theme-code-foreground, var(--jp-content-font-color1, black)));\n",
              "  --sklearn-color-background: var(--sg-background-color, var(--theme-background, var(--jp-layout-color0, white)));\n",
              "  --sklearn-color-border-box: var(--sg-text-color, var(--theme-code-foreground, var(--jp-content-font-color1, black)));\n",
              "  --sklearn-color-icon: #696969;\n",
              "\n",
              "  @media (prefers-color-scheme: dark) {\n",
              "    /* Redefinition of color scheme for dark theme */\n",
              "    --sklearn-color-text-on-default-background: var(--sg-text-color, var(--theme-code-foreground, var(--jp-content-font-color1, white)));\n",
              "    --sklearn-color-background: var(--sg-background-color, var(--theme-background, var(--jp-layout-color0, #111)));\n",
              "    --sklearn-color-border-box: var(--sg-text-color, var(--theme-code-foreground, var(--jp-content-font-color1, white)));\n",
              "    --sklearn-color-icon: #878787;\n",
              "  }\n",
              "}\n",
              "\n",
              "#sk-container-id-1 {\n",
              "  color: var(--sklearn-color-text);\n",
              "}\n",
              "\n",
              "#sk-container-id-1 pre {\n",
              "  padding: 0;\n",
              "}\n",
              "\n",
              "#sk-container-id-1 input.sk-hidden--visually {\n",
              "  border: 0;\n",
              "  clip: rect(1px 1px 1px 1px);\n",
              "  clip: rect(1px, 1px, 1px, 1px);\n",
              "  height: 1px;\n",
              "  margin: -1px;\n",
              "  overflow: hidden;\n",
              "  padding: 0;\n",
              "  position: absolute;\n",
              "  width: 1px;\n",
              "}\n",
              "\n",
              "#sk-container-id-1 div.sk-dashed-wrapped {\n",
              "  border: 1px dashed var(--sklearn-color-line);\n",
              "  margin: 0 0.4em 0.5em 0.4em;\n",
              "  box-sizing: border-box;\n",
              "  padding-bottom: 0.4em;\n",
              "  background-color: var(--sklearn-color-background);\n",
              "}\n",
              "\n",
              "#sk-container-id-1 div.sk-container {\n",
              "  /* jupyter's `normalize.less` sets `[hidden] { display: none; }`\n",
              "     but bootstrap.min.css set `[hidden] { display: none !important; }`\n",
              "     so we also need the `!important` here to be able to override the\n",
              "     default hidden behavior on the sphinx rendered scikit-learn.org.\n",
              "     See: https://github.com/scikit-learn/scikit-learn/issues/21755 */\n",
              "  display: inline-block !important;\n",
              "  position: relative;\n",
              "}\n",
              "\n",
              "#sk-container-id-1 div.sk-text-repr-fallback {\n",
              "  display: none;\n",
              "}\n",
              "\n",
              "div.sk-parallel-item,\n",
              "div.sk-serial,\n",
              "div.sk-item {\n",
              "  /* draw centered vertical line to link estimators */\n",
              "  background-image: linear-gradient(var(--sklearn-color-text-on-default-background), var(--sklearn-color-text-on-default-background));\n",
              "  background-size: 2px 100%;\n",
              "  background-repeat: no-repeat;\n",
              "  background-position: center center;\n",
              "}\n",
              "\n",
              "/* Parallel-specific style estimator block */\n",
              "\n",
              "#sk-container-id-1 div.sk-parallel-item::after {\n",
              "  content: \"\";\n",
              "  width: 100%;\n",
              "  border-bottom: 2px solid var(--sklearn-color-text-on-default-background);\n",
              "  flex-grow: 1;\n",
              "}\n",
              "\n",
              "#sk-container-id-1 div.sk-parallel {\n",
              "  display: flex;\n",
              "  align-items: stretch;\n",
              "  justify-content: center;\n",
              "  background-color: var(--sklearn-color-background);\n",
              "  position: relative;\n",
              "}\n",
              "\n",
              "#sk-container-id-1 div.sk-parallel-item {\n",
              "  display: flex;\n",
              "  flex-direction: column;\n",
              "}\n",
              "\n",
              "#sk-container-id-1 div.sk-parallel-item:first-child::after {\n",
              "  align-self: flex-end;\n",
              "  width: 50%;\n",
              "}\n",
              "\n",
              "#sk-container-id-1 div.sk-parallel-item:last-child::after {\n",
              "  align-self: flex-start;\n",
              "  width: 50%;\n",
              "}\n",
              "\n",
              "#sk-container-id-1 div.sk-parallel-item:only-child::after {\n",
              "  width: 0;\n",
              "}\n",
              "\n",
              "/* Serial-specific style estimator block */\n",
              "\n",
              "#sk-container-id-1 div.sk-serial {\n",
              "  display: flex;\n",
              "  flex-direction: column;\n",
              "  align-items: center;\n",
              "  background-color: var(--sklearn-color-background);\n",
              "  padding-right: 1em;\n",
              "  padding-left: 1em;\n",
              "}\n",
              "\n",
              "\n",
              "/* Toggleable style: style used for estimator/Pipeline/ColumnTransformer box that is\n",
              "clickable and can be expanded/collapsed.\n",
              "- Pipeline and ColumnTransformer use this feature and define the default style\n",
              "- Estimators will overwrite some part of the style using the `sk-estimator` class\n",
              "*/\n",
              "\n",
              "/* Pipeline and ColumnTransformer style (default) */\n",
              "\n",
              "#sk-container-id-1 div.sk-toggleable {\n",
              "  /* Default theme specific background. It is overwritten whether we have a\n",
              "  specific estimator or a Pipeline/ColumnTransformer */\n",
              "  background-color: var(--sklearn-color-background);\n",
              "}\n",
              "\n",
              "/* Toggleable label */\n",
              "#sk-container-id-1 label.sk-toggleable__label {\n",
              "  cursor: pointer;\n",
              "  display: flex;\n",
              "  width: 100%;\n",
              "  margin-bottom: 0;\n",
              "  padding: 0.5em;\n",
              "  box-sizing: border-box;\n",
              "  text-align: center;\n",
              "  align-items: start;\n",
              "  justify-content: space-between;\n",
              "  gap: 0.5em;\n",
              "}\n",
              "\n",
              "#sk-container-id-1 label.sk-toggleable__label .caption {\n",
              "  font-size: 0.6rem;\n",
              "  font-weight: lighter;\n",
              "  color: var(--sklearn-color-text-muted);\n",
              "}\n",
              "\n",
              "#sk-container-id-1 label.sk-toggleable__label-arrow:before {\n",
              "  /* Arrow on the left of the label */\n",
              "  content: \"▸\";\n",
              "  float: left;\n",
              "  margin-right: 0.25em;\n",
              "  color: var(--sklearn-color-icon);\n",
              "}\n",
              "\n",
              "#sk-container-id-1 label.sk-toggleable__label-arrow:hover:before {\n",
              "  color: var(--sklearn-color-text);\n",
              "}\n",
              "\n",
              "/* Toggleable content - dropdown */\n",
              "\n",
              "#sk-container-id-1 div.sk-toggleable__content {\n",
              "  max-height: 0;\n",
              "  max-width: 0;\n",
              "  overflow: hidden;\n",
              "  text-align: left;\n",
              "  /* unfitted */\n",
              "  background-color: var(--sklearn-color-unfitted-level-0);\n",
              "}\n",
              "\n",
              "#sk-container-id-1 div.sk-toggleable__content.fitted {\n",
              "  /* fitted */\n",
              "  background-color: var(--sklearn-color-fitted-level-0);\n",
              "}\n",
              "\n",
              "#sk-container-id-1 div.sk-toggleable__content pre {\n",
              "  margin: 0.2em;\n",
              "  border-radius: 0.25em;\n",
              "  color: var(--sklearn-color-text);\n",
              "  /* unfitted */\n",
              "  background-color: var(--sklearn-color-unfitted-level-0);\n",
              "}\n",
              "\n",
              "#sk-container-id-1 div.sk-toggleable__content.fitted pre {\n",
              "  /* unfitted */\n",
              "  background-color: var(--sklearn-color-fitted-level-0);\n",
              "}\n",
              "\n",
              "#sk-container-id-1 input.sk-toggleable__control:checked~div.sk-toggleable__content {\n",
              "  /* Expand drop-down */\n",
              "  max-height: 200px;\n",
              "  max-width: 100%;\n",
              "  overflow: auto;\n",
              "}\n",
              "\n",
              "#sk-container-id-1 input.sk-toggleable__control:checked~label.sk-toggleable__label-arrow:before {\n",
              "  content: \"▾\";\n",
              "}\n",
              "\n",
              "/* Pipeline/ColumnTransformer-specific style */\n",
              "\n",
              "#sk-container-id-1 div.sk-label input.sk-toggleable__control:checked~label.sk-toggleable__label {\n",
              "  color: var(--sklearn-color-text);\n",
              "  background-color: var(--sklearn-color-unfitted-level-2);\n",
              "}\n",
              "\n",
              "#sk-container-id-1 div.sk-label.fitted input.sk-toggleable__control:checked~label.sk-toggleable__label {\n",
              "  background-color: var(--sklearn-color-fitted-level-2);\n",
              "}\n",
              "\n",
              "/* Estimator-specific style */\n",
              "\n",
              "/* Colorize estimator box */\n",
              "#sk-container-id-1 div.sk-estimator input.sk-toggleable__control:checked~label.sk-toggleable__label {\n",
              "  /* unfitted */\n",
              "  background-color: var(--sklearn-color-unfitted-level-2);\n",
              "}\n",
              "\n",
              "#sk-container-id-1 div.sk-estimator.fitted input.sk-toggleable__control:checked~label.sk-toggleable__label {\n",
              "  /* fitted */\n",
              "  background-color: var(--sklearn-color-fitted-level-2);\n",
              "}\n",
              "\n",
              "#sk-container-id-1 div.sk-label label.sk-toggleable__label,\n",
              "#sk-container-id-1 div.sk-label label {\n",
              "  /* The background is the default theme color */\n",
              "  color: var(--sklearn-color-text-on-default-background);\n",
              "}\n",
              "\n",
              "/* On hover, darken the color of the background */\n",
              "#sk-container-id-1 div.sk-label:hover label.sk-toggleable__label {\n",
              "  color: var(--sklearn-color-text);\n",
              "  background-color: var(--sklearn-color-unfitted-level-2);\n",
              "}\n",
              "\n",
              "/* Label box, darken color on hover, fitted */\n",
              "#sk-container-id-1 div.sk-label.fitted:hover label.sk-toggleable__label.fitted {\n",
              "  color: var(--sklearn-color-text);\n",
              "  background-color: var(--sklearn-color-fitted-level-2);\n",
              "}\n",
              "\n",
              "/* Estimator label */\n",
              "\n",
              "#sk-container-id-1 div.sk-label label {\n",
              "  font-family: monospace;\n",
              "  font-weight: bold;\n",
              "  display: inline-block;\n",
              "  line-height: 1.2em;\n",
              "}\n",
              "\n",
              "#sk-container-id-1 div.sk-label-container {\n",
              "  text-align: center;\n",
              "}\n",
              "\n",
              "/* Estimator-specific */\n",
              "#sk-container-id-1 div.sk-estimator {\n",
              "  font-family: monospace;\n",
              "  border: 1px dotted var(--sklearn-color-border-box);\n",
              "  border-radius: 0.25em;\n",
              "  box-sizing: border-box;\n",
              "  margin-bottom: 0.5em;\n",
              "  /* unfitted */\n",
              "  background-color: var(--sklearn-color-unfitted-level-0);\n",
              "}\n",
              "\n",
              "#sk-container-id-1 div.sk-estimator.fitted {\n",
              "  /* fitted */\n",
              "  background-color: var(--sklearn-color-fitted-level-0);\n",
              "}\n",
              "\n",
              "/* on hover */\n",
              "#sk-container-id-1 div.sk-estimator:hover {\n",
              "  /* unfitted */\n",
              "  background-color: var(--sklearn-color-unfitted-level-2);\n",
              "}\n",
              "\n",
              "#sk-container-id-1 div.sk-estimator.fitted:hover {\n",
              "  /* fitted */\n",
              "  background-color: var(--sklearn-color-fitted-level-2);\n",
              "}\n",
              "\n",
              "/* Specification for estimator info (e.g. \"i\" and \"?\") */\n",
              "\n",
              "/* Common style for \"i\" and \"?\" */\n",
              "\n",
              ".sk-estimator-doc-link,\n",
              "a:link.sk-estimator-doc-link,\n",
              "a:visited.sk-estimator-doc-link {\n",
              "  float: right;\n",
              "  font-size: smaller;\n",
              "  line-height: 1em;\n",
              "  font-family: monospace;\n",
              "  background-color: var(--sklearn-color-background);\n",
              "  border-radius: 1em;\n",
              "  height: 1em;\n",
              "  width: 1em;\n",
              "  text-decoration: none !important;\n",
              "  margin-left: 0.5em;\n",
              "  text-align: center;\n",
              "  /* unfitted */\n",
              "  border: var(--sklearn-color-unfitted-level-1) 1pt solid;\n",
              "  color: var(--sklearn-color-unfitted-level-1);\n",
              "}\n",
              "\n",
              ".sk-estimator-doc-link.fitted,\n",
              "a:link.sk-estimator-doc-link.fitted,\n",
              "a:visited.sk-estimator-doc-link.fitted {\n",
              "  /* fitted */\n",
              "  border: var(--sklearn-color-fitted-level-1) 1pt solid;\n",
              "  color: var(--sklearn-color-fitted-level-1);\n",
              "}\n",
              "\n",
              "/* On hover */\n",
              "div.sk-estimator:hover .sk-estimator-doc-link:hover,\n",
              ".sk-estimator-doc-link:hover,\n",
              "div.sk-label-container:hover .sk-estimator-doc-link:hover,\n",
              ".sk-estimator-doc-link:hover {\n",
              "  /* unfitted */\n",
              "  background-color: var(--sklearn-color-unfitted-level-3);\n",
              "  color: var(--sklearn-color-background);\n",
              "  text-decoration: none;\n",
              "}\n",
              "\n",
              "div.sk-estimator.fitted:hover .sk-estimator-doc-link.fitted:hover,\n",
              ".sk-estimator-doc-link.fitted:hover,\n",
              "div.sk-label-container:hover .sk-estimator-doc-link.fitted:hover,\n",
              ".sk-estimator-doc-link.fitted:hover {\n",
              "  /* fitted */\n",
              "  background-color: var(--sklearn-color-fitted-level-3);\n",
              "  color: var(--sklearn-color-background);\n",
              "  text-decoration: none;\n",
              "}\n",
              "\n",
              "/* Span, style for the box shown on hovering the info icon */\n",
              ".sk-estimator-doc-link span {\n",
              "  display: none;\n",
              "  z-index: 9999;\n",
              "  position: relative;\n",
              "  font-weight: normal;\n",
              "  right: .2ex;\n",
              "  padding: .5ex;\n",
              "  margin: .5ex;\n",
              "  width: min-content;\n",
              "  min-width: 20ex;\n",
              "  max-width: 50ex;\n",
              "  color: var(--sklearn-color-text);\n",
              "  box-shadow: 2pt 2pt 4pt #999;\n",
              "  /* unfitted */\n",
              "  background: var(--sklearn-color-unfitted-level-0);\n",
              "  border: .5pt solid var(--sklearn-color-unfitted-level-3);\n",
              "}\n",
              "\n",
              ".sk-estimator-doc-link.fitted span {\n",
              "  /* fitted */\n",
              "  background: var(--sklearn-color-fitted-level-0);\n",
              "  border: var(--sklearn-color-fitted-level-3);\n",
              "}\n",
              "\n",
              ".sk-estimator-doc-link:hover span {\n",
              "  display: block;\n",
              "}\n",
              "\n",
              "/* \"?\"-specific style due to the `<a>` HTML tag */\n",
              "\n",
              "#sk-container-id-1 a.estimator_doc_link {\n",
              "  float: right;\n",
              "  font-size: 1rem;\n",
              "  line-height: 1em;\n",
              "  font-family: monospace;\n",
              "  background-color: var(--sklearn-color-background);\n",
              "  border-radius: 1rem;\n",
              "  height: 1rem;\n",
              "  width: 1rem;\n",
              "  text-decoration: none;\n",
              "  /* unfitted */\n",
              "  color: var(--sklearn-color-unfitted-level-1);\n",
              "  border: var(--sklearn-color-unfitted-level-1) 1pt solid;\n",
              "}\n",
              "\n",
              "#sk-container-id-1 a.estimator_doc_link.fitted {\n",
              "  /* fitted */\n",
              "  border: var(--sklearn-color-fitted-level-1) 1pt solid;\n",
              "  color: var(--sklearn-color-fitted-level-1);\n",
              "}\n",
              "\n",
              "/* On hover */\n",
              "#sk-container-id-1 a.estimator_doc_link:hover {\n",
              "  /* unfitted */\n",
              "  background-color: var(--sklearn-color-unfitted-level-3);\n",
              "  color: var(--sklearn-color-background);\n",
              "  text-decoration: none;\n",
              "}\n",
              "\n",
              "#sk-container-id-1 a.estimator_doc_link.fitted:hover {\n",
              "  /* fitted */\n",
              "  background-color: var(--sklearn-color-fitted-level-3);\n",
              "}\n",
              "</style><div id=\"sk-container-id-1\" class=\"sk-top-container\"><div class=\"sk-text-repr-fallback\"><pre>LogisticRegression(max_iter=1000)</pre><b>In a Jupyter environment, please rerun this cell to show the HTML representation or trust the notebook. <br />On GitHub, the HTML representation is unable to render, please try loading this page with nbviewer.org.</b></div><div class=\"sk-container\" hidden><div class=\"sk-item\"><div class=\"sk-estimator fitted sk-toggleable\"><input class=\"sk-toggleable__control sk-hidden--visually\" id=\"sk-estimator-id-1\" type=\"checkbox\" checked><label for=\"sk-estimator-id-1\" class=\"sk-toggleable__label fitted sk-toggleable__label-arrow\"><div><div>LogisticRegression</div></div><div><a class=\"sk-estimator-doc-link fitted\" rel=\"noreferrer\" target=\"_blank\" href=\"https://scikit-learn.org/1.6/modules/generated/sklearn.linear_model.LogisticRegression.html\">?<span>Documentation for LogisticRegression</span></a><span class=\"sk-estimator-doc-link fitted\">i<span>Fitted</span></span></div></label><div class=\"sk-toggleable__content fitted\"><pre>LogisticRegression(max_iter=1000)</pre></div> </div></div></div></div>"
            ]
          },
          "metadata": {},
          "execution_count": 6
        }
      ]
    },
    {
      "cell_type": "markdown",
      "source": [
        "**Atenție!** Antrenarea pe întreg setul MNIST (60k imagini, 784 trăsături fiecare) poate dura câteva zeci de secunde până la câteva minute, în funcție de resursele puse la dispoziție. În mod normal, logistic regression va rula pe CPU."
      ],
      "metadata": {
        "id": "AUNA2w6NB6O_"
      }
    },
    {
      "cell_type": "markdown",
      "source": [
        "## Evaluarea performanței modelului\n",
        "\n",
        "Pentru a evalua cât de bine a învățat modelul să recunoască cifrele, vom folosi setul de test (care conține imagini care nu au fost văzute de model în timpul antrenamentului). Vom prezice etichetele pentru imaginile de test și vom compara predicțiile cu etichetele reale.\n",
        "\n",
        "Cea mai simplă **metrică** de evaluare pentru clasificare este **acuratețea** (accuracy), definită ca proporția de exemple pentru care modelul a nimerit clasa corectă.\n",
        "\n",
        "În cazul nostru, acuratețea = (număr de imagini de test clasificate corect) / (număr total imagini de test). Vom calcula această valoare. Ideal, ne dorim o acuratețe cât mai aproape de 1 (sau 100%)."
      ],
      "metadata": {
        "id": "vj9dGeC6Ci3d"
      }
    },
    {
      "cell_type": "code",
      "source": [
        "from sklearn.metrics import accuracy_score\n",
        "\n",
        "# Prezicem etichetele pentru imaginile de test\n",
        "y_pred = model.predict(X_test)\n",
        "\n",
        "# Calculăm acuratețea comparând predicțiile cu etichetele reale\n",
        "acc = accuracy_score(y_test, y_pred)\n",
        "print(f\"Acuratețea pe setul de test: {acc:.4f}\")"
      ],
      "metadata": {
        "colab": {
          "base_uri": "https://localhost:8080/"
        },
        "id": "v1_ITEj0C2pe",
        "outputId": "a4164d22-fa61-491c-c272-ec065911fb82"
      },
      "execution_count": 7,
      "outputs": [
        {
          "output_type": "stream",
          "name": "stdout",
          "text": [
            "Acuratețea pe setul de test: 0.9202\n"
          ]
        }
      ]
    },
    {
      "cell_type": "markdown",
      "source": [
        " Pentru a înțelege unde face modelul greșeli, vom calcula matricea de confuzie\n",
        " O **matrice de confuzie** este o tabelă N x N (în cazul nostru 10x10, N=10 clase) în care pe linia i și coloana j se află numărul de exemple din clasa reală i pe care modelul le-a prezis ca fiind clasa j. Diagonala principală conține predicțiile corecte (clasă prezisă = clasă reală)."
      ],
      "metadata": {
        "id": "rhlIRQYCDYcC"
      }
    },
    {
      "cell_type": "code",
      "source": [
        "import seaborn as sns\n",
        "import matplotlib.pyplot as plt\n",
        "from sklearn.metrics import confusion_matrix\n",
        "\n",
        "# Calculează matricea de confuzie\n",
        "cm = confusion_matrix(y_test, y_pred)\n",
        "\n",
        "# Listează clasele ca șiruri (pentru etichete clare)\n",
        "labels = [str(i) for i in range(10)]\n",
        "\n",
        "# Creează figura\n",
        "plt.figure(figsize=(8, 6))\n",
        "sns.heatmap(cm, annot=True, fmt='d', cmap='Blues',\n",
        "            xticklabels=labels, yticklabels=labels)\n",
        "\n",
        "plt.xlabel('Etichetă prezisă')\n",
        "plt.ylabel('Etichetă reală')\n",
        "plt.title('Matricea de confuzie (MNIST)')\n",
        "plt.tight_layout()\n",
        "plt.show()"
      ],
      "metadata": {
        "colab": {
          "base_uri": "https://localhost:8080/",
          "height": 607
        },
        "id": "CswXOPMqDi_w",
        "outputId": "e751f428-8cb0-41db-c99f-6ac9171a4424"
      },
      "execution_count": 8,
      "outputs": [
        {
          "output_type": "display_data",
          "data": {
            "text/plain": [
              "<Figure size 800x600 with 2 Axes>"
            ],
            "image/png": "[encoded data removed]"
          },
          "metadata": {}
        }
      ]
    },
    {
      "cell_type": "markdown",
      "source": [
        "## Crearea unei interfețe interactive cu Gradio\n",
        "\n",
        "Acum vine partea interactivă și distractivă. Vom crea o mică aplicație web care permite oricui să deseneze de mână o cifră și să obțină predicția modelului nostru în timp real. Vom folosi biblioteca Gradio pentru a construi această interfață foarte ușor, direct din notebook."
      ],
      "metadata": {
        "id": "cwgLFNSmEHbz"
      }
    },
    {
      "cell_type": "markdown",
      "source": [
        "**Gradio** este o bibliotecă open-source care permite crearea de interfețe grafice web simple pentru modele de ML cu efort minim. Practic, putem lega o funcție Python (care face predicția cu modelul nostru) la o interfață de tip \"desen\" sau \"imagine\" ca input și un text sau label ca output, iar Gradio se ocupă de restul - ne oferă un UI web unde putem interacționa cu modelul."
      ],
      "metadata": {
        "id": "Hna_MhxfEYBc"
      }
    },
    {
      "cell_type": "markdown",
      "source": [
        " În mediul Colab, trebuie să instalăm Gradio și apoi să îl importăm în proiect. Putem face acest lucru astfel:"
      ],
      "metadata": {
        "id": "mankuwwSEogb"
      }
    },
    {
      "cell_type": "code",
      "source": [
        "!pip install gradio"
      ],
      "metadata": {
        "colab": {
          "base_uri": "https://localhost:8080/"
        },
        "id": "HbK0y6iYEu9_",
        "outputId": "71c39449-2296-453c-f372-98f073f49831"
      },
      "execution_count": 9,
      "outputs": [
        {
          "output_type": "stream",
          "name": "stdout",
          "text": [
            "Collecting gradio\n",
            "  Downloading gradio-5.29.0-py3-none-any.whl.metadata (16 kB)\n",
            "Collecting aiofiles<25.0,>=22.0 (from gradio)\n",
            "  Downloading aiofiles-24.1.0-py3-none-any.whl.metadata (10 kB)\n",
            "Requirement already satisfied: anyio<5.0,>=3.0 in /usr/local/lib/python3.11/dist-packages (from gradio) (4.9.0)\n",
            "Collecting fastapi<1.0,>=0.115.2 (from gradio)\n",
            "  Downloading fastapi-0.115.12-py3-none-any.whl.metadata (27 kB)\n",
            "Collecting ffmpy (from gradio)\n",
            "  Downloading ffmpy-0.5.0-py3-none-any.whl.metadata (3.0 kB)\n",
            "Collecting gradio-client==1.10.0 (from gradio)\n",
            "  Downloading gradio_client-1.10.0-py3-none-any.whl.metadata (7.1 kB)\n",
            "Collecting groovy~=0.1 (from gradio)\n",
            "  Downloading groovy-0.1.2-py3-none-any.whl.metadata (6.1 kB)\n",
            "Requirement already satisfied: httpx>=0.24.1 in /usr/local/lib/python3.11/dist-packages (from gradio) (0.28.1)\n",
            "Requirement already satisfied: huggingface-hub>=0.28.1 in /usr/local/lib/python3.11/dist-packages (from gradio) (0.30.2)\n",
            "Requirement already satisfied: jinja2<4.0 in /usr/local/lib/python3.11/dist-packages (from gradio) (3.1.6)\n",
            "Requirement already satisfied: markupsafe<4.0,>=2.0 in /usr/local/lib/python3.11/dist-packages (from gradio) (3.0.2)\n",
            "Requirement already satisfied: numpy<3.0,>=1.0 in /usr/local/lib/python3.11/dist-packages (from gradio) (2.0.2)\n",
            "Requirement already satisfied: orjson~=3.0 in /usr/local/lib/python3.11/dist-packages (from gradio) (3.10.18)\n",
            "Requirement already satisfied: packaging in /usr/local/lib/python3.11/dist-packages (from gradio) (24.2)\n",
            "Requirement already satisfied: pandas<3.0,>=1.0 in /usr/local/lib/python3.11/dist-packages (from gradio) (2.2.2)\n",
            "Requirement already satisfied: pillow<12.0,>=8.0 in /usr/local/lib/python3.11/dist-packages (from gradio) (11.2.1)\n",
            "Requirement already satisfied: pydantic<2.12,>=2.0 in /usr/local/lib/python3.11/dist-packages (from gradio) (2.11.4)\n",
            "Collecting pydub (from gradio)\n",
            "  Downloading pydub-0.25.1-py2.py3-none-any.whl.metadata (1.4 kB)\n",
            "Collecting python-multipart>=0.0.18 (from gradio)\n",
            "  Downloading python_multipart-0.0.20-py3-none-any.whl.metadata (1.8 kB)\n",
            "Requirement already satisfied: pyyaml<7.0,>=5.0 in /usr/local/lib/python3.11/dist-packages (from gradio) (6.0.2)\n",
            "Collecting ruff>=0.9.3 (from gradio)\n",
            "  Downloading ruff-0.11.9-py3-none-manylinux_2_17_x86_64.manylinux2014_x86_64.whl.metadata (25 kB)\n",
            "Collecting safehttpx<0.2.0,>=0.1.6 (from gradio)\n",
            "  Downloading safehttpx-0.1.6-py3-none-any.whl.metadata (4.2 kB)\n",
            "Collecting semantic-version~=2.0 (from gradio)\n",
            "  Downloading semantic_version-2.10.0-py2.py3-none-any.whl.metadata (9.7 kB)\n",
            "Collecting starlette<1.0,>=0.40.0 (from gradio)\n",
            "  Downloading starlette-0.46.2-py3-none-any.whl.metadata (6.2 kB)\n",
            "Collecting tomlkit<0.14.0,>=0.12.0 (from gradio)\n",
            "  Downloading tomlkit-0.13.2-py3-none-any.whl.metadata (2.7 kB)\n",
            "Requirement already satisfied: typer<1.0,>=0.12 in /usr/local/lib/python3.11/dist-packages (from gradio) (0.15.3)\n",
            "Requirement already satisfied: typing-extensions~=4.0 in /usr/local/lib/python3.11/dist-packages (from gradio) (4.13.2)\n",
            "Collecting uvicorn>=0.14.0 (from gradio)\n",
            "  Downloading uvicorn-0.34.2-py3-none-any.whl.metadata (6.5 kB)\n",
            "Requirement already satisfied: fsspec in /usr/local/lib/python3.11/dist-packages (from gradio-client==1.10.0->gradio) (2025.3.2)\n",
            "Requirement already satisfied: websockets<16.0,>=10.0 in /usr/local/lib/python3.11/dist-packages (from gradio-client==1.10.0->gradio) (15.0.1)\n",
            "Requirement already satisfied: idna>=2.8 in /usr/local/lib/python3.11/dist-packages (from anyio<5.0,>=3.0->gradio) (3.10)\n",
            "Requirement already satisfied: sniffio>=1.1 in /usr/local/lib/python3.11/dist-packages (from anyio<5.0,>=3.0->gradio) (1.3.1)\n",
            "Requirement already satisfied: certifi in /usr/local/lib/python3.11/dist-packages (from httpx>=0.24.1->gradio) (2025.4.26)\n",
            "Requirement already satisfied: httpcore==1.* in /usr/local/lib/python3.11/dist-packages (from httpx>=0.24.1->gradio) (1.0.9)\n",
            "Requirement already satisfied: h11>=0.16 in /usr/local/lib/python3.11/dist-packages (from httpcore==1.*->httpx>=0.24.1->gradio) (0.16.0)\n",
            "Requirement already satisfied: filelock in /usr/local/lib/python3.11/dist-packages (from huggingface-hub>=0.28.1->gradio) (3.18.0)\n",
            "Requirement already satisfied: requests in /usr/local/lib/python3.11/dist-packages (from huggingface-hub>=0.28.1->gradio) (2.32.3)\n",
            "Requirement already satisfied: tqdm>=4.42.1 in /usr/local/lib/python3.11/dist-packages (from huggingface-hub>=0.28.1->gradio) (4.67.1)\n",
            "Requirement already satisfied: python-dateutil>=2.8.2 in /usr/local/lib/python3.11/dist-packages (from pandas<3.0,>=1.0->gradio) (2.9.0.post0)\n",
            "Requirement already satisfied: pytz>=2020.1 in /usr/local/lib/python3.11/dist-packages (from pandas<3.0,>=1.0->gradio) (2025.2)\n",
            "Requirement already satisfied: tzdata>=2022.7 in /usr/local/lib/python3.11/dist-packages (from pandas<3.0,>=1.0->gradio) (2025.2)\n",
            "Requirement already satisfied: annotated-types>=0.6.0 in /usr/local/lib/python3.11/dist-packages (from pydantic<2.12,>=2.0->gradio) (0.7.0)\n",
            "Requirement already satisfied: pydantic-core==2.33.2 in /usr/local/lib/python3.11/dist-packages (from pydantic<2.12,>=2.0->gradio) (2.33.2)\n",
            "Requirement already satisfied: typing-inspection>=0.4.0 in /usr/local/lib/python3.11/dist-packages (from pydantic<2.12,>=2.0->gradio) (0.4.0)\n",
            "Requirement already satisfied: click>=8.0.0 in /usr/local/lib/python3.11/dist-packages (from typer<1.0,>=0.12->gradio) (8.1.8)\n",
            "Requirement already satisfied: shellingham>=1.3.0 in /usr/local/lib/python3.11/dist-packages (from typer<1.0,>=0.12->gradio) (1.5.4)\n",
            "Requirement already satisfied: rich>=10.11.0 in /usr/local/lib/python3.11/dist-packages (from typer<1.0,>=0.12->gradio) (13.9.4)\n",
            "Requirement already satisfied: six>=1.5 in /usr/local/lib/python3.11/dist-packages (from python-dateutil>=2.8.2->pandas<3.0,>=1.0->gradio) (1.17.0)\n",
            "Requirement already satisfied: markdown-it-py>=2.2.0 in /usr/local/lib/python3.11/dist-packages (from rich>=10.11.0->typer<1.0,>=0.12->gradio) (3.0.0)\n",
            "Requirement already satisfied: pygments<3.0.0,>=2.13.0 in /usr/local/lib/python3.11/dist-packages (from rich>=10.11.0->typer<1.0,>=0.12->gradio) (2.19.1)\n",
            "Requirement already satisfied: charset-normalizer<4,>=2 in /usr/local/lib/python3.11/dist-packages (from requests->huggingface-hub>=0.28.1->gradio) (3.4.1)\n",
            "Requirement already satisfied: urllib3<3,>=1.21.1 in /usr/local/lib/python3.11/dist-packages (from requests->huggingface-hub>=0.28.1->gradio) (2.4.0)\n",
            "Requirement already satisfied: mdurl~=0.1 in /usr/local/lib/python3.11/dist-packages (from markdown-it-py>=2.2.0->rich>=10.11.0->typer<1.0,>=0.12->gradio) (0.1.2)\n",
            "Downloading gradio-5.29.0-py3-none-any.whl (54.1 MB)\n",
            "\u001b[2K   \u001b[90m━━━━━━━━━━━━━━━━━━━━━━━━━━━━━━━━━━━━━━━━\u001b[0m \u001b[32m54.1/54.1 MB\u001b[0m \u001b[31m19.4 MB/s\u001b[0m eta \u001b[36m0:00:00\u001b[0m\n",
            "\u001b[?25hDownloading gradio_client-1.10.0-py3-none-any.whl (322 kB)\n",
            "\u001b[2K   \u001b[90m━━━━━━━━━━━━━━━━━━━━━━━━━━━━━━━━━━━━━━━━\u001b[0m \u001b[32m322.9/322.9 kB\u001b[0m \u001b[31m21.8 MB/s\u001b[0m eta \u001b[36m0:00:00\u001b[0m\n",
            "\u001b[?25hDownloading aiofiles-24.1.0-py3-none-any.whl (15 kB)\n",
            "Downloading fastapi-0.115.12-py3-none-any.whl (95 kB)\n",
            "\u001b[2K   \u001b[90m━━━━━━━━━━━━━━━━━━━━━━━━━━━━━━━━━━━━━━━━\u001b[0m \u001b[32m95.2/95.2 kB\u001b[0m \u001b[31m7.0 MB/s\u001b[0m eta \u001b[36m0:00:00\u001b[0m\n",
            "\u001b[?25hDownloading groovy-0.1.2-py3-none-any.whl (14 kB)\n",
            "Downloading python_multipart-0.0.20-py3-none-any.whl (24 kB)\n",
            "Downloading ruff-0.11.9-py3-none-manylinux_2_17_x86_64.manylinux2014_x86_64.whl (11.5 MB)\n",
            "\u001b[2K   \u001b[90m━━━━━━━━━━━━━━━━━━━━━━━━━━━━━━━━━━━━━━━━\u001b[0m \u001b[32m11.5/11.5 MB\u001b[0m \u001b[31m110.0 MB/s\u001b[0m eta \u001b[36m0:00:00\u001b[0m\n",
            "\u001b[?25hDownloading safehttpx-0.1.6-py3-none-any.whl (8.7 kB)\n",
            "Downloading semantic_version-2.10.0-py2.py3-none-any.whl (15 kB)\n",
            "Downloading starlette-0.46.2-py3-none-any.whl (72 kB)\n",
            "\u001b[2K   \u001b[90m━━━━━━━━━━━━━━━━━━━━━━━━━━━━━━━━━━━━━━━━\u001b[0m \u001b[32m72.0/72.0 kB\u001b[0m \u001b[31m5.5 MB/s\u001b[0m eta \u001b[36m0:00:00\u001b[0m\n",
            "\u001b[?25hDownloading tomlkit-0.13.2-py3-none-any.whl (37 kB)\n",
            "Downloading uvicorn-0.34.2-py3-none-any.whl (62 kB)\n",
            "\u001b[2K   \u001b[90m━━━━━━━━━━━━━━━━━━━━━━━━━━━━━━━━━━━━━━━━\u001b[0m \u001b[32m62.5/62.5 kB\u001b[0m \u001b[31m4.3 MB/s\u001b[0m eta \u001b[36m0:00:00\u001b[0m\n",
            "\u001b[?25hDownloading ffmpy-0.5.0-py3-none-any.whl (6.0 kB)\n",
            "Downloading pydub-0.25.1-py2.py3-none-any.whl (32 kB)\n",
            "Installing collected packages: pydub, uvicorn, tomlkit, semantic-version, ruff, python-multipart, groovy, ffmpy, aiofiles, starlette, safehttpx, gradio-client, fastapi, gradio\n",
            "Successfully installed aiofiles-24.1.0 fastapi-0.115.12 ffmpy-0.5.0 gradio-5.29.0 gradio-client-1.10.0 groovy-0.1.2 pydub-0.25.1 python-multipart-0.0.20 ruff-0.11.9 safehttpx-0.1.6 semantic-version-2.10.0 starlette-0.46.2 tomlkit-0.13.2 uvicorn-0.34.2\n"
          ]
        }
      ]
    },
    {
      "cell_type": "code",
      "source": [
        "import gradio as gr"
      ],
      "metadata": {
        "id": "4uG0W0xMEj9p"
      },
      "execution_count": 10,
      "outputs": []
    },
    {
      "cell_type": "markdown",
      "source": [
        "Gradio are nevoie de o funcție specială pe care să o apeleze ori de câte ori utilizatorul oferă o imagine nouă. Această funcție va primi imaginea ca parametru și trebuie să returneze predicția modelului.\n",
        "\n",
        "În cazul nostru, funcția trebuie să facă următorii pași:\n",
        "1. Primește imaginea sub formă de array NumPy bidimensional, cu dimensiunea 28x28 (alb-negru), furnizată automat de Gradio.\n",
        "2. Preprocesează imaginea exact ca în setul de testare:\n",
        "  * o aplatizează într-un vector de 784 valori;\n",
        "  * o normalizează la intervalul [0, 1].\n",
        "3. Aplică modelul antrenat (model.predict) pentru a obține eticheta prezisă.\n",
        "4. Returnează eticheta sub formă de int sau str (între 0 și 9)."
      ],
      "metadata": {
        "id": "46bnfJRpFaTW"
      }
    },
    {
      "cell_type": "code",
      "source": [
        "def predict_digit(img):\n",
        "    img_flat = img.reshape(1, 784).astype('float32')\n",
        "    pred = model.predict(img_flat)[0]\n",
        "    return int(pred)"
      ],
      "metadata": {
        "id": "xlNXo29TFr7x"
      },
      "execution_count": 47,
      "outputs": []
    },
    {
      "cell_type": "markdown",
      "source": [
        "Înainte de a conecta modelul la o interfață Gradio, este o bună practică să verificăm dacă funcția definită funcționează corect. Putem face acest lucru testând-o pe o imagine cunoscută din X_test și comparând rezultatul cu apelul direct *model.predict(...)*."
      ],
      "metadata": {
        "id": "zW1ccPN1F2QH"
      }
    },
    {
      "cell_type": "code",
      "source": [
        "import matplotlib.pyplot as plt\n",
        "\n",
        "# Afișăm prima imagine din X_test pentru verificare\n",
        "plt.imshow(X_test[0].reshape(28, 28), cmap='gray')\n",
        "plt.title(f\"Etichetă reală: {y_test[0]}\")\n",
        "plt.axis('off')\n",
        "plt.show()\n",
        "\n",
        "# Apelăm funcția personalizată\n",
        "print(\"Predicție folosind predict_digit:\", predict_digit(X_test[0].reshape(28, 28)))\n",
        "\n",
        "# Comparație cu predicția directă\n",
        "print(\"Predicție folosind model.predict:\", model.predict(X_test[0].reshape(1, 784))[0])"
      ],
      "metadata": {
        "colab": {
          "base_uri": "https://localhost:8080/",
          "height": 463
        },
        "id": "ZpIefqcrF7uB",
        "outputId": "27fd4b33-2080-4950-ed02-0a8b30c9d604"
      },
      "execution_count": 48,
      "outputs": [
        {
          "output_type": "display_data",
          "data": {
            "text/plain": [
              "<Figure size 640x480 with 1 Axes>"
            ],
            "image/png": "[encoded data removed]"
          },
          "metadata": {}
        },
        {
          "output_type": "stream",
          "name": "stdout",
          "text": [
            "Predicție folosind predict_digit: 8\n",
            "Predicție folosind model.predict: 8\n"
          ]
        }
      ]
    },
    {
      "cell_type": "markdown",
      "source": [
        "Acum vom folosi clasa gr.Interface pentru a defini interfața interactivă. Trebuie să specificăm:\n",
        "\n",
        "* **fn** - funcția care realizează predicția (în cazul nostru, predict_digit - cu anumite modificări astfel încât imaginea primită să aibă proprietățile imaginilor din setul de antrenament).\n",
        "\n",
        "* **inputs** - tipul de input așteptat. Folosim componenta *gr.Sketchpad()*, care oferă o pânză digitală pe care utilizatorul poate desena o cifră. Aceasta returnează imaginea completă desenată sub forma unui dicționar ce conține cheia \"composite\", adică imaginea finală combinată.\n",
        "\n",
        "* **outputs** - tipul de output. Deoarece dorim să afișăm un rezultat textual („Predicție: 3” de exemplu), folosim \"text\" sau gr.Label() ca tip de ieșire.\n",
        "\n",
        "Pentru a obține predicții corecte, imaginea desenată trece printr-un proces de preprocesare care simulează aspectul cifrelor din MNIST:\n",
        "\n",
        "* Imaginea este convertită la tonuri de gri și inversată pentru a avea fundal negru și cifră albă.\n",
        "\n",
        "* Se face un crop automat la zona utilă (bounding box), pentru a elimina spațiul gol.\n",
        "\n",
        "* Cifra este redimensionată și centrată într-un canvas de 28x28 pixeli, conform formatului standard MNIST.\n",
        "\n",
        "* Valorile pixelilor sunt normalizate între 0 și 1, apoi imaginea este aplatizată într-un vector de dimensiune 784, așa cum a fost modelul antrenat.\n",
        "\n",
        "\n",
        "**Observație!** Pentru rezultate mai bune, încercați să desenați cifra pe toată suprafața canvas-ului."
      ],
      "metadata": {
        "id": "7TcsMh4IGvd0"
      }
    },
    {
      "cell_type": "code",
      "source": [
        "import gradio as gr\n",
        "import numpy as np\n",
        "from PIL import Image, ImageOps\n",
        "\n",
        "def center_and_resize(img):\n",
        "    # Crop la bounding box\n",
        "    img = ImageOps.invert(img)\n",
        "    bbox = img.getbbox()\n",
        "    img = img.crop(bbox)\n",
        "    img = ImageOps.invert(img)\n",
        "\n",
        "    # Redimensionăm într-un canvas 28x28 și centrăm\n",
        "    img = img.resize((20, 20), Image.Resampling.LANCZOS)\n",
        "    new_img = Image.new(\"L\", (28, 28), 0)\n",
        "    new_img.paste(img, (4, 4))\n",
        "    return new_img\n",
        "\n",
        "def predict_digit(img):\n",
        "    try:\n",
        "        img = img[\"composite\"]\n",
        "        img = Image.fromarray(img[..., :3]).convert(\"L\")\n",
        "        img = ImageOps.invert(img)  # fundal negru, cifră albă\n",
        "        img = center_and_resize(img)\n",
        "\n",
        "        img_np = np.array(img)\n",
        "        img_flat = img_np.reshape(1, 784) / 255.0\n",
        "\n",
        "        pred_class = model.predict(img_flat)[0]\n",
        "        proba = model.predict_proba(img_flat)[0]\n",
        "\n",
        "        return f\"Predicție: {pred_class}\"\n",
        "\n",
        "    except Exception as e:\n",
        "        return f\"Eroare: {str(e)}\"\n",
        "\n",
        "interface = gr.Interface(\n",
        "    fn=predict_digit,\n",
        "    inputs=gr.Sketchpad(),\n",
        "    outputs=\"text\",\n",
        "    title=\"Recunoaștere cifre scrise de mână\",\n",
        "    description=\"Desenează o cifră și apasă Submit\"\n",
        ")\n",
        "\n",
        "interface.launch()\n"
      ],
      "metadata": {
        "colab": {
          "base_uri": "https://localhost:8080/",
          "height": 646
        },
        "id": "BMKWbFi5IgF5",
        "outputId": "42e0f944-025d-446c-9894-5b4c1ffe4149"
      },
      "execution_count": 53,
      "outputs": [
        {
          "output_type": "stream",
          "name": "stdout",
          "text": [
            "It looks like you are running Gradio on a hosted a Jupyter notebook. For the Gradio app to work, sharing must be enabled. Automatically setting `share=True` (you can turn this off by setting `share=False` in `launch()` explicitly).\n",
            "\n",
            "Colab notebook detected. To show errors in colab notebook, set debug=True in launch()\n",
            "* Running on public URL: https://ce770bfbb7f0d83241.gradio.live\n",
            "\n",
            "This share link expires in 1 week. For free permanent hosting and GPU upgrades, run `gradio deploy` from the terminal in the working directory to deploy to Hugging Face Spaces (https://huggingface.co/spaces)\n"
          ]
        },
        {
          "output_type": "display_data",
          "data": {
            "text/plain": [
              "<IPython.core.display.HTML object>"
            ],
            "text/html": [
              "<div><iframe src=\"https://ce770bfbb7f0d83241.gradio.live\" width=\"100%\" height=\"500\" allow=\"autoplay; camera; microphone; clipboard-read; clipboard-write;\" frameborder=\"0\" allowfullscreen></iframe></div>"
            ]
          },
          "metadata": {}
        },
        {
          "output_type": "execute_result",
          "data": {
            "text/plain": []
          },
          "metadata": {},
          "execution_count": 53
        }
      ]
    },
    {
      "cell_type": "markdown",
      "source": [],
      "metadata": {
        "id": "TP91kJhAbxpx"
      }
    },
    {
      "cell_type": "markdown",
      "source": [
        "# Exerciții\n",
        "\n",
        "În această parte a laboratorului, vom antrena un model CNN (Convolutional Neural Network) folosind PyTorch, pe același set de date MNIST ca în prima parte."
      ],
      "metadata": {
        "id": "MaM9W6Vtb1tK"
      }
    },
    {
      "cell_type": "markdown",
      "source": [
        "## Încărcarea datelor\n",
        "- Încărcăm setul MNIST de pe OpenML.\n",
        "- Convertim etichetele în întregi (`int64`).\n",
        "- Împărțim în date de antrenament și test: 60.000 pentru antrenare și 10.000 pentru test."
      ],
      "metadata": {
        "id": "NKShQvTdfeHI"
      }
    },
    {
      "cell_type": "code",
      "source": [
        "from sklearn.datasets import fetch_openml\n",
        "from sklearn.model_selection import train_test_split\n",
        "import numpy as np\n",
        "\n",
        "mnist = fetch_openml('mnist_784', version=1, as_frame=False)\n",
        "X, y = mnist.data, mnist.target.astype(np.int64)\n",
        "\n",
        "X_train, X_test, y_train, y_test = train_test_split(\n",
        "    X, y, train_size=60000, test_size=10000, random_state=42, shuffle=True\n",
        ")\n",
        "\n",
        "print(\"X_train shape:\", X_train.shape)\n",
        "print(\"X_test shape:\", X_test.shape)"
      ],
      "metadata": {
        "colab": {
          "base_uri": "https://localhost:8080/"
        },
        "id": "kbeL4iPSflha",
        "outputId": "c40215e3-6dcb-46de-a5cb-f2a8afe27f36"
      },
      "execution_count": 54,
      "outputs": [
        {
          "output_type": "stream",
          "name": "stdout",
          "text": [
            "X_train shape: (60000, 784)\n",
            "X_test shape: (10000, 784)\n"
          ]
        }
      ]
    },
    {
      "cell_type": "markdown",
      "source": [
        "## Preprocesarea datelor pentru PyTorch\n",
        "- Reshape la formatul (număr_imagini, 1, 28, 28) - adică adăugăm dimensiunea canalului (alb-negru).\n",
        "- Normalizăm valorile pixelilor în [0, 1].\n",
        "- Creăm tensori pentru inputuri și etichete.\n",
        "- Construim `DataLoader` pentru a putea parcurge datele în batch-uri."
      ],
      "metadata": {
        "id": "dPkbg2sBfslu"
      }
    },
    {
      "cell_type": "code",
      "source": [
        "import torch\n",
        "from torch.utils.data import TensorDataset, DataLoader\n",
        "\n",
        "X_train_tensor = torch.tensor(X_train.reshape(-1, 1, 28, 28), dtype=torch.float32) / 255.0\n",
        "y_train_tensor = torch.tensor(y_train, dtype=torch.long)\n",
        "\n",
        "X_test_tensor = torch.tensor(X_test.reshape(-1, 1, 28, 28), dtype=torch.float32) / 255.0\n",
        "y_test_tensor = torch.tensor(y_test, dtype=torch.long)\n",
        "\n",
        "train_dataset = TensorDataset(X_train_tensor, y_train_tensor)\n",
        "test_dataset = TensorDataset(X_test_tensor, y_test_tensor)\n",
        "\n",
        "train_loader = DataLoader(train_dataset, batch_size=64, shuffle=True)\n",
        "test_loader = DataLoader(test_dataset, batch_size=64)"
      ],
      "metadata": {
        "id": "DKbzuZaBf1Ec"
      },
      "execution_count": 55,
      "outputs": []
    },
    {
      "cell_type": "markdown",
      "source": [
        "## Definirea modelului CNN\n",
        "- Definim o clasă `SimpleCNN` care extinde `nn.Module` (tipic pentru PyTorch);\n",
        "- Adăugăm două straturi convoluționale cu activări ReLU și pooling între ele;\n",
        "- Aplatizăm rezultatul (flatten);\n",
        "- Adăugăm două straturi complet conectate (dense);\n",
        "- Ieșirea finală are 10 neuroni - unul pentru fiecare cifră posibilă.\n"
      ],
      "metadata": {
        "id": "bdcUSQnVf5XV"
      }
    },
    {
      "cell_type": "code",
      "source": [
        "import torch.nn as nn\n",
        "import torch.nn.functional as F\n",
        "\n",
        "class SimpleCNN(nn.Module):\n",
        "    def __init__(self):\n",
        "        super().__init__()\n",
        "        self.conv1 = nn.Conv2d(1, 8, 3, padding=1)\n",
        "        self.pool = nn.MaxPool2d(2, 2)\n",
        "        self.conv2 = nn.Conv2d(8, 16, 3, padding=1)\n",
        "        self.fc1 = nn.Linear(16 * 14 * 14, 64)\n",
        "        self.fc2 = nn.Linear(64, 10)\n",
        "\n",
        "    def forward(self, x):\n",
        "        x = self.pool(F.relu(self.conv1(x)))\n",
        "        x = F.relu(self.conv2(x))\n",
        "        x = x.view(-1, 16 * 14 * 14)\n",
        "        x = F.relu(self.fc1(x))\n",
        "        x = self.fc2(x)\n",
        "        return x\n",
        "\n",
        "model_cnn = SimpleCNN()"
      ],
      "metadata": {
        "id": "05i9nQXyf_Eo"
      },
      "execution_count": 57,
      "outputs": []
    },
    {
      "cell_type": "markdown",
      "source": [
        "## Antrenarea modelului CNN\n",
        "- Definim funcția de pierdere (`CrossEntropyLoss`) și optimizatorul (`Adam`);\n",
        "- Rulăm un loop de antrenare pe 5 epoci;\n",
        "- La fiecare batch, calculăm loss-ul și facem backpropagation."
      ],
      "metadata": {
        "id": "-pQLq1LLgKcG"
      }
    },
    {
      "cell_type": "code",
      "source": [
        "import torch.optim as optim\n",
        "\n",
        "device = \"cpu\"\n",
        "model_cnn.to(\"cpu\")\n",
        "\n",
        "criterion = nn.CrossEntropyLoss()\n",
        "optimizer = optim.Adam(model_cnn.parameters(), lr=0.001)\n",
        "\n",
        "for epoch in range(5):\n",
        "    model_cnn.train()\n",
        "    running_loss = 0.0\n",
        "    for inputs, labels in train_loader:\n",
        "        inputs, labels = inputs.to(device), labels.to(device)\n",
        "\n",
        "        optimizer.zero_grad()\n",
        "        outputs = model_cnn(inputs)\n",
        "        loss = criterion(outputs, labels)\n",
        "        loss.backward()\n",
        "        optimizer.step()\n",
        "        running_loss += loss.item()\n",
        "\n",
        "    print(f\"Epoca {epoch+1} – Loss: {running_loss / len(train_loader):.4f}\")"
      ],
      "metadata": {
        "colab": {
          "base_uri": "https://localhost:8080/"
        },
        "id": "kh3wzx8jgOUY",
        "outputId": "e1a460bc-c88e-41e0-b4bf-9523e513a1e8"
      },
      "execution_count": 60,
      "outputs": [
        {
          "output_type": "stream",
          "name": "stdout",
          "text": [
            "Epoca 1 – Loss: 0.1916\n",
            "Epoca 2 – Loss: 0.0866\n",
            "Epoca 3 – Loss: 0.0616\n",
            "Epoca 4 – Loss: 0.0495\n",
            "Epoca 5 – Loss: 0.0388\n"
          ]
        }
      ]
    },
    {
      "cell_type": "markdown",
      "source": [
        "## Evaluarea performanței pe setul de test\n",
        "- Trecem modelul în modul *eval()* pentru inferență;\n",
        "- Oprim calculul gradientului (*torch.no_grad()*);\n",
        "- Calculăm acuratețea pe tot setul de test."
      ],
      "metadata": {
        "id": "Ts_MZU15giXq"
      }
    },
    {
      "cell_type": "code",
      "source": [
        "model_cnn.eval()\n",
        "correct = 0\n",
        "total = 0\n",
        "all_preds = []\n",
        "all_labels = []\n",
        "\n",
        "with torch.no_grad():\n",
        "    for inputs, labels in test_loader:\n",
        "        inputs, labels = inputs.to(device), labels.to(device)\n",
        "        outputs = model_cnn(inputs)\n",
        "        _, predicted = torch.max(outputs, 1)\n",
        "        total += labels.size(0)\n",
        "        correct += (predicted == labels).sum().item()\n",
        "        all_preds.extend(predicted.cpu().numpy())\n",
        "        all_labels.extend(labels.cpu().numpy())\n",
        "\n",
        "print(f\"Acuratețea CNN pe setul de test: {correct / total:.4f}\")"
      ],
      "metadata": {
        "colab": {
          "base_uri": "https://localhost:8080/"
        },
        "id": "YRNSFJaqgjPF",
        "outputId": "18a60024-4c21-4d7f-c128-4b08bbd1530d"
      },
      "execution_count": 65,
      "outputs": [
        {
          "output_type": "stream",
          "name": "stdout",
          "text": [
            "Acuratețea CNN pe setul de test: 0.9846\n",
            "Acuratețea CNN pe setul de test: 0.9846\n"
          ]
        }
      ]
    },
    {
      "cell_type": "code",
      "source": [
        "# Matricea de confuzie\n",
        "cm = confusion_matrix(all_labels, all_preds)\n",
        "\n",
        "plt.figure(figsize=(8, 6))\n",
        "sns.heatmap(cm, annot=True, fmt=\"d\", cmap=\"Blues\", xticklabels=list(range(10)), yticklabels=list(range(10)))\n",
        "plt.xlabel(\"Etichetă prezisă\")\n",
        "plt.ylabel(\"Etichetă reală\")\n",
        "plt.title(\"Matricea de confuzie - CNN pe MNIST\")\n",
        "plt.tight_layout()\n",
        "plt.show()"
      ],
      "metadata": {
        "colab": {
          "base_uri": "https://localhost:8080/",
          "height": 607
        },
        "id": "l0g0YR8ihml_",
        "outputId": "c74bcb04-5bd5-4ef6-f837-d43ae2956b39"
      },
      "execution_count": 66,
      "outputs": [
        {
          "output_type": "display_data",
          "data": {
            "text/plain": [
              "<Figure size 800x600 with 2 Axes>"
            ],
            "image/png": "[encoded data removed]"
          },
          "metadata": {}
        }
      ]
    },
    {
      "cell_type": "markdown",
      "source": [
        "## Integrarea modelului cu Gradio\n",
        "\n",
        "- Creăm o funcție *predict_digit_cn* care primește imaginea desenată;\n",
        "- Redimensionăm la 28x28, convertim în alb-negru, inversăm culorile și normalizăm imaginea;\n",
        "- Transformăm imaginea într-un tensor compatibil cu PyTorch;\n",
        "- Modelul CNN face predicția, iar rezultatul este returnat în interfață."
      ],
      "metadata": {
        "id": "skE_BRjWg4cn"
      }
    },
    {
      "cell_type": "code",
      "source": [
        "import gradio as gr\n",
        "from PIL import Image\n",
        "\n",
        "def predict_digit_cnn(img):\n",
        "    try:\n",
        "        img = img[\"composite\"]\n",
        "        img_pil = Image.fromarray(img).convert(\"L\").resize((28, 28), Image.Resampling.LANCZOS)\n",
        "        img_np = 255 - np.array(img_pil)\n",
        "        img_tensor = torch.tensor(img_np, dtype=torch.float32).unsqueeze(0).unsqueeze(0) / 255.0\n",
        "\n",
        "        model_cnn.eval()\n",
        "        with torch.no_grad():\n",
        "            output = model_cnn(img_tensor.to(device))\n",
        "            prediction = torch.argmax(output, dim=1).item()\n",
        "\n",
        "        return f\"Predicție CNN: {prediction}\"\n",
        "    except Exception as e:\n",
        "        return f\"Eroare: {str(e)}\"\n",
        "\n",
        "interface = gr.Interface(\n",
        "    fn=predict_digit,\n",
        "    inputs=gr.Sketchpad(),\n",
        "    outputs=\"text\",\n",
        "    title=\"Recunoaștere cifre scrise de mână\",\n",
        "    description=\"Desenează o cifră și apasă Submit\"\n",
        ")\n",
        "\n",
        "interface.launch()"
      ],
      "metadata": {
        "colab": {
          "base_uri": "https://localhost:8080/",
          "height": 646
        },
        "id": "ifBrJYPuhBx8",
        "outputId": "aa6a19d8-4719-476a-a746-b85bda39fc6d"
      },
      "execution_count": 67,
      "outputs": [
        {
          "output_type": "stream",
          "name": "stdout",
          "text": [
            "It looks like you are running Gradio on a hosted a Jupyter notebook. For the Gradio app to work, sharing must be enabled. Automatically setting `share=True` (you can turn this off by setting `share=False` in `launch()` explicitly).\n",
            "\n",
            "Colab notebook detected. To show errors in colab notebook, set debug=True in launch()\n",
            "* Running on public URL: https://367b36a3711d6970e9.gradio.live\n",
            "\n",
            "This share link expires in 1 week. For free permanent hosting and GPU upgrades, run `gradio deploy` from the terminal in the working directory to deploy to Hugging Face Spaces (https://huggingface.co/spaces)\n"
          ]
        },
        {
          "output_type": "display_data",
          "data": {
            "text/plain": [
              "<IPython.core.display.HTML object>"
            ],
            "text/html": [
              "<div><iframe src=\"https://367b36a3711d6970e9.gradio.live\" width=\"100%\" height=\"500\" allow=\"autoplay; camera; microphone; clipboard-read; clipboard-write;\" frameborder=\"0\" allowfullscreen></iframe></div>"
            ]
          },
          "metadata": {}
        },
        {
          "output_type": "execute_result",
          "data": {
            "text/plain": []
          },
          "metadata": {},
          "execution_count": 67
        }
      ]
    }
  ]
}