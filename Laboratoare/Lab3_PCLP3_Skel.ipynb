{
  "cells": [
    {
      "cell_type": "markdown",
      "metadata": {
        "id": "fH0HLOyI5jCD"
      },
      "source": [
        "## PCLP3  Laboratorul 3 : NumPy\n",
        "\n",
        "\n",
        "- Andrei-Daniel Voicu: <andrei.voicu133@gmail.com>\n",
        "- Mihai Nan: <mihai.nan@upb.ro>"
      ]
    },
    {
      "cell_type": "markdown",
      "metadata": {
        "id": "sCzjBMyCHmVl"
      },
      "source": [
        "## Ce este NumPy?"
      ]
    },
    {
      "cell_type": "markdown",
      "metadata": {
        "id": "x5nCQyrjLjkY"
      },
      "source": [
        "**NumPy** este un pachet Python folosit în principal pentru calcul științific și numeric. Este foarte popular în rândul oamenilor de știință din domeniul datelor și al analiștilor pentru eficiența sa și gama largă de operații pe array-uri pe care le oferă."
      ]
    },
    {
      "cell_type": "code",
      "execution_count": null,
      "metadata": {
        "colab": {
          "base_uri": "https://localhost:8080/"
        },
        "id": "nNTm7NY_Hl_W",
        "outputId": "dc84ddbf-bae0-4fe6-8488-15be845e1d6d"
      },
      "outputs": [
        {
          "name": "stdout",
          "output_type": "stream",
          "text": [
            "<class 'numpy.ndarray'>\n",
            "[1 2 3]\n",
            "[[1.5 2.  3. ]\n",
            " [4.  5.  6. ]]\n"
          ]
        }
      ],
      "source": [
        "import numpy as np\n",
        "\n",
        "# Definirea unui tablou unidimensional\n",
        "a = np.array([1,2,3])\n",
        "print(type(a))\n",
        "print(a)\n",
        "\n",
        "# Definirea unui tablou bidimensional, cu elemente de tip float\n",
        "b = np.array([(1.5,2,3), (4,5,6)], dtype = float)\n",
        "print(b)"
      ]
    },
    {
      "cell_type": "markdown",
      "metadata": {
        "id": "ZB9jqcV0HmP1"
      },
      "source": [
        "## De ce utilizam NumPy?"
      ]
    },
    {
      "cell_type": "markdown",
      "metadata": {
        "id": "KIcijocFID02"
      },
      "source": [
        "| Avantaje | Dezavantaje |\n",
        "| --- | --- |\n",
        "| Operații vectorizate eficient | Necesită timp pentru a-l învăța |\n",
        "| Simplificarea lucrului cu tablouri multi-dimensionale | Listele NumPy sunt omogene |\n",
        "| Gamă largă de funcții matematice | Suport restrâns pentru alte tipuri decât cele numerice |\n",
        "| Performanțe uluitoare | Nu este adecvat pentru colectii de date tabelare (unde pot lipsi valori) |"
      ]
    },
    {
      "cell_type": "markdown",
      "metadata": {
        "id": "pVndhx6b2lz4"
      },
      "source": [
        "Mai întâi, să luăm în considerare modul în care listele Python și vectorii Numpy stochează datele. O listă Python stochează elemente ca obiecte separate, fiecare poate fi de orice tip. Cu toate acestea, un vector NumPy este un vector de tip omogen, ceea ce înseamnă că toate elementele din vector sunt de același tip, reducând semnificativ utilizarea memoriei.\n",
        "\n",
        "De exemplu, să presupunem că dorim să stocăm un interval de 1000 de numere întregi. Să comparăm utilizarea memoriei unei liste Python și a unui vector Numpy:"
      ]
    },
    {
      "cell_type": "code",
      "execution_count": null,
      "metadata": {
        "id": "wwtIPOKF248U",
        "outputId": "72c13fb8-7f5f-49cb-d0f7-7d2a709286ff"
      },
      "outputs": [
        {
          "name": "stdout",
          "output_type": "stream",
          "text": [
            "8448728\n",
            "8000104\n"
          ]
        }
      ],
      "source": [
        "import sys\n",
        "import numpy as np\n",
        "\n",
        "list_of_numbers = []\n",
        "for i in range(1000000):\n",
        "    list_of_numbers.append(i)\n",
        "sys.getsizeof(list_of_numbers)\n",
        "\n",
        "arr = np.zeros((1000000,))\n",
        "for i in range(1000000):\n",
        "    arr[i] = i\n",
        "\n",
        "print(sys.getsizeof(list_of_numbers))\n",
        "print(sys.getsizeof(arr))"
      ]
    },
    {
      "cell_type": "markdown",
      "metadata": {
        "id": "fNR1GMGB3EcC"
      },
      "source": [
        "Acum să trecem la viteza de calcul. Deoarece Numpy utilizează blocuri continue de memorie, acesta poate profita de operațiunile vectorizate, care sunt procesate utilizând instrucțiuni SIMD (Single Instruction, Multiple Data). Acest lucru duce la calcule mai rapide. Listele Python, pe de altă parte, nu beneficiază de acest lucru din cauza stocării lor împrăștiată în memorie ."
      ]
    },
    {
      "cell_type": "code",
      "execution_count": null,
      "metadata": {
        "id": "-GdtLnHe3Elw",
        "outputId": "610bc32e-9af3-46d1-a883-e495d164f2c5"
      },
      "outputs": [
        {
          "name": "stdout",
          "output_type": "stream",
          "text": [
            "Time taken to add Python lists:  0.08071351051330566\n",
            "Time taken to add Numpy arrays:  0.003309011459350586\n"
          ]
        }
      ],
      "source": [
        "import numpy as np\n",
        "import time\n",
        "\n",
        "# Define two Python lists\n",
        "py_list1 = list(range(1000000))\n",
        "py_list2 = list(range(1000000, 2000000))\n",
        "\n",
        "# Define two Numpy arrays\n",
        "np_array1 = np.arange(1000000)\n",
        "np_array2 = np.arange(1000000, 2000000)\n",
        "\n",
        "# Adding Python lists\n",
        "start_time = time.time()\n",
        "result_list = [a + b for a, b in zip(py_list1, py_list2)]\n",
        "print(\"Time taken to add Python lists: \", time.time() - start_time)\n",
        "\n",
        "# Adding Numpy arrays\n",
        "start_time = time.time()\n",
        "result_array = np_array1 + np_array2\n",
        "print(\"Time taken to add Numpy arrays: \", time.time() - start_time)"
      ]
    },
    {
      "cell_type": "markdown",
      "metadata": {
        "id": "TGM2bew6I5LP"
      },
      "source": [
        "## Operatii NumPy"
      ]
    },
    {
      "cell_type": "markdown",
      "metadata": {
        "id": "lpUCRN5hH--0"
      },
      "source": [
        "### Operații matematice"
      ]
    },
    {
      "cell_type": "code",
      "execution_count": null,
      "metadata": {
        "colab": {
          "base_uri": "https://localhost:8080/"
        },
        "id": "rC8YYTAiI1Y0",
        "outputId": "f44c42b8-e244-439b-87e8-923c77d80b8b"
      },
      "outputs": [
        {
          "name": "stdout",
          "output_type": "stream",
          "text": [
            "Adunare: [ 9  8  3 10 15]\n",
            "Scadere: [ 5 -2  1  2 -5]\n",
            "Inmultire: [14 15  2 24 50]\n",
            "Impartire: [3.5 0.6 2.  1.5 0.5]\n",
            "Medie: 4.6\n",
            "Suma: 23\n",
            "Max: 7\n",
            "Min: 2\n"
          ]
        }
      ],
      "source": [
        "arr1 = np.array([7, 3, 2, 6, 5])\n",
        "arr2 = np.array([2, 5, 1, 4, 10])\n",
        "\n",
        "# Operații matematice\n",
        "arr_add = arr1 + arr2\n",
        "arr_sub = arr1 - arr2\n",
        "arr_mul = arr1 * arr2\n",
        "arr_div = arr1 / arr2\n",
        "\n",
        "print(f\"Adunare: {arr_add}\")\n",
        "print(f\"Scadere: {arr_sub}\")\n",
        "print(f\"Inmultire: {arr_mul}\")\n",
        "print(f\"Impartire: {arr_div}\")\n",
        "\n",
        "# Funcții statistice\n",
        "mean = np.mean(arr1)\n",
        "sum = np.sum(arr1)\n",
        "max = np.max(arr1)\n",
        "min = np.min(arr1)\n",
        "\n",
        "print(f\"Medie: {mean}\")\n",
        "print(f\"Suma: {sum}\")\n",
        "print(f\"Max: {max}\")\n",
        "print(f\"Min: {min}\")"
      ]
    },
    {
      "cell_type": "markdown",
      "metadata": {
        "id": "T4xaKUqHJWRE"
      },
      "source": []
    },
    {
      "cell_type": "markdown",
      "metadata": {
        "id": "9UUhBAaVG6EE"
      },
      "source": [
        "### Transformări"
      ]
    },
    {
      "cell_type": "markdown",
      "metadata": {
        "id": "FlNovnTwHXCf"
      },
      "source": [
        "Extragerea elementelor este identică cu extragerea elementelor din listele Python clasice:"
      ]
    },
    {
      "cell_type": "code",
      "execution_count": null,
      "metadata": {
        "colab": {
          "base_uri": "https://localhost:8080/"
        },
        "id": "ZnbFJQ2xG8cE",
        "outputId": "b8e12b1a-6f19-4fee-a2d8-9a6f926e9389"
      },
      "outputs": [
        {
          "name": "stdout",
          "output_type": "stream",
          "text": [
            "4\n",
            "2\n"
          ]
        }
      ],
      "source": [
        "# Extragerea unui element din vector.\n",
        "a = np.array([4,6,9])\n",
        "print(a[0])\n",
        "\n",
        "# Extragerea unui element in cazul unui tablou multi-dimensional.\n",
        "a = np.array([(1,2,3), (4,5,6)], dtype = int)\n",
        "print(a[0][1])"
      ]
    },
    {
      "cell_type": "markdown",
      "metadata": {
        "id": "NRq1uxSqHkFC"
      },
      "source": [
        "Putem sa utilizăm \"slicing\" tot în același mod cum utilizăm pe listele Python."
      ]
    },
    {
      "cell_type": "code",
      "execution_count": null,
      "metadata": {
        "id": "Y5Ax_ZNAHkMu"
      },
      "outputs": [],
      "source": [
        "a = np.array( [4,6,9] )\n",
        "print(a[0:2])"
      ]
    },
    {
      "cell_type": "markdown",
      "metadata": {
        "id": "4jyGZoa0KIhu"
      },
      "source": [
        "O funcționalitate foarte puternică o reprezintă posibilitatea filtrării datelor printr-o expresie logică (formă și mai compactă asemănătoare cu list comprehensions)."
      ]
    },
    {
      "cell_type": "code",
      "execution_count": null,
      "metadata": {
        "id": "ZyWdh6n2KIpa"
      },
      "outputs": [],
      "source": [
        "numbers = np.array([1, 2, 3, 4, 5, 6, 7, 8, 9, 10])\n",
        "\n",
        "# Crearea unei copii.\n",
        "numbers_copy = numbers.copy()\n",
        "\n",
        "# Modificarea valorilor pare la 0.\n",
        "numbers_copy[numbers % 2 == 0] = 0\n",
        "\n",
        "print(numbers_copy)"
      ]
    },
    {
      "cell_type": "markdown",
      "metadata": {
        "id": "u2ZMXOWXH-BO"
      },
      "source": [
        "Există și câteva funcții des utilizate pentru a modifica forma tablourilor."
      ]
    },
    {
      "cell_type": "code",
      "execution_count": null,
      "metadata": {
        "id": "NTgR2cuzIAAx"
      },
      "outputs": [],
      "source": [
        "arr = np.array([[1, 2, 3], [4, 5, 6], [7, 8, 9]])\n",
        "\n",
        "# Transformă array-ul 2D într-unul 1D\n",
        "flattened = arr.flatten()\n",
        "\n",
        "# Transpune array-ul 2D\n",
        "transposed = arr.T\n",
        "\n",
        "# Transformă array-ul 2D într-unul 1D\n",
        "reshaped = arr.reshape(1, 9)\n",
        "\n",
        "print(f\"Flatten: {flattened}\")\n",
        "print(f\"Transpose:\\n {transposed}\")\n",
        "print(f\"Reshape: {reshaped}\")"
      ]
    },
    {
      "cell_type": "markdown",
      "metadata": {
        "id": "q1WjNeRR52Fy"
      },
      "source": [
        "## Exerciții propuse"
      ]
    },
    {
      "cell_type": "markdown",
      "metadata": {
        "id": "Nq_DUvAO5N6m"
      },
      "source": [
        "1. Construiți un vector cu primele 16 numere naturale nenule. Pentru acest vector aplicați o operație care să-l transforme într-o matrice cu 4 linii și 4 coloane."
      ]
    },
    {
      "cell_type": "code",
      "execution_count": null,
      "metadata": {
        "id": "M7RzYRdk5OET"
      },
      "outputs": [],
      "source": [
        "# TODO 1"
      ]
    },
    {
      "cell_type": "markdown",
      "metadata": {
        "id": "hVdNuHKJ5OLs"
      },
      "source": [
        "2. Pornind de la matricea definită la exercițiul anterior, scrieți instrucțiuni pentru afișarea elementelor colorate în următoarea imagine.\n",
        "\n",
        "<a href=\"https://ibb.co/mNtNfh5\"><img src=\"https://i.ibb.co/qJ9JTmY/Screenshot-from-2024-04-22-01-19-12.png\" alt=\"Screenshot-from-2024-04-22-01-19-12\" border=\"0\"></a>"
      ]
    },
    {
      "cell_type": "code",
      "execution_count": null,
      "metadata": {
        "id": "YuhDsSmK5OSt"
      },
      "outputs": [],
      "source": [
        "# TODO 2"
      ]
    },
    {
      "cell_type": "markdown",
      "metadata": {
        "id": "_L0oEyLclnaN"
      },
      "source": [
        "3. Implementați funcția care calculează descompunerea $L \\cdot U$ pentru o matrice $A$. Pentru acest lucru, urmăriți pașii:"
      ]
    },
    {
      "cell_type": "markdown",
      "metadata": {
        "id": "UZz4VazD5OYG"
      },
      "source": [
        "1. Inițializăm matricea $L$ cu matricea identitate $I$.\n",
        "2. Inițializăm $U$ cu $A$\n",
        "3. Pentru $i = 1, \\dots, n$\n",
        "\t4. Pentru $j = i+1, \\dots, n$\n",
        "\t\t5. $L_{ji} = \\frac{U_{ji}}{U_{ii}}$\n",
        "\t\t6. $U_j = (U_j - L_{ji}U_{i})$, unde $U_{i}$ reprezintă linia $i$ din $U$   \n",
        "7. Returnăm tuplul cu $L$ și $U$"
      ]
    },
    {
      "cell_type": "code",
      "execution_count": null,
      "metadata": {
        "id": "4ypHHnUr5Oc2"
      },
      "outputs": [],
      "source": [
        "# TODO 3\n",
        "def lu(A):\n",
        "    pass"
      ]
    },
    {
      "cell_type": "markdown",
      "metadata": {
        "id": "8liav7Sa5Rxl"
      },
      "source": [
        "4. Implementați o funcție care preia ca input un array unidimensional și returnează o matrice bidimensională. Transformarea din array unidimensional în matrice bidimensională se va face folosind conceptul de \"strides\" sau pași.\n",
        "Pentru context, fiecare \"pas\" reprezintă o deplasare în array-ul unidimensional, iar \"lungimea ferestrei\" indică numărul de elemente din array care vor fi incluse în fiecare sub-array al matricei bidimensionale.\n",
        "\n",
        "**Hint:**\n",
        "  *numpy.lib.stride_tricks*"
      ]
    },
    {
      "cell_type": "code",
      "execution_count": null,
      "metadata": {
        "id": "oXYQh4d35Omz"
      },
      "outputs": [],
      "source": [
        "def gen_strides(a, stride_len, window_len):\n",
        "  # TODO 4\n",
        "  pass"
      ]
    },
    {
      "cell_type": "markdown",
      "metadata": {
        "id": "CSkQEYzZ0JQS"
      },
      "source": [
        "5. Citiți de la intrare două matrici de dimensiuni diferite, prima de dimensiune (n, m) și a doua de dimensiune (p, q). Implementați o funcție care să calculeze și să returneze produsul Kronecker între cele două matrici introduse.\n",
        "\n",
        "**Intrare:**\n",
        "- Prima linie conține două numere întregi, n și m, reprezentând dimensiunile primei matrici.\n",
        "- Următoarele n linii conțin câte m numere fiecare, reprezentând elementele primei matrici.\n",
        "- Linia următoare conține două numere întregi, p și q, reprezentând dimensiunile celei de-a doua matrici.\n",
        "- Următoarele p linii conțin câte q numere fiecare, reprezentând elementele celei de-a doua matrici.\n",
        "\n",
        "**Ieșire:**\n",
        "- Matricea rezultată din calcularea produsului Kronecker între cele două matrici introduse.\n",
        "\n",
        "\n",
        "**Hint:**\n",
        "- Produsul Kronecker între două matrici este o operație care combină două matrici pentru a produce o nouă matrice. Mai multe detalii despre cum se calculează produsul Kronecker între două matrici puteți găsi [aici](https://en.wikipedia.org/wiki/Kronecker_product).\n",
        "- În Python, produsul Kronecker între două matrici se poate calcula cu ajutorul funcției numpy.kron."
      ]
    },
    {
      "cell_type": "code",
      "execution_count": null,
      "metadata": {
        "id": "F9CKnVOU0Iv7"
      },
      "outputs": [],
      "source": [
        "# TODO 5"
      ]
    },
    {
      "cell_type": "markdown",
      "metadata": {
        "id": "XtqQzSGv0wFg"
      },
      "source": [
        "6. Implementați un algoritm de detecție a contururilor dintr-o imagine folosind operatorul Sobel. Programul ar trebui să încarce o imagine de la intrare, să aplice filtrul Sobel pentru a detecta marginile și apoi să salveze imaginea rezultată.\n",
        "\n",
        "**Hint:**\n",
        "- Operatorul Sobel: https://homepages.inf.ed.ac.uk/rbf/HIPR2/sobel.htm\n",
        "  "
      ]
    },
    {
      "cell_type": "code",
      "execution_count": null,
      "metadata": {
        "id": "orwvxXgS0uF3"
      },
      "outputs": [],
      "source": [
        "import numpy as np\n",
        "from PIL import Image\n",
        "\n",
        "def sobel_edge_detection(img):\n",
        "    # TODO 6\n",
        "    pass\n",
        "\n",
        "def main():\n",
        "    # Load the image\n",
        "    img = Image.open(\"test.png\").convert('L')\n",
        "    img = np.array(img)\n",
        "\n",
        "    # Apply Sobel edge detection\n",
        "    sobel_img = sobel_edge_detection(img)\n",
        "\n",
        "    # Convert the result to an image and save it\n",
        "    sobel_img = Image.fromarray(sobel_img)\n",
        "    sobel_img.convert('RGB').save(\"output.jpg\")\n",
        "\n",
        "if __name__ == \"__main__\":\n",
        "    main()"
      ]
    }
  ],
  "metadata": {
    "colab": {
      "collapsed_sections": [
        "lpUCRN5hH--0"
      ],
      "provenance": [],
      "toc_visible": true
    },
    "kernelspec": {
      "display_name": "Python 3 (ipykernel)",
      "language": "python",
      "name": "python3"
    },
    "language_info": {
      "codemirror_mode": {
        "name": "ipython",
        "version": 3
      },
      "file_extension": ".py",
      "mimetype": "text/x-python",
      "name": "python",
      "nbconvert_exporter": "python",
      "pygments_lexer": "ipython3",
      "version": "3.9.13"
    }
  },
  "nbformat": 4,
  "nbformat_minor": 0
}