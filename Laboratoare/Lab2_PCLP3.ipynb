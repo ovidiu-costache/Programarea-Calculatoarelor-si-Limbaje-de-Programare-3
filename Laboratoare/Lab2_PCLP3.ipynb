{
  "cells": [
    {
      "cell_type": "markdown",
      "metadata": {
        "id": "KN8MeEOQZGcD"
      },
      "source": [
        "## PCLP3  Laboratorul 2 : Structuri de Date\n",
        "\n",
        "\n",
        "- Andrei-Daniel Voicu: <andrei.voicu133@gmail.com>\n",
        "- Mihai Nan: <mihai.nan@upb.ro>\n"
      ]
    },
    {
      "cell_type": "markdown",
      "metadata": {
        "id": "s7zU3xLkaOf6"
      },
      "source": [
        "# Tupluri"
      ]
    },
    {
      "cell_type": "markdown",
      "metadata": {
        "id": "y5KrXuY4aamF"
      },
      "source": [
        "În Python, tuplurile sunt structuri de date asemănătoare cu listele, dar spre deosebire de acestea, nu sunt mutabile. Altfel spus, odată creat tuplul, elementele acestuia nu mai pot fi modificate. Cu toate acestea, operațiile care se pot aplica pe liste pot fi folosite și pe tupluri, fără nicio diferență."
      ]
    },
    {
      "cell_type": "code",
      "execution_count": null,
      "metadata": {
        "colab": {
          "base_uri": "https://localhost:8080/"
        },
        "id": "XLMHJPgIyLqD",
        "outputId": "1b5a962d-6353-4f19-983c-5f315dbc56c6"
      },
      "outputs": [
        {
          "name": "stdout",
          "output_type": "stream",
          "text": [
            "(1, 2, 3, 4)\n"
          ]
        }
      ],
      "source": [
        "# Inițializarea unui tuplu.\n",
        "myTuple = (1, 2, 3, 4)\n",
        "\n",
        "print(myTuple)"
      ]
    },
    {
      "cell_type": "code",
      "execution_count": null,
      "metadata": {
        "colab": {
          "base_uri": "https://localhost:8080/"
        },
        "id": "vjr00FEL0V04",
        "outputId": "20499e33-e4a8-40fb-c876-b47d5781496a"
      },
      "outputs": [
        {
          "name": "stdout",
          "output_type": "stream",
          "text": [
            "Primul element al tuplului: 1\n",
            "Al doilea element al tuplului: 2\n",
            "Al treilea element al tuplului: 3\n",
            "Al patrulea element al tuplului: 4\n"
          ]
        }
      ],
      "source": [
        "# Accesarea elementelor dintr-un tuplu.\n",
        "a = myTuple[0]\n",
        "b = myTuple[1]\n",
        "c = myTuple[2]\n",
        "d = myTuple[3]\n",
        "\n",
        "print(f\"Primul element al tuplului: {a}\")\n",
        "print(f\"Al doilea element al tuplului: {b}\")\n",
        "print(f\"Al treilea element al tuplului: {c}\")\n",
        "print(f\"Al patrulea element al tuplului: {d}\")"
      ]
    },
    {
      "cell_type": "markdown",
      "metadata": {
        "id": "bCZJA_gD2yEx"
      },
      "source": [
        "Alternativ putem extrage variabilele din tuplu într-o singura linie."
      ]
    },
    {
      "cell_type": "code",
      "execution_count": null,
      "metadata": {
        "colab": {
          "base_uri": "https://localhost:8080/"
        },
        "id": "943HEy1h0WHY",
        "outputId": "1a9a17f5-2e43-4e1a-a8f2-f347353810f9"
      },
      "outputs": [
        {
          "name": "stdout",
          "output_type": "stream",
          "text": [
            "1, 2, 3, 4\n"
          ]
        }
      ],
      "source": [
        "# Despachetarea tuplului.\n",
        "a, b, c, d = myTuple\n",
        "\n",
        "print(f\"{a}, {b}, {c}, {d}\")"
      ]
    },
    {
      "cell_type": "markdown",
      "metadata": {
        "id": "uyCLgf3V1n5T"
      },
      "source": [
        "**Observație:** Numărul variabilelor trebuie să coincidă cu numărul valorilor din tuplu.\n",
        "\n",
        "În caz contrar, se poate folosi un asterisc (*) pentru a colecta restul valorilor într-o listă."
      ]
    },
    {
      "cell_type": "code",
      "execution_count": null,
      "metadata": {
        "colab": {
          "base_uri": "https://localhost:8080/"
        },
        "id": "pGPelvv10WP9",
        "outputId": "a45a351b-0ba0-49e8-e8c2-f4cc486b07c0"
      },
      "outputs": [
        {
          "name": "stdout",
          "output_type": "stream",
          "text": [
            "1, 2, [3, 4]\n"
          ]
        }
      ],
      "source": [
        "a, b, *other = myTuple\n",
        "\n",
        "print(f\"{a}, {b}, {other}\")"
      ]
    },
    {
      "cell_type": "markdown",
      "metadata": {
        "id": "GkZiNEZAy5RW"
      },
      "source": [
        "Cum am văzut și în laboratorul trecut, putem folosi tupluri pentru a întoarce mai multe valori dintr-o funcție.\n"
      ]
    },
    {
      "cell_type": "code",
      "execution_count": null,
      "metadata": {
        "colab": {
          "base_uri": "https://localhost:8080/"
        },
        "id": "-DHlCGKb00hI",
        "outputId": "8e7d787f-a119-474f-b4a6-42fd060bd03e"
      },
      "outputs": [
        {
          "name": "stdout",
          "output_type": "stream",
          "text": [
            "Min: 1, Max: 9\n"
          ]
        }
      ],
      "source": [
        "def min_max(nums: list):\n",
        "  return (min(nums), max(nums))\n",
        "\n",
        "numbers = [4, 2, 9, 7, 5, 1]\n",
        "min_num, max_num = min_max(numbers)\n",
        "\n",
        "print(f\"Min: {min_num}, Max: {max_num}\")"
      ]
    },
    {
      "cell_type": "markdown",
      "metadata": {
        "id": "gC51ey34aTq1"
      },
      "source": [
        "# Mulțimi"
      ]
    },
    {
      "cell_type": "markdown",
      "metadata": {
        "id": "0-peXyT-aa7H"
      },
      "source": [
        "O mulțime în Python este o colecție neordonată de elemente unice. Seturile sunt mutabile, adică putem adăuga sau șterge elemente după crearea setului.\n",
        "\n",
        "Seturile sunt folosite atunci când existența unui obiect într-o colecție este mai importantă decât ordinea sau numărul său de apariții."
      ]
    },
    {
      "cell_type": "code",
      "execution_count": null,
      "metadata": {
        "colab": {
          "base_uri": "https://localhost:8080/"
        },
        "id": "1DLQDHNZv3Md",
        "outputId": "ad4e7450-38a8-4ab4-a682-ea884998c7ec"
      },
      "outputs": [
        {
          "name": "stdout",
          "output_type": "stream",
          "text": [
            "<class 'set'>\n"
          ]
        }
      ],
      "source": [
        "# Inițializarea unei mulțimi goale.\n",
        "mySet = set()\n",
        "\n",
        "print(type(mySet))"
      ]
    },
    {
      "cell_type": "code",
      "execution_count": null,
      "metadata": {
        "colab": {
          "base_uri": "https://localhost:8080/"
        },
        "id": "UVPwhtNq7KRJ",
        "outputId": "feef00cd-7758-4b78-fa82-75b41e78f32b"
      },
      "outputs": [
        {
          "name": "stdout",
          "output_type": "stream",
          "text": [
            "{'apple', 'banana', 'cherry'}\n",
            "3\n"
          ]
        }
      ],
      "source": [
        "# Inițializarea unei mulțimi cu elemente.\n",
        "fruits = {\"apple\", \"banana\", \"cherry\"}\n",
        "\n",
        "print(fruits)"
      ]
    },
    {
      "cell_type": "code",
      "execution_count": null,
      "metadata": {
        "colab": {
          "base_uri": "https://localhost:8080/"
        },
        "id": "ih52hhwt5x2u",
        "outputId": "2778f4eb-a77e-4f26-b52d-0fd1b6b19927"
      },
      "outputs": [
        {
          "name": "stdout",
          "output_type": "stream",
          "text": [
            "{'apple', 'orange', 'banana', 'cherry'}\n",
            "Lungimea mulțimii: 4\n"
          ]
        }
      ],
      "source": [
        "# Adăugarea elementelor la mulțime.\n",
        "fruits.add(\"orange\")\n",
        "fruits.add(\"apple\")   # observăm că mulțimea va conține un singur șir cu valoarea \"apple\"\n",
        "\n",
        "print(fruits)\n",
        "print(f\"Lungimea mulțimii: {len(fruits)}\")"
      ]
    },
    {
      "cell_type": "code",
      "execution_count": null,
      "metadata": {
        "id": "ow5J32-Q5yAK"
      },
      "outputs": [],
      "source": [
        "# Ștergerea elementelor dintr-o mulțime.\n",
        "fruits.remove(\"apple\")\n",
        "\n",
        "print(fruits)"
      ]
    },
    {
      "cell_type": "code",
      "execution_count": null,
      "metadata": {
        "id": "pL8JEtaL8GCw"
      },
      "outputs": [],
      "source": [
        "fruits.remove(\"pineapple\") # dacă elementul nu există, va arunca o eroare"
      ]
    },
    {
      "cell_type": "markdown",
      "metadata": {
        "id": "3jsBdKAiaYYG"
      },
      "source": [
        "# Dicționare"
      ]
    },
    {
      "cell_type": "markdown",
      "metadata": {
        "id": "dnHFqgmKabPU"
      },
      "source": [
        "În Python, un dicționar este o colecție neordonată, modificabilă și indexată.\n",
        "Fiecare intrare într-un dicționar este reprezentată de o pereche cheie-valoare. Cheia fiecărei intrări este unică și servește ca un identificator pentru valoarea sa asociată.\n",
        "\n",
        "După cum implică și numele, dicționarele (denumite des vectori asociativi) sunt folosite pentru a atribui unei chei o anumită valoare (\"definiție\"). Utilizăm dicționare atunci când datele pot fi asociate cu identificatori unici prin care putem accesa valoarea stocată într-un mod facil și rapid."
      ]
    },
    {
      "cell_type": "code",
      "execution_count": null,
      "metadata": {
        "colab": {
          "base_uri": "https://localhost:8080/"
        },
        "id": "Pa_AiI0M5xBn",
        "outputId": "14849915-3122-4efc-e4e3-c1a706d94a20"
      },
      "outputs": [
        {
          "name": "stdout",
          "output_type": "stream",
          "text": [
            "{'name': 'John', 'age': 21, 'courses': ['Math', 'CompSci']}\n"
          ]
        }
      ],
      "source": [
        "# Inițializarea unui dicționar.\n",
        "student = {\"name\": \"John\", \"age\": 21, \"courses\": [\"Math\", \"CompSci\"]}\n",
        "\n",
        "print(student)"
      ]
    },
    {
      "cell_type": "code",
      "execution_count": null,
      "metadata": {
        "colab": {
          "base_uri": "https://localhost:8080/"
        },
        "id": "wsQG_HhZIxEx",
        "outputId": "1a0c3b40-2f6d-4cb5-9252-38bc954f4d96"
      },
      "outputs": [
        {
          "name": "stdout",
          "output_type": "stream",
          "text": [
            "{'name': 'Jane', 'age': 21, 'courses': ['Math', 'CompSci']}\n"
          ]
        }
      ],
      "source": [
        "# Modificarea unei valori.\n",
        "student[\"name\"] = \"Jane\"\n",
        "\n",
        "print(student)"
      ]
    },
    {
      "cell_type": "code",
      "execution_count": null,
      "metadata": {
        "colab": {
          "base_uri": "https://localhost:8080/"
        },
        "id": "JBJzjAjeJWbv",
        "outputId": "c50c4f5d-49ac-4130-97a2-5a3cfcdca9e8"
      },
      "outputs": [
        {
          "name": "stdout",
          "output_type": "stream",
          "text": [
            "{'name': 'Jane', 'age': 21, 'courses': ['Math', 'CompSci'], 'grade': 90}\n"
          ]
        }
      ],
      "source": [
        "# Adăugarea unei noi intrări.\n",
        "student[\"grade\"] = 90\n",
        "\n",
        "print(student)"
      ]
    },
    {
      "cell_type": "markdown",
      "metadata": {
        "id": "G-MbBsyxJvVp"
      },
      "source": [
        "Alternativ putem folosi metoda **update** pentru a combina 2 dicționare."
      ]
    },
    {
      "cell_type": "code",
      "execution_count": null,
      "metadata": {
        "colab": {
          "base_uri": "https://localhost:8080/"
        },
        "id": "lJLt8gTVJo84",
        "outputId": "a3d7d10f-bf10-4429-96fe-35c4c6b1a786"
      },
      "outputs": [
        {
          "name": "stdout",
          "output_type": "stream",
          "text": [
            "{'name': 'Andrew', 'age': 21, 'courses': ['Math', 'CompSci'], 'grade': 100, 'city': 'Bucharest'}\n"
          ]
        }
      ],
      "source": [
        "# Actualizăm folosind un alt dicționar.\n",
        "student.update({\"name\": \"Andrew\", \"grade\": 100, \"city\": \"Bucharest\"})\n",
        "\n",
        "print(student)"
      ]
    },
    {
      "cell_type": "code",
      "execution_count": null,
      "metadata": {
        "colab": {
          "base_uri": "https://localhost:8080/"
        },
        "id": "hPdUBrMKNF5w",
        "outputId": "3ba2ec91-d818-4d28-c597-3eca1c06f832"
      },
      "outputs": [
        {
          "name": "stdout",
          "output_type": "stream",
          "text": [
            "{'name': 'Andrew', 'age': 21, 'courses': ['Math', 'CompSci'], 'grade': 100}\n"
          ]
        }
      ],
      "source": [
        "# Ștergerea unui element din dicționar.\n",
        "student.pop(\"city\")\n",
        "\n",
        "print(student)"
      ]
    },
    {
      "cell_type": "code",
      "execution_count": null,
      "metadata": {
        "colab": {
          "base_uri": "https://localhost:8080/"
        },
        "id": "SgQRI-IUJ652",
        "outputId": "f5a2e342-5926-49d0-f0aa-31849e96101f"
      },
      "outputs": [
        {
          "name": "stdout",
          "output_type": "stream",
          "text": [
            "key: name, value: Jane\n",
            "key: age, value: 21\n",
            "key: courses, value: ['Math', 'CompSci']\n",
            "key: grade, value: 90\n"
          ]
        }
      ],
      "source": [
        "# Parcurgerea perechilor dintr-un dicționar.\n",
        "for key, value in student.items():\n",
        "    print(f\"key: {key}, value: {value}\")"
      ]
    },
    {
      "cell_type": "code",
      "execution_count": null,
      "metadata": {
        "colab": {
          "base_uri": "https://localhost:8080/"
        },
        "id": "ZE1IxSuiKRRc",
        "outputId": "ed7297d7-e45a-4421-bde6-8e876f2815d6"
      },
      "outputs": [
        {
          "name": "stdout",
          "output_type": "stream",
          "text": [
            "name\n",
            "age\n",
            "courses\n",
            "grade\n",
            "city\n"
          ]
        }
      ],
      "source": [
        "# Parcurgerea cheilor dintr-un dicționar.\n",
        "for key in student:\n",
        "    print(key)"
      ]
    },
    {
      "cell_type": "code",
      "execution_count": null,
      "metadata": {
        "colab": {
          "base_uri": "https://localhost:8080/"
        },
        "id": "cbGhlNlPKRYg",
        "outputId": "7e209176-89ec-4872-bc50-621385a90daa"
      },
      "outputs": [
        {
          "name": "stdout",
          "output_type": "stream",
          "text": [
            "Andrew\n",
            "21\n",
            "['Math', 'CompSci']\n",
            "100\n",
            "Bucharest\n"
          ]
        }
      ],
      "source": [
        "# Parcurgerea valorilor dintr-un dicționar.\n",
        "for value in student.values():\n",
        "    print(value)"
      ]
    },
    {
      "cell_type": "markdown",
      "metadata": {
        "id": "ELrQ9dfh6kjo"
      },
      "source": [
        "**Observație:** Începând cu Python 3.7 dicționarele sunt ordonate, adică elementele își păstrează ordinea inserării. În Python 3.6, precum și în versiunile anterioare, dicționarele sunt neordonate."
      ]
    },
    {
      "cell_type": "markdown",
      "metadata": {
        "id": "yRh0VVjIamKy"
      },
      "source": [
        "# List Comprehension"
      ]
    },
    {
      "cell_type": "markdown",
      "metadata": {
        "id": "5CeZTXVhasD4"
      },
      "source": [
        "În laboratorul anterior, am explorat utilizarea listelor în Python și am învățat despre diversele operațiuni care pot fi efectuate cu acestea. În plus față de aceste operații de bază, Python introduce un concept numit list comprehension. Acesta ne permite să creăm o listă nouă folosind valorile dintr-o listă existentă."
      ]
    },
    {
      "cell_type": "code",
      "execution_count": null,
      "metadata": {
        "id": "4lcFygWYePDT"
      },
      "outputs": [],
      "source": [
        "# Implementare FĂRĂ list comprehension\n",
        "fruits = [\"apple\", \"banana\", \"cherry\", \"kiwi\", \"mango\"]\n",
        "newlist = []\n",
        "\n",
        "for x in fruits:\n",
        "  if \"a\" in x:\n",
        "    newlist.append(x)\n",
        "\n",
        "print(newlist)"
      ]
    },
    {
      "cell_type": "code",
      "execution_count": null,
      "metadata": {
        "id": "HkpI5Jm-eXOU"
      },
      "outputs": [],
      "source": [
        "# Implementare CU list comprehension\n",
        "fruits = [\"apple\", \"banana\", \"cherry\", \"kiwi\", \"mango\"]\n",
        "\n",
        "newlist = [x for x in fruits if \"a\" in x]\n",
        "\n",
        "print(newlist)"
      ]
    },
    {
      "cell_type": "markdown",
      "metadata": {
        "id": "mK1gijJLiNVZ"
      },
      "source": [
        "Se poate observa că, prin utilizarea list comprehension, am reușit să simplificăm codul și să obținem o sintaxă mai concisă.\n",
        "\n",
        "Sintaxa generală a unui list comprehension este: *newlist = [expression for item in iterable if condition == True]*\n",
        "\n",
        "\n",
        "**Observație:** Rezultatul întors de un list comprehension reprezintă o listă nouă (lista inițială **NU** este modificată)."
      ]
    },
    {
      "cell_type": "markdown",
      "metadata": {
        "id": "KD34FURuZtg9"
      },
      "source": [
        "# Exerciții propuse"
      ]
    },
    {
      "cell_type": "markdown",
      "metadata": {
        "id": "apNBPqxNZzJk"
      },
      "source": [
        "1. Implementați o funcție care primește ca parametru o listă de tupluri (perechi de elemente întregi) și sortează lista după primele elemente ale tuplurilor. Dacă sunt egale primele elemente, atunci se va sorta descrescător după al doilea element."
      ]
    },
    {
      "cell_type": "code",
      "execution_count": null,
      "metadata": {
        "colab": {
          "base_uri": "https://localhost:8080/"
        },
        "id": "xzxFlm2RZ0kF",
        "outputId": "43b56f47-ab7d-4e2f-e9c7-ebef3a0f9ac9"
      },
      "outputs": [],
      "source": [
        "def sort_tuple_list(l: list):\n",
        "  # TODO 1\n",
        "  pass\n",
        "\n",
        "print(sort_tuple_list([(3, 1), (2, 2)]))  # => [(2, 2), (3, 1)]\n",
        "print(sort_tuple_list([(0, 3), (3, 1), (2, 4), (10, 2), (1, 2), (0, 5)]))  # =>  [(0, 3), (0, 5), (1, 2), (2, 4), (3, 1), (10, 2)]\n",
        "print(sort_tuple_list([(5, 6), (1, 3), (10, 5), (9, 1), (5, 7)]))  # =>  [(1, 3), (5, 6), (5, 7), (9, 1), (10, 5)]"
      ]
    },
    {
      "cell_type": "markdown",
      "metadata": {
        "id": "9sPH3SDNZ0zh"
      },
      "source": [
        "2. Implementați o funcție care primește ca parametru un tuplu și întoarce un nou tuplu cu elementele inversate."
      ]
    },
    {
      "cell_type": "code",
      "execution_count": null,
      "metadata": {
        "colab": {
          "base_uri": "https://localhost:8080/"
        },
        "id": "OZqKIag-Z06D",
        "outputId": "218fa803-8c64-4ed5-84da-375fde5094e8"
      },
      "outputs": [],
      "source": [
        "def reverse_tuple(t: tuple) -> tuple:\n",
        "  # TODO 2\n",
        "  pass\n",
        "\n",
        "print(reverse_tuple([1, 3, 5, 10])) # => [(10, 5, 3, 1)]"
      ]
    },
    {
      "cell_type": "markdown",
      "metadata": {
        "id": "GEMmSpCJZ0_a"
      },
      "source": [
        "3. Implementați o funcție care primește ca parametri o listă de tupluri (cu număr variabil de valori) și un element și verifică dacă elementul se regăsește în toate tuplurile."
      ]
    },
    {
      "cell_type": "code",
      "execution_count": null,
      "metadata": {
        "colab": {
          "base_uri": "https://localhost:8080/"
        },
        "id": "f_QLfbEWZ1FO",
        "outputId": "52702fb8-85b7-4a53-ef73-f8303783cbb3"
      },
      "outputs": [],
      "source": [
        "def all_tuple_exist(l: list, element) -> bool:\n",
        "  # TODO 3\n",
        "  pass\n",
        "\n",
        "print(all_tuple_exist([(1, 4, 2, 3), (10, 11, 2, 3), (6, 7, 1)], 2)) # -> False\n",
        "print(all_tuple_exist([(\"string\", 2, -1), (-10, 5, \"string\", 1, -1.3), (2, \"string\", -0.5, 2)], \"string\")) # -> True"
      ]
    },
    {
      "cell_type": "markdown",
      "metadata": {
        "id": "9jjEbo7cZ1Lr"
      },
      "source": [
        "4. Implementați o funcție care primește ca parametru o listă de șiruri și returnează o mulțime care conține toate caracterele distincte prezente în toate șirurile din listă."
      ]
    },
    {
      "cell_type": "code",
      "execution_count": null,
      "metadata": {
        "colab": {
          "base_uri": "https://localhost:8080/"
        },
        "id": "5Y_h8PGhZ1Sq",
        "outputId": "2d351bab-de98-4528-c76a-c3392478d2d9"
      },
      "outputs": [],
      "source": [
        "def all_characters_strings(l: list) -> set:\n",
        "    pass\n",
        "\n",
        "print(all_characters_strings([\"face\", \"include\", \"flat\", \"banner\"])) # -> {a, b, c, d, e, f, i, l, n, r, t, u}"
      ]
    },
    {
      "cell_type": "markdown",
      "metadata": {
        "id": "N1yBsyVfqSER"
      },
      "source": [
        "5. Implementați o funcție care primește ca parametri o listă de numere întregi și un număr întreg țintă și determină toate combinațiile unice de 3 numere care însumate dau numărul țintă."
      ]
    },
    {
      "cell_type": "code",
      "execution_count": null,
      "metadata": {
        "id": "PoJ10QY1qSMg"
      },
      "outputs": [],
      "source": [
        "def all_combinations_target(l: list, t: int):\n",
        "  # TODO 5\n",
        "  pass\n",
        "\n",
        "print(all_combinations_target([1, 2, 3, 4, 5, 6, 7, 8, 9], 15))"
      ]
    },
    {
      "cell_type": "markdown",
      "metadata": {
        "id": "6cfSU2fgZ1jO"
      },
      "source": [
        "6. Se citește de la tastatură un șir de cuvinte delimitate printr-un spațiu sau prin semne de punctuație (,.). Să se numere frecvența de apariție a fiecărui cuvânt din cadrul șirului.\n",
        "\n",
        "**Important:** Puteți utiliza un dicționar în cadrul implementării."
      ]
    },
    {
      "cell_type": "code",
      "execution_count": null,
      "metadata": {
        "id": "dmeUWZ-2Z1pZ"
      },
      "outputs": [],
      "source": [
        "# TODO 6"
      ]
    },
    {
      "cell_type": "markdown",
      "metadata": {
        "id": "jDcoOJdID3Db"
      },
      "source": [
        "7. Concepeți un sistem de gestionare a coșului de cumpărături pentru un magazin online, care permite utilizatorilor să vizualizeze catalogul de produse, să adauge sau să scoată produse din coș, să caute produse după nume, să filtreze produsele după categorie, să calculeze totalul coșului de cumpărături și să finalizeze achiziția.\n",
        "\n",
        "<br>\n",
        "\n",
        "***Catalogul de produse*** este un **dicționar** extras dintr-un fișier json care include, pe post de cheie, id-ul produsului, iar ca valoare, sub forma unei **liste de dicționare**, detalii precum numele, categoria, prețul, cantitatea disponibilă și o descriere scurtă.\n",
        "\n",
        "***Coșul de cumpărături*** va fi reprezentat printr-o **listă de tupluri** ce conțin ID-ul produslui și cantiatate dorită.\n",
        "\n",
        "\n",
        "<br>\n",
        "Programul vostru va trebui să ofere următoarele funcționalități:\n",
        "\n",
        "-\t***Afișarea catalogului*** sub forma unui tabel ce conține “ID\", \"Name\", \"Category\", \"Price\", \"Quantity\", \"Description\", în această ordine. Trebuie să vă asigurați că celulele sunt suficient de mari astfel încât valorile să nu se suprapună.\n",
        "> **ATENȚIE** - funcția primește ca parametru un dicționar cu elemente ID:DICTIONAR_DETALII.\n",
        "\n",
        "\n",
        "-\t***Filtrarea produselor după nume, respectiv categorie***. Afișarea lor se va face tot sub forma unui tabel, folosind funcția pentru afișarea catalogului.\n",
        "> **ATENȚIE** - veți folosi List Comprehension pentru implementarea acestor funcții.\n",
        "\n",
        "-\t**Adăugarea unui produs în coș**. Utilizatorii pot adăuga produse în coșul de cumpărături, specificând ID-ul produsului și cantitatea dorită. Verificați stocul disponibil și actualizați cantitatea din coș și stocul produsului corespunzător. Dacă produsul este deja în coș, se va actualiza cantitea prin adăugarea celei noi la cantitatea deja existenă în coș.\n",
        "\n",
        "-\t***Eliminarea unui produs din coș***. Utilizatorii pot scoate produse din coșul de cumpărături, actualizând corespunzător cantitatea produsului în stoc.\n",
        "\n",
        "-\t***Vizualizarea coșului de cumpărături***. Utilizatorii pot vizualiza conținutul actual al coșului de cumpărături, inclusiv numărul total de articole.\n",
        "\n",
        "-\t***Calculul totalului***. Calculați totalul coșului de cumpărături, incluzând prețul fiecărui produs înmulțit cu cantitatea acestuia aflată în coș.\n",
        "\n",
        "-\t***Finalizarea achiziției***. La finalizarea achiziției, afișați un bon fiscal ce include detalii despre fiecare produs cumpărat, cantitatea acestuia și prețul total. Curățați coșul de cumpărături după finalizarea achiziției.\n",
        "\n",
        "<br>\n",
        "\n",
        "Implementați o interfață interactivă în linia de comandă, sub formă de meniu, care să permită utilizatorilor să navigheze prin opțiunile sistemului. Un exemplu se află în imaginea de mai jos.\n",
        "\n",
        "\n",
        "<center>\n",
        "\n",
        "![Imagine1.jpg](data:image/jpeg;base64,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)</center>\n",
        "\n",
        "\n",
        "<br>\n",
        "\n",
        "Catalogul de produse va fi populat automat în variabila \"products\" la rularea codului de mai jos."
      ]
    },
    {
      "cell_type": "code",
      "execution_count": null,
      "metadata": {
        "cellView": "form",
        "id": "9DsLvKMgI02o"
      },
      "outputs": [],
      "source": [
        "# @title Catalogul de produse\n",
        "# Please do not modify this code; just run it as is.\n",
        "\n",
        "products = {\n",
        "    \"001\": {\n",
        "        \"name\": \"Water\",\n",
        "        \"description\": \"Products are refreshing and full of flavor.\",\n",
        "        \"price\": 2.88,\n",
        "        \"quantity\": 75,\n",
        "        \"category\": \"drinks\"\n",
        "    },\n",
        "    \"002\": {\n",
        "        \"name\": \"Sour Cream\",\n",
        "        \"description\": \"Products are fresh from the farm.\",\n",
        "        \"price\": 12.42,\n",
        "        \"quantity\": 69,\n",
        "        \"category\": \"dairy\"\n",
        "    },\n",
        "    \"003\": {\n",
        "        \"name\": \"Bananas\",\n",
        "        \"description\": \"Products are fresh and healthy.\",\n",
        "        \"price\": 4.7,\n",
        "        \"quantity\": 25,\n",
        "        \"category\": \"fruits\"\n",
        "    },\n",
        "    \"004\": {\n",
        "        \"name\": \"Kiwis\",\n",
        "        \"description\": \"Products are fresh and healthy.\",\n",
        "        \"price\": 8.83,\n",
        "        \"quantity\": 77,\n",
        "        \"category\": \"fruits\"\n",
        "    },\n",
        "    \"005\": {\n",
        "        \"name\": \"Tomatoes\",\n",
        "        \"description\": \"Products are natural and nourishing.\",\n",
        "        \"price\": 13.31,\n",
        "        \"quantity\": 30,\n",
        "        \"category\": \"vegetables\"\n",
        "    },\n",
        "    \"006\": {\n",
        "        \"name\": \"Orange Juice\",\n",
        "        \"description\": \"Products are refreshing and full of flavor.\",\n",
        "        \"price\": 8.43,\n",
        "        \"quantity\": 83,\n",
        "        \"category\": \"drinks\"\n",
        "    },\n",
        "    \"007\": {\n",
        "        \"name\": \"Tea\",\n",
        "        \"description\": \"Products are refreshing and full of flavor.\",\n",
        "        \"price\": 9.85,\n",
        "        \"quantity\": 91,\n",
        "        \"category\": \"drinks\"\n",
        "    },\n",
        "    \"008\": {\n",
        "        \"name\": \"Yogurt\",\n",
        "        \"description\": \"Products are fresh from the farm.\",\n",
        "        \"price\": 18.65,\n",
        "        \"quantity\": 69,\n",
        "        \"category\": \"dairy\"\n",
        "    },\n",
        "    \"009\": {\n",
        "        \"name\": \"Apples\",\n",
        "        \"description\": \"Products are fresh and healthy.\",\n",
        "        \"price\": 7.21,\n",
        "        \"quantity\": 57,\n",
        "        \"category\": \"fruits\"\n",
        "    },\n",
        "    \"010\": {\n",
        "        \"name\": \"Cheese\",\n",
        "        \"description\": \"Products are fresh from the farm.\",\n",
        "        \"price\": 18.89,\n",
        "        \"quantity\": 26,\n",
        "        \"category\": \"dairy\"\n",
        "    },\n",
        "    \"011\": {\n",
        "        \"name\": \"Beer\",\n",
        "        \"description\": \"Products are refreshing and full of flavor.\",\n",
        "        \"price\": 19.52,\n",
        "        \"quantity\": 41,\n",
        "        \"category\": \"drinks\"\n",
        "    },\n",
        "    \"012\": {\n",
        "        \"name\": \"Sour Cream\",\n",
        "        \"description\": \"Products are fresh from the farm.\",\n",
        "        \"price\": 3.9,\n",
        "        \"quantity\": 15,\n",
        "        \"category\": \"dairy\"\n",
        "    },\n",
        "    \"013\": {\n",
        "        \"name\": \"Cucumbers\",\n",
        "        \"description\": \"Products are natural and nourishing.\",\n",
        "        \"price\": 6.21,\n",
        "        \"quantity\": 95,\n",
        "        \"category\": \"vegetables\"\n",
        "    },\n",
        "    \"014\": {\n",
        "        \"name\": \"Cookies\",\n",
        "        \"description\": \"Products are perfect for a quick bite.\",\n",
        "        \"price\": 19.07,\n",
        "        \"quantity\": 20,\n",
        "        \"category\": \"snacks\"\n",
        "    },\n",
        "    \"015\": {\n",
        "        \"name\": \"Pasta\",\n",
        "        \"description\": \"Products are essential for a balanced diet.\",\n",
        "        \"price\": 7.15,\n",
        "        \"quantity\": 81,\n",
        "        \"category\": \"grains\"\n",
        "    },\n",
        "    \"016\": {\n",
        "        \"name\": \"Butter\",\n",
        "        \"description\": \"Products are fresh from the farm.\",\n",
        "        \"price\": 18.67,\n",
        "        \"quantity\": 61,\n",
        "        \"category\": \"dairy\"\n",
        "    },\n",
        "    \"017\": {\n",
        "        \"name\": \"Cucumbers\",\n",
        "        \"description\": \"Products are natural and nourishing.\",\n",
        "        \"price\": 17.24,\n",
        "        \"quantity\": 58,\n",
        "        \"category\": \"vegetables\"\n",
        "    },\n",
        "    \"018\": {\n",
        "        \"name\": \"Oats\",\n",
        "        \"description\": \"Products are essential for a balanced diet.\",\n",
        "        \"price\": 16.95,\n",
        "        \"quantity\": 14,\n",
        "        \"category\": \"grains\"\n",
        "    },\n",
        "    \"019\": {\n",
        "        \"name\": \"Eggplants\",\n",
        "        \"description\": \"Products are natural and nourishing.\",\n",
        "        \"price\": 4.04,\n",
        "        \"quantity\": 41,\n",
        "        \"category\": \"vegetables\"\n",
        "    },\n",
        "    \"020\": {\n",
        "        \"name\": \"Chocolate\",\n",
        "        \"description\": \"Products are perfect for a quick bite.\",\n",
        "        \"price\": 18.75,\n",
        "        \"quantity\": 92,\n",
        "        \"category\": \"snacks\"\n",
        "    },\n",
        "    \"021\": {\n",
        "        \"name\": \"Water\",\n",
        "        \"description\": \"Products are refreshing and full of flavor.\",\n",
        "        \"price\": 9.62,\n",
        "        \"quantity\": 43,\n",
        "        \"category\": \"drinks\"\n",
        "    },\n",
        "    \"022\": {\n",
        "        \"name\": \"Nuts\",\n",
        "        \"description\": \"Products are perfect for a quick bite.\",\n",
        "        \"price\": 19.48,\n",
        "        \"quantity\": 97,\n",
        "        \"category\": \"snacks\"\n",
        "    },\n",
        "    \"023\": {\n",
        "        \"name\": \"Chocolate\",\n",
        "        \"description\": \"Products are perfect for a quick bite.\",\n",
        "        \"price\": 16.11,\n",
        "        \"quantity\": 60,\n",
        "        \"category\": \"snacks\"\n",
        "    },\n",
        "    \"024\": {\n",
        "        \"name\": \"Sour Cream\",\n",
        "        \"description\": \"Products are fresh from the farm.\",\n",
        "        \"price\": 15.05,\n",
        "        \"quantity\": 49,\n",
        "        \"category\": \"dairy\"\n",
        "    },\n",
        "    \"025\": {\n",
        "        \"name\": \"Water\",\n",
        "        \"description\": \"Products are refreshing and full of flavor.\",\n",
        "        \"price\": 6.44,\n",
        "        \"quantity\": 99,\n",
        "        \"category\": \"drinks\"\n",
        "    },\n",
        "    \"026\": {\n",
        "        \"name\": \"Chocolate\",\n",
        "        \"description\": \"Products are perfect for a quick bite.\",\n",
        "        \"price\": 11.72,\n",
        "        \"quantity\": 46,\n",
        "        \"category\": \"snacks\"\n",
        "    },\n",
        "    \"027\": {\n",
        "        \"name\": \"Yogurt\",\n",
        "        \"description\": \"Products are fresh from the farm.\",\n",
        "        \"price\": 6.35,\n",
        "        \"quantity\": 48,\n",
        "        \"category\": \"dairy\"\n",
        "    },\n",
        "    \"028\": {\n",
        "        \"name\": \"Crackers\",\n",
        "        \"description\": \"Products are perfect for a quick bite.\",\n",
        "        \"price\": 18.39,\n",
        "        \"quantity\": 45,\n",
        "        \"category\": \"snacks\"\n",
        "    },\n",
        "    \"029\": {\n",
        "        \"name\": \"Apples\",\n",
        "        \"description\": \"Products are fresh and healthy.\",\n",
        "        \"price\": 10.09,\n",
        "        \"quantity\": 30,\n",
        "        \"category\": \"fruits\"\n",
        "    },\n",
        "    \"030\": {\n",
        "        \"name\": \"Cucumbers\",\n",
        "        \"description\": \"Products are natural and nourishing.\",\n",
        "        \"price\": 10.97,\n",
        "        \"quantity\": 85,\n",
        "        \"category\": \"vegetables\"\n",
        "    },\n",
        "    \"031\": {\n",
        "        \"name\": \"Oranges\",\n",
        "        \"description\": \"Products are fresh and healthy.\",\n",
        "        \"price\": 10.11,\n",
        "        \"quantity\": 64,\n",
        "        \"category\": \"fruits\"\n",
        "    },\n",
        "    \"032\": {\n",
        "        \"name\": \"Cherries\",\n",
        "        \"description\": \"Products are fresh and healthy.\",\n",
        "        \"price\": 4.49,\n",
        "        \"quantity\": 22,\n",
        "        \"category\": \"fruits\"\n",
        "    },\n",
        "    \"033\": {\n",
        "        \"name\": \"Oats\",\n",
        "        \"description\": \"Products are essential for a balanced diet.\",\n",
        "        \"price\": 16.84,\n",
        "        \"quantity\": 99,\n",
        "        \"category\": \"grains\"\n",
        "    },\n",
        "    \"034\": {\n",
        "        \"name\": \"Tea\",\n",
        "        \"description\": \"Products are refreshing and full of flavor.\",\n",
        "        \"price\": 14.84,\n",
        "        \"quantity\": 84,\n",
        "        \"category\": \"drinks\"\n",
        "    },\n",
        "    \"035\": {\n",
        "        \"name\": \"Coffee\",\n",
        "        \"description\": \"Products are refreshing and full of flavor.\",\n",
        "        \"price\": 16.32,\n",
        "        \"quantity\": 20,\n",
        "        \"category\": \"drinks\"\n",
        "    },\n",
        "    \"036\": {\n",
        "        \"name\": \"Oats\",\n",
        "        \"description\": \"Products are essential for a balanced diet.\",\n",
        "        \"price\": 4.63,\n",
        "        \"quantity\": 13,\n",
        "        \"category\": \"grains\"\n",
        "    },\n",
        "    \"037\": {\n",
        "        \"name\": \"Coffee\",\n",
        "        \"description\": \"Products are refreshing and full of flavor.\",\n",
        "        \"price\": 1.09,\n",
        "        \"quantity\": 24,\n",
        "        \"category\": \"drinks\"\n",
        "    },\n",
        "    \"038\": {\n",
        "        \"name\": \"Carrots\",\n",
        "        \"description\": \"Products are natural and nourishing.\",\n",
        "        \"price\": 18.56,\n",
        "        \"quantity\": 51,\n",
        "        \"category\": \"vegetables\"\n",
        "    },\n",
        "    \"039\": {\n",
        "        \"name\": \"Eggplants\",\n",
        "        \"description\": \"Products are natural and nourishing.\",\n",
        "        \"price\": 19.03,\n",
        "        \"quantity\": 46,\n",
        "        \"category\": \"vegetables\"\n",
        "    },\n",
        "    \"040\": {\n",
        "        \"name\": \"Beer\",\n",
        "        \"description\": \"Products are refreshing and full of flavor.\",\n",
        "        \"price\": 15.67,\n",
        "        \"quantity\": 81,\n",
        "        \"category\": \"drinks\"\n",
        "    },\n",
        "    \"041\": {\n",
        "        \"name\": \"Yogurt\",\n",
        "        \"description\": \"Products are fresh from the farm.\",\n",
        "        \"price\": 3.94,\n",
        "        \"quantity\": 55,\n",
        "        \"category\": \"dairy\"\n",
        "    },\n",
        "    \"042\": {\n",
        "        \"name\": \"Chocolate\",\n",
        "        \"description\": \"Products are perfect for a quick bite.\",\n",
        "        \"price\": 9.74,\n",
        "        \"quantity\": 72,\n",
        "        \"category\": \"snacks\"\n",
        "    },\n",
        "    \"043\": {\n",
        "        \"name\": \"Sour Cream\",\n",
        "        \"description\": \"Products are fresh from the farm.\",\n",
        "        \"price\": 5.95,\n",
        "        \"quantity\": 72,\n",
        "        \"category\": \"dairy\"\n",
        "    },\n",
        "    \"044\": {\n",
        "        \"name\": \"Kiwis\",\n",
        "        \"description\": \"Products are fresh and healthy.\",\n",
        "        \"price\": 15.81,\n",
        "        \"quantity\": 62,\n",
        "        \"category\": \"fruits\"\n",
        "    },\n",
        "    \"045\": {\n",
        "        \"name\": \"Cookies\",\n",
        "        \"description\": \"Products are perfect for a quick bite.\",\n",
        "        \"price\": 1.79,\n",
        "        \"quantity\": 73,\n",
        "        \"category\": \"snacks\"\n",
        "    },\n",
        "    \"046\": {\n",
        "        \"name\": \"Carrots\",\n",
        "        \"description\": \"Products are natural and nourishing.\",\n",
        "        \"price\": 5.54,\n",
        "        \"quantity\": 32,\n",
        "        \"category\": \"vegetables\"\n",
        "    },\n",
        "    \"047\": {\n",
        "        \"name\": \"Peppers\",\n",
        "        \"description\": \"Products are natural and nourishing.\",\n",
        "        \"price\": 2.17,\n",
        "        \"quantity\": 75,\n",
        "        \"category\": \"vegetables\"\n",
        "    },\n",
        "    \"048\": {\n",
        "        \"name\": \"Cucumbers\",\n",
        "        \"description\": \"Products are natural and nourishing.\",\n",
        "        \"price\": 14.53,\n",
        "        \"quantity\": 29,\n",
        "        \"category\": \"vegetables\"\n",
        "    },\n",
        "    \"049\": {\n",
        "        \"name\": \"Rice\",\n",
        "        \"description\": \"Products are essential for a balanced diet.\",\n",
        "        \"price\": 9.53,\n",
        "        \"quantity\": 71,\n",
        "        \"category\": \"grains\"\n",
        "    },\n",
        "    \"050\": {\n",
        "        \"name\": \"Cereal\",\n",
        "        \"description\": \"Products are essential for a balanced diet.\",\n",
        "        \"price\": 2.04,\n",
        "        \"quantity\": 30,\n",
        "        \"category\": \"grains\"\n",
        "    },\n",
        "    \"051\": {\n",
        "        \"name\": \"Yogurt\",\n",
        "        \"description\": \"Products are fresh from the farm.\",\n",
        "        \"price\": 4.22,\n",
        "        \"quantity\": 84,\n",
        "        \"category\": \"dairy\"\n",
        "    },\n",
        "    \"052\": {\n",
        "        \"name\": \"Beer\",\n",
        "        \"description\": \"Products are refreshing and full of flavor.\",\n",
        "        \"price\": 2.78,\n",
        "        \"quantity\": 15,\n",
        "        \"category\": \"drinks\"\n",
        "    },\n",
        "    \"053\": {\n",
        "        \"name\": \"Cheese\",\n",
        "        \"description\": \"Products are fresh from the farm.\",\n",
        "        \"price\": 8.23,\n",
        "        \"quantity\": 46,\n",
        "        \"category\": \"dairy\"\n",
        "    },\n",
        "    \"054\": {\n",
        "        \"name\": \"Kiwis\",\n",
        "        \"description\": \"Products are fresh and healthy.\",\n",
        "        \"price\": 3.86,\n",
        "        \"quantity\": 28,\n",
        "        \"category\": \"fruits\"\n",
        "    },\n",
        "    \"055\": {\n",
        "        \"name\": \"Tea\",\n",
        "        \"description\": \"Products are refreshing and full of flavor.\",\n",
        "        \"price\": 18.72,\n",
        "        \"quantity\": 38,\n",
        "        \"category\": \"drinks\"\n",
        "    },\n",
        "    \"056\": {\n",
        "        \"name\": \"Milk\",\n",
        "        \"description\": \"Products are fresh from the farm.\",\n",
        "        \"price\": 4.88,\n",
        "        \"quantity\": 52,\n",
        "        \"category\": \"dairy\"\n",
        "    },\n",
        "    \"057\": {\n",
        "        \"name\": \"Nuts\",\n",
        "        \"description\": \"Products are perfect for a quick bite.\",\n",
        "        \"price\": 4.7,\n",
        "        \"quantity\": 71,\n",
        "        \"category\": \"snacks\"\n",
        "    },\n",
        "    \"058\": {\n",
        "        \"name\": \"Cheese\",\n",
        "        \"description\": \"Products are fresh from the farm.\",\n",
        "        \"price\": 15.69,\n",
        "        \"quantity\": 24,\n",
        "        \"category\": \"dairy\"\n",
        "    },\n",
        "    \"059\": {\n",
        "        \"name\": \"Butter\",\n",
        "        \"description\": \"Products are fresh from the farm.\",\n",
        "        \"price\": 13.51,\n",
        "        \"quantity\": 56,\n",
        "        \"category\": \"dairy\"\n",
        "    },\n",
        "    \"060\": {\n",
        "        \"name\": \"Crackers\",\n",
        "        \"description\": \"Products are perfect for a quick bite.\",\n",
        "        \"price\": 11.19,\n",
        "        \"quantity\": 32,\n",
        "        \"category\": \"snacks\"\n",
        "    },\n",
        "    \"061\": {\n",
        "        \"name\": \"Orange Juice\",\n",
        "        \"description\": \"Products are refreshing and full of flavor.\",\n",
        "        \"price\": 6.41,\n",
        "        \"quantity\": 82,\n",
        "        \"category\": \"drinks\"\n",
        "    },\n",
        "    \"062\": {\n",
        "        \"name\": \"Coffee\",\n",
        "        \"description\": \"Products are refreshing and full of flavor.\",\n",
        "        \"price\": 12.91,\n",
        "        \"quantity\": 76,\n",
        "        \"category\": \"drinks\"\n",
        "    },\n",
        "    \"063\": {\n",
        "        \"name\": \"Crackers\",\n",
        "        \"description\": \"Products are perfect for a quick bite.\",\n",
        "        \"price\": 5.57,\n",
        "        \"quantity\": 67,\n",
        "        \"category\": \"snacks\"\n",
        "    },\n",
        "    \"064\": {\n",
        "        \"name\": \"Nuts\",\n",
        "        \"description\": \"Products are perfect for a quick bite.\",\n",
        "        \"price\": 3.91,\n",
        "        \"quantity\": 97,\n",
        "        \"category\": \"snacks\"\n",
        "    },\n",
        "    \"065\": {\n",
        "        \"name\": \"Oranges\",\n",
        "        \"description\": \"Products are fresh and healthy.\",\n",
        "        \"price\": 1.18,\n",
        "        \"quantity\": 29,\n",
        "        \"category\": \"fruits\"\n",
        "    },\n",
        "    \"066\": {\n",
        "        \"name\": \"Cheese\",\n",
        "        \"description\": \"Products are fresh from the farm.\",\n",
        "        \"price\": 8.13,\n",
        "        \"quantity\": 94,\n",
        "        \"category\": \"dairy\"\n",
        "    },\n",
        "    \"067\": {\n",
        "        \"name\": \"Chocolate\",\n",
        "        \"description\": \"Products are perfect for a quick bite.\",\n",
        "        \"price\": 10.33,\n",
        "        \"quantity\": 60,\n",
        "        \"category\": \"snacks\"\n",
        "    },\n",
        "    \"068\": {\n",
        "        \"name\": \"Cucumbers\",\n",
        "        \"description\": \"Products are natural and nourishing.\",\n",
        "        \"price\": 13.45,\n",
        "        \"quantity\": 47,\n",
        "        \"category\": \"vegetables\"\n",
        "    },\n",
        "    \"069\": {\n",
        "        \"name\": \"Cheese\",\n",
        "        \"description\": \"Products are fresh from the farm.\",\n",
        "        \"price\": 16.08,\n",
        "        \"quantity\": 54,\n",
        "        \"category\": \"dairy\"\n",
        "    },\n",
        "    \"070\": {\n",
        "        \"name\": \"Cheese\",\n",
        "        \"description\": \"Products are fresh from the farm.\",\n",
        "        \"price\": 18.86,\n",
        "        \"quantity\": 37,\n",
        "        \"category\": \"dairy\"\n",
        "    },\n",
        "    \"071\": {\n",
        "        \"name\": \"Carrots\",\n",
        "        \"description\": \"Products are natural and nourishing.\",\n",
        "        \"price\": 14.8,\n",
        "        \"quantity\": 25,\n",
        "        \"category\": \"vegetables\"\n",
        "    },\n",
        "    \"072\": {\n",
        "        \"name\": \"Water\",\n",
        "        \"description\": \"Products are refreshing and full of flavor.\",\n",
        "        \"price\": 7.89,\n",
        "        \"quantity\": 17,\n",
        "        \"category\": \"drinks\"\n",
        "    },\n",
        "    \"073\": {\n",
        "        \"name\": \"Rice\",\n",
        "        \"description\": \"Products are essential for a balanced diet.\",\n",
        "        \"price\": 13.64,\n",
        "        \"quantity\": 55,\n",
        "        \"category\": \"grains\"\n",
        "    },\n",
        "    \"074\": {\n",
        "        \"name\": \"Apples\",\n",
        "        \"description\": \"Products are fresh and healthy.\",\n",
        "        \"price\": 11.57,\n",
        "        \"quantity\": 33,\n",
        "        \"category\": \"fruits\"\n",
        "    },\n",
        "    \"075\": {\n",
        "        \"name\": \"Tea\",\n",
        "        \"description\": \"Products are refreshing and full of flavor.\",\n",
        "        \"price\": 7.15,\n",
        "        \"quantity\": 44,\n",
        "        \"category\": \"drinks\"\n",
        "    },\n",
        "    \"076\": {\n",
        "        \"name\": \"Oats\",\n",
        "        \"description\": \"Products are essential for a balanced diet.\",\n",
        "        \"price\": 6.79,\n",
        "        \"quantity\": 79,\n",
        "        \"category\": \"grains\"\n",
        "    },\n",
        "    \"077\": {\n",
        "        \"name\": \"Nuts\",\n",
        "        \"description\": \"Products are perfect for a quick bite.\",\n",
        "        \"price\": 16.5,\n",
        "        \"quantity\": 49,\n",
        "        \"category\": \"snacks\"\n",
        "    },\n",
        "    \"078\": {\n",
        "        \"name\": \"Cookies\",\n",
        "        \"description\": \"Products are perfect for a quick bite.\",\n",
        "        \"price\": 9.23,\n",
        "        \"quantity\": 27,\n",
        "        \"category\": \"snacks\"\n",
        "    },\n",
        "    \"079\": {\n",
        "        \"name\": \"Cheese\",\n",
        "        \"description\": \"Products are fresh from the farm.\",\n",
        "        \"price\": 15.49,\n",
        "        \"quantity\": 99,\n",
        "        \"category\": \"dairy\"\n",
        "    },\n",
        "    \"080\": {\n",
        "        \"name\": \"Rice\",\n",
        "        \"description\": \"Products are essential for a balanced diet.\",\n",
        "        \"price\": 9.04,\n",
        "        \"quantity\": 95,\n",
        "        \"category\": \"grains\"\n",
        "    },\n",
        "    \"081\": {\n",
        "        \"name\": \"Cookies\",\n",
        "        \"description\": \"Products are perfect for a quick bite.\",\n",
        "        \"price\": 14.47,\n",
        "        \"quantity\": 74,\n",
        "        \"category\": \"snacks\"\n",
        "    },\n",
        "    \"082\": {\n",
        "        \"name\": \"Sour Cream\",\n",
        "        \"description\": \"Products are fresh from the farm.\",\n",
        "        \"price\": 11.78,\n",
        "        \"quantity\": 11,\n",
        "        \"category\": \"dairy\"\n",
        "    },\n",
        "    \"083\": {\n",
        "        \"name\": \"Peppers\",\n",
        "        \"description\": \"Products are natural and nourishing.\",\n",
        "        \"price\": 7.45,\n",
        "        \"quantity\": 51,\n",
        "        \"category\": \"vegetables\"\n",
        "    },\n",
        "    \"084\": {\n",
        "        \"name\": \"Carrots\",\n",
        "        \"description\": \"Products are natural and nourishing.\",\n",
        "        \"price\": 2.31,\n",
        "        \"quantity\": 43,\n",
        "        \"category\": \"vegetables\"\n",
        "    },\n",
        "    \"085\": {\n",
        "        \"name\": \"Coffee\",\n",
        "        \"description\": \"Products are refreshing and full of flavor.\",\n",
        "        \"price\": 10.19,\n",
        "        \"quantity\": 43,\n",
        "        \"category\": \"drinks\"\n",
        "    },\n",
        "    \"086\": {\n",
        "        \"name\": \"Peppers\",\n",
        "        \"description\": \"Products are natural and nourishing.\",\n",
        "        \"price\": 10.79,\n",
        "        \"quantity\": 26,\n",
        "        \"category\": \"vegetables\"\n",
        "    },\n",
        "    \"087\": {\n",
        "        \"name\": \"Sour Cream\",\n",
        "        \"description\": \"Products are fresh from the farm.\",\n",
        "        \"price\": 4.96,\n",
        "        \"quantity\": 29,\n",
        "        \"category\": \"dairy\"\n",
        "    },\n",
        "    \"088\": {\n",
        "        \"name\": \"Sour Cream\",\n",
        "        \"description\": \"Products are fresh from the farm.\",\n",
        "        \"price\": 13.66,\n",
        "        \"quantity\": 75,\n",
        "        \"category\": \"dairy\"\n",
        "    },\n",
        "    \"089\": {\n",
        "        \"name\": \"Apples\",\n",
        "        \"description\": \"Products are fresh and healthy.\",\n",
        "        \"price\": 19.62,\n",
        "        \"quantity\": 34,\n",
        "        \"category\": \"fruits\"\n",
        "    },\n",
        "    \"090\": {\n",
        "        \"name\": \"Apples\",\n",
        "        \"description\": \"Products are fresh and healthy.\",\n",
        "        \"price\": 19.45,\n",
        "        \"quantity\": 51,\n",
        "        \"category\": \"fruits\"\n",
        "    },\n",
        "    \"091\": {\n",
        "        \"name\": \"Orange Juice\",\n",
        "        \"description\": \"Products are refreshing and full of flavor.\",\n",
        "        \"price\": 6.97,\n",
        "        \"quantity\": 42,\n",
        "        \"category\": \"drinks\"\n",
        "    },\n",
        "    \"092\": {\n",
        "        \"name\": \"Sour Cream\",\n",
        "        \"description\": \"Products are fresh from the farm.\",\n",
        "        \"price\": 19.15,\n",
        "        \"quantity\": 83,\n",
        "        \"category\": \"dairy\"\n",
        "    },\n",
        "    \"093\": {\n",
        "        \"name\": \"Rice\",\n",
        "        \"description\": \"Products are essential for a balanced diet.\",\n",
        "        \"price\": 10.5,\n",
        "        \"quantity\": 68,\n",
        "        \"category\": \"grains\"\n",
        "    },\n",
        "    \"094\": {\n",
        "        \"name\": \"Nuts\",\n",
        "        \"description\": \"Products are perfect for a quick bite.\",\n",
        "        \"price\": 10.55,\n",
        "        \"quantity\": 32,\n",
        "        \"category\": \"snacks\"\n",
        "    },\n",
        "    \"095\": {\n",
        "        \"name\": \"Nuts\",\n",
        "        \"description\": \"Products are perfect for a quick bite.\",\n",
        "        \"price\": 18.95,\n",
        "        \"quantity\": 100,\n",
        "        \"category\": \"snacks\"\n",
        "    },\n",
        "    \"096\": {\n",
        "        \"name\": \"Carrots\",\n",
        "        \"description\": \"Products are natural and nourishing.\",\n",
        "        \"price\": 1.68,\n",
        "        \"quantity\": 45,\n",
        "        \"category\": \"vegetables\"\n",
        "    },\n",
        "    \"097\": {\n",
        "        \"name\": \"Cheese\",\n",
        "        \"description\": \"Products are fresh from the farm.\",\n",
        "        \"price\": 4.39,\n",
        "        \"quantity\": 92,\n",
        "        \"category\": \"dairy\"\n",
        "    },\n",
        "    \"098\": {\n",
        "        \"name\": \"Eggplants\",\n",
        "        \"description\": \"Products are natural and nourishing.\",\n",
        "        \"price\": 5.26,\n",
        "        \"quantity\": 33,\n",
        "        \"category\": \"vegetables\"\n",
        "    },\n",
        "    \"099\": {\n",
        "        \"name\": \"Cucumbers\",\n",
        "        \"description\": \"Products are natural and nourishing.\",\n",
        "        \"price\": 3.73,\n",
        "        \"quantity\": 30,\n",
        "        \"category\": \"vegetables\"\n",
        "    },\n",
        "    \"100\": {\n",
        "        \"name\": \"Chocolate\",\n",
        "        \"description\": \"Products are perfect for a quick bite.\",\n",
        "        \"price\": 12.04,\n",
        "        \"quantity\": 51,\n",
        "        \"category\": \"snacks\"\n",
        "    }\n",
        "}"
      ]
    },
    {
      "cell_type": "code",
      "execution_count": null,
      "metadata": {
        "id": "jGWw8j03InmS"
      },
      "outputs": [],
      "source": [
        "'''\n",
        "1. Function that takes in a dictionary of products and displays the catalog in\n",
        "a tabular format with appropriate column headers. The function should take the\n",
        "dictionary of products as a parameter.\n",
        "'''\n",
        "def display_catalog(products_catalog):\n",
        "    pass\n",
        "\n",
        "\n",
        "'''\n",
        "2. Function that takes in a keyword and searches for products that contain the\n",
        "keyword in their name. The function should return a dictionary with the product\n",
        "IDs as keys and the product details as values. The function should take the\n",
        "keyword as a parameter.\n",
        "\n",
        "HINT: List Comprehension\n",
        "'''\n",
        "def search_product(keyword):\n",
        "    pass\n",
        "\n",
        "\n",
        "'''\n",
        "3. Function that takes in a category and filters the products based on the\n",
        "category. The function should return a dictionary with the product IDs as keys\n",
        "and the product details as values. The function should take the category as a\n",
        "parameter.\n",
        "\n",
        "HINT: List Comprehension\n",
        "'''\n",
        "def filter_category(category):\n",
        "    pass\n",
        "\n",
        "\n",
        "'''\n",
        "4. Function that adds a product to the shopping cart. The function should update\n",
        "the quantity of the product in the cart if the product is already in the cart.\n",
        "The function should also check if the quantity requested is available in stock\n",
        "and update the stock accordingly. The function should take the product ID and\n",
        "the quantity as parameters.\n",
        "'''\n",
        "def add_to_cart(product_id, quantity):\n",
        "    pass\n",
        "\n",
        "\n",
        "'''\n",
        "5. Function that removes a product from the shopping cart. The function should\n",
        "update the quantity of the product in the stock. The function should take the\n",
        "product ID as a parameter.\n",
        "'''\n",
        "def remove_from_cart(product_id):\n",
        "    pass\n",
        "\n",
        "\n",
        "'''\n",
        "6. Function that calculates the total price of the products in the shopping cart.\n",
        "The function should return the total price.\n",
        "'''\n",
        "def total():\n",
        "    pass\n",
        "\n",
        "\n",
        "'''\n",
        "7. Function that displays the receipt of the purchase. The function should\n",
        "display the products in the cart with their quantities and total price. The\n",
        "function should also clear the shopping cart after displaying the receipt.\n",
        "'''\n",
        "def finalize_purchase():\n",
        "    pass\n",
        "\n",
        "\n",
        "if __name__ == \"__main__\":\n",
        "\n",
        "     shopping_cart = []\n",
        "    # TODO: loop for the shopping cart application\n"
      ]
    }
  ],
  "metadata": {
    "colab": {
      "collapsed_sections": [
        "gC51ey34aTq1",
        "3jsBdKAiaYYG",
        "yRh0VVjIamKy"
      ],
      "provenance": []
    },
    "kernelspec": {
      "display_name": "Python 3",
      "name": "python3"
    },
    "language_info": {
      "name": "python"
    }
  },
  "nbformat": 4,
  "nbformat_minor": 0
}
