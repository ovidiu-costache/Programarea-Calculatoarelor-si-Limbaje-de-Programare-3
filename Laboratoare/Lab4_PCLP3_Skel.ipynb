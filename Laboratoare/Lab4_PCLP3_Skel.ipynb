{
  "cells": [
    {
      "cell_type": "markdown",
      "id": "31dc0244",
      "metadata": {
        "id": "31dc0244"
      },
      "source": [
        "# Laborator 4"
      ]
    },
    {
      "cell_type": "markdown",
      "id": "42c2bd77",
      "metadata": {
        "id": "42c2bd77"
      },
      "source": [
        "# Pandas\n",
        "\n",
        "Pandas este o bibliotecă Python populară și puternică utilizată pentru manipularea și analiza datelor tabulare. Principala structură de date în Pandas este DataFrame-ul, care este similar cu o tabelă dintr-o bază de date sau un fișier Excel."
      ]
    },
    {
      "cell_type": "markdown",
      "id": "5131ba51",
      "metadata": {
        "id": "5131ba51"
      },
      "source": [
        "## Citirea unui fișier CSV\n",
        "\n",
        "Pentru a încărca datele dintr-un fișier CSV într-un DataFrame, puteți utiliza funcția ```pd.read_csv()```."
      ]
    },
    {
      "cell_type": "code",
      "execution_count": null,
      "id": "d5e3707b",
      "metadata": {
        "id": "d5e3707b"
      },
      "outputs": [],
      "source": [
        "import pandas as pd\n",
        "\n",
        "df = pd.read_csv('demo.csv')"
      ]
    },
    {
      "cell_type": "markdown",
      "id": "754637b4",
      "metadata": {
        "id": "754637b4"
      },
      "source": [
        "## Utilizarea funcției head()\n",
        "\n",
        "Funcția ```head()``` este utilă pentru a vizualiza primele câteva rânduri ale unui DataFrame, permițându-vă să vedeți rapid structura și conținutul datelor."
      ]
    },
    {
      "cell_type": "code",
      "execution_count": null,
      "id": "02bb59fa",
      "metadata": {
        "id": "02bb59fa",
        "outputId": "a538dc40-449f-4136-faf9-89b2e1400b1f"
      },
      "outputs": [
        {
          "name": "stdout",
          "output_type": "stream",
          "text": [
            "   total_bill   tip     sex smoker  day    time  size\n",
            "0       16.99  1.01  Female     No  Sun  Dinner   2.0\n",
            "1       10.34  1.66    Male     No  Sun  Dinner   3.0\n",
            "2       21.01  3.50    Male     No  Sun  Dinner   3.0\n",
            "3       23.68  3.31    Male     No  Sun  Dinner   2.0\n",
            "4       24.59  3.61  Female     No  Sun  Dinner   4.0\n"
          ]
        }
      ],
      "source": [
        "print(df.head())"
      ]
    },
    {
      "cell_type": "markdown",
      "id": "da5949be",
      "metadata": {
        "id": "da5949be"
      },
      "source": [
        "## Utilizarea funcției info()\n",
        "\n",
        "Funcția ```info()``` oferă un sumar al informațiilor despre DataFrame, inclusiv numărul total de intrări, tipurile de date ale coloanelor și dacă există valori lipsă (NaN)."
      ]
    },
    {
      "cell_type": "code",
      "execution_count": null,
      "id": "8494521d",
      "metadata": {
        "id": "8494521d",
        "outputId": "a428ee76-18a7-44d7-b18c-c9b3d62c8003"
      },
      "outputs": [
        {
          "name": "stdout",
          "output_type": "stream",
          "text": [
            "<class 'pandas.core.frame.DataFrame'>\n",
            "RangeIndex: 244 entries, 0 to 243\n",
            "Data columns (total 7 columns):\n",
            " #   Column      Non-Null Count  Dtype  \n",
            "---  ------      --------------  -----  \n",
            " 0   total_bill  243 non-null    float64\n",
            " 1   tip         243 non-null    float64\n",
            " 2   sex         244 non-null    object \n",
            " 3   smoker      244 non-null    object \n",
            " 4   day         244 non-null    object \n",
            " 5   time        244 non-null    object \n",
            " 6   size        243 non-null    float64\n",
            "dtypes: float64(3), object(4)\n",
            "memory usage: 13.5+ KB\n",
            "None\n"
          ]
        }
      ],
      "source": [
        "print(df.info())"
      ]
    },
    {
      "cell_type": "markdown",
      "id": "500888ec",
      "metadata": {
        "id": "500888ec"
      },
      "source": [
        "## DataFrame în Pandas\n",
        "\n",
        "DataFrame-ul în Pandas este o structură de date bidimensională, similară cu o tabelă de bază de date sau un fișier Excel. Acesta constă din rânduri și coloane. Fiecare coloană are asociat un nume și poate conține valori de diverse tipuri (numeric, șiruri de caractere, etc.).\n",
        "\n",
        "Pentru a accesa o coloană specifică a unui DataFrame, puteți utiliza o sintaxă similară cu cea pentru dicționare."
      ]
    },
    {
      "cell_type": "code",
      "execution_count": null,
      "id": "6b96ea59",
      "metadata": {
        "id": "6b96ea59",
        "outputId": "aa9bcbe9-7e55-43e8-95bd-92dd0bdc09a2"
      },
      "outputs": [
        {
          "name": "stdout",
          "output_type": "stream",
          "text": [
            "0       Sun\n",
            "1       Sun\n",
            "2       Sun\n",
            "3       Sun\n",
            "4       Sun\n",
            "       ... \n",
            "239     Sat\n",
            "240     Sat\n",
            "241     Sat\n",
            "242     Sat\n",
            "243    Thur\n",
            "Name: day, Length: 244, dtype: object\n"
          ]
        }
      ],
      "source": [
        "coloana = df['day']\n",
        "print(coloana)"
      ]
    },
    {
      "cell_type": "code",
      "execution_count": null,
      "id": "f4b10fe3",
      "metadata": {
        "id": "f4b10fe3",
        "outputId": "0e175a5c-19a5-4c5b-b138-fd3660e375e0"
      },
      "outputs": [
        {
          "name": "stdout",
          "output_type": "stream",
          "text": [
            "Sun\n"
          ]
        }
      ],
      "source": [
        "linie = 2\n",
        "valoare = df.at[linie, 'day']\n",
        "print(valoare)"
      ]
    },
    {
      "cell_type": "markdown",
      "id": "c921da8d",
      "metadata": {
        "id": "c921da8d"
      },
      "source": [
        "În Pandas, ```dtypes``` este un atribut al unui DataFrame care oferă informații despre tipurile de date ale fiecărei coloane din DataFrame."
      ]
    },
    {
      "cell_type": "code",
      "execution_count": null,
      "id": "fc0993a4",
      "metadata": {
        "id": "fc0993a4",
        "outputId": "e0ebee8b-7828-49f1-f616-f623850b0b09"
      },
      "outputs": [
        {
          "data": {
            "text/plain": [
              "total_bill    float64\n",
              "tip           float64\n",
              "sex            object\n",
              "smoker         object\n",
              "day            object\n",
              "time           object\n",
              "size          float64\n",
              "dtype: object"
            ]
          },
          "execution_count": 6,
          "metadata": {},
          "output_type": "execute_result"
        }
      ],
      "source": [
        "df.dtypes"
      ]
    },
    {
      "cell_type": "markdown",
      "id": "5106e812",
      "metadata": {
        "id": "5106e812"
      },
      "source": [
        "## Utilizarea funcției tail()\n",
        "\n",
        "Funcția tail() permite să vizualizarea ultimelor câteva rânduri ale unui DataFrame. Este similară cu funcția head(), dar în loc să afișeze primele câteva rânduri, afișează ultimele câteva rânduri."
      ]
    },
    {
      "cell_type": "code",
      "execution_count": null,
      "id": "267824f9",
      "metadata": {
        "id": "267824f9",
        "outputId": "4458a4e5-6bf5-41de-9fb4-e7dfccc0b3e2"
      },
      "outputs": [
        {
          "name": "stdout",
          "output_type": "stream",
          "text": [
            "     total_bill   tip     sex smoker   day    time  size\n",
            "239       29.03  5.92    Male     No   Sat  Dinner   3.0\n",
            "240       27.18  2.00  Female    Yes   Sat  Dinner   2.0\n",
            "241       22.67  2.00    Male    Yes   Sat  Dinner   2.0\n",
            "242       17.82  1.75    Male     No   Sat  Dinner   2.0\n",
            "243       18.78  3.00  Female     No  Thur  Dinner   2.0\n",
            "=================================\n",
            "\n",
            "     total_bill   tip     sex smoker   day    time  size\n",
            "234       15.53  3.00    Male    Yes   Sat  Dinner   2.0\n",
            "235       10.07  1.25    Male     No   Sat  Dinner   2.0\n",
            "236       12.60  1.00    Male    Yes   Sat  Dinner   2.0\n",
            "237       32.83  1.17    Male    Yes   Sat  Dinner   2.0\n",
            "238       35.83  4.67  Female     No   Sat  Dinner   3.0\n",
            "239       29.03  5.92    Male     No   Sat  Dinner   3.0\n",
            "240       27.18  2.00  Female    Yes   Sat  Dinner   2.0\n",
            "241       22.67  2.00    Male    Yes   Sat  Dinner   2.0\n",
            "242       17.82  1.75    Male     No   Sat  Dinner   2.0\n",
            "243       18.78  3.00  Female     No  Thur  Dinner   2.0\n"
          ]
        }
      ],
      "source": [
        "print(df.tail())\n",
        "print(\"=================================\\n\")\n",
        "\n",
        "# Putem specifica pentru câte linii vrem să fie realizată afișarea\n",
        "print(df.tail(10))"
      ]
    },
    {
      "cell_type": "markdown",
      "id": "d4dd7a0b",
      "metadata": {
        "id": "d4dd7a0b"
      },
      "source": [
        "## Construcția unui DataFrame\n",
        "\n",
        "Putem transforma un dicționar din Python (ce are cheile numele coloanelor și valorile de forma unei liste cu elemente) într-un DataFrame."
      ]
    },
    {
      "cell_type": "code",
      "execution_count": null,
      "id": "0bb70da1",
      "metadata": {
        "id": "0bb70da1",
        "outputId": "32c70f43-a3a1-4181-b474-d6a8dccac971"
      },
      "outputs": [
        {
          "name": "stdout",
          "output_type": "stream",
          "text": [
            "   A  B\n",
            "0  1  a\n",
            "1  2  b\n",
            "2  3  c\n",
            "3  4  d\n",
            "4  5  e\n"
          ]
        }
      ],
      "source": [
        "# Crearea unui DataFrame simplu\n",
        "data = {'A': [1, 2, 3, 4, 5], 'B': ['a', 'b', 'c', 'd', 'e']}\n",
        "df2 = pd.DataFrame(data)\n",
        "print(df2)"
      ]
    },
    {
      "cell_type": "code",
      "execution_count": null,
      "id": "f9cbd5ae",
      "metadata": {
        "id": "f9cbd5ae",
        "outputId": "55d5399c-b743-4f72-cb63-dd6f3eedfe4f"
      },
      "outputs": [
        {
          "name": "stdout",
          "output_type": "stream",
          "text": [
            "      Nume  Vârstă  Salariu\n",
            "0    Alice      25    50000\n",
            "1      Bob      30    60000\n",
            "2  Charlie      35    70000\n",
            "3    David      40    80000\n"
          ]
        }
      ],
      "source": [
        "data = {'Nume': ['Alice', 'Bob', 'Charlie', 'David'],\n",
        "        'Vârstă': [25, 30, 35, 40],\n",
        "        'Salariu': [50000, 60000, 70000, 80000]}\n",
        "df3 = pd.DataFrame(data)\n",
        "print(df3)"
      ]
    },
    {
      "cell_type": "markdown",
      "id": "f21b57e6",
      "metadata": {
        "id": "f21b57e6"
      },
      "source": [
        "## Locate Row\n",
        "\n",
        "În DataFrame, care este similar cu o tabelă cu rânduri și coloane, funcția ```loc``` este folosită pentru a returna unul sau mai multe rânduri specificate. Atunci când utilizăm loc, putem face referire la rânduri folosind indicele lor. În exemplul dat, ```df.loc[0]``` indică faptul că dorim să accesăm și să afișăm conținutul rândului cu indicele 0 din DataFrame-ul ```df```. Acest lucru este deosebit de util în momentul în care avem nevoie să lucrăm cu rânduri specifice dintr-un DataFrame, fie pentru a extrage date pentru analiză sau pentru a efectua operații de modificare sau ștergere."
      ]
    },
    {
      "cell_type": "code",
      "execution_count": null,
      "id": "6d35eb4c",
      "metadata": {
        "id": "6d35eb4c",
        "outputId": "6b56d3a2-c157-457f-ac44-d980eb09a227"
      },
      "outputs": [
        {
          "name": "stdout",
          "output_type": "stream",
          "text": [
            "Nume       Alice\n",
            "Vârstă        25\n",
            "Salariu    50000\n",
            "Name: 0, dtype: object\n"
          ]
        }
      ],
      "source": [
        "print(df3.loc[0])"
      ]
    },
    {
      "cell_type": "code",
      "execution_count": null,
      "id": "f310d1ed",
      "metadata": {
        "id": "f310d1ed",
        "outputId": "95ba6de7-c1fa-44c1-879e-aa9e05eb9a83"
      },
      "outputs": [
        {
          "name": "stdout",
          "output_type": "stream",
          "text": [
            "    Nume  Vârstă  Salariu\n",
            "0  Alice      25    50000\n",
            "1    Bob      30    60000\n"
          ]
        }
      ],
      "source": [
        "print(df3.loc[[0, 1]])"
      ]
    },
    {
      "cell_type": "markdown",
      "id": "41e7c337",
      "metadata": {
        "id": "41e7c337"
      },
      "source": [
        "## Curățarea datelor\n",
        "\n",
        "În general, eliminarea rândurilor care conțin valori lipsă dintr-un set de date poate fi o etapă crucială în procesul de curățare a datelor.\n",
        "\n",
        "Acest lucru poate fi realizat cu ajutorul funcției ```dropna```."
      ]
    },
    {
      "cell_type": "code",
      "execution_count": null,
      "id": "6a3b051f",
      "metadata": {
        "id": "6a3b051f",
        "outputId": "65937e31-9eed-4418-feef-51f77015f3a2"
      },
      "outputs": [
        {
          "name": "stdout",
          "output_type": "stream",
          "text": [
            "     total_bill    tip     sex smoker   day    time  size\n",
            "0         16.99   1.01  Female     No   Sun  Dinner   2.0\n",
            "1         10.34   1.66    Male     No   Sun  Dinner   3.0\n",
            "2         21.01   3.50    Male     No   Sun  Dinner   3.0\n",
            "3         23.68   3.31    Male     No   Sun  Dinner   2.0\n",
            "4         24.59   3.61  Female     No   Sun  Dinner   4.0\n",
            "5         25.29   4.71    Male     No   Sun  Dinner   4.0\n",
            "6          8.77   2.00    Male     No   Sun  Dinner   2.0\n",
            "7         26.88   3.12    Male     No   Sun  Dinner   4.0\n",
            "8         15.04   1.96    Male     No   Sun  Dinner   2.0\n",
            "9         14.78   3.23    Male     No   Sun  Dinner   2.0\n",
            "10        10.27   1.71    Male     No   Sun  Dinner   2.0\n",
            "11        35.26   5.00  Female     No   Sun  Dinner   4.0\n",
            "12        15.42   1.57    Male     No   Sun  Dinner   2.0\n",
            "13        18.43   3.00    Male     No   Sun  Dinner   4.0\n",
            "14        14.83   3.02  Female     No   Sun  Dinner   2.0\n",
            "15        21.58   3.92    Male     No   Sun  Dinner   2.0\n",
            "16        10.33   1.67  Female     No   Sun  Dinner   3.0\n",
            "17        16.29   3.71    Male     No   Sun  Dinner   3.0\n",
            "18        16.97   3.50  Female     No   Sun  Dinner   3.0\n",
            "19        20.65   3.35    Male     No   Sat  Dinner   3.0\n",
            "20        17.92   4.08    Male     No   Sat  Dinner   2.0\n",
            "21        20.29   2.75  Female     No   Sat  Dinner   2.0\n",
            "22        15.77   2.23  Female     No   Sat  Dinner   2.0\n",
            "23        39.42   7.58    Male     No   Sat  Dinner   4.0\n",
            "24        19.82   3.18    Male     No   Sat  Dinner   2.0\n",
            "25        17.81   2.34    Male     No   Sat  Dinner   4.0\n",
            "26        13.37   2.00    Male     No   Sat  Dinner   2.0\n",
            "27        12.69   2.00    Male     No   Sat  Dinner   2.0\n",
            "28        21.70   4.30    Male     No   Sat  Dinner   2.0\n",
            "29        19.65   3.00  Female     No   Sat  Dinner   2.0\n",
            "30         9.55   1.45    Male     No   Sat  Dinner   2.0\n",
            "31        18.35   2.50    Male     No   Sat  Dinner   4.0\n",
            "32        15.06   3.00  Female     No   Sat  Dinner   2.0\n",
            "33        20.69   2.45  Female     No   Sat  Dinner   4.0\n",
            "34        17.78   3.27    Male     No   Sat  Dinner   2.0\n",
            "35        24.06   3.60    Male     No   Sat  Dinner   3.0\n",
            "36        16.31   2.00    Male     No   Sat  Dinner   3.0\n",
            "37        16.93   3.07  Female     No   Sat  Dinner   3.0\n",
            "38        18.69   2.31    Male     No   Sat  Dinner   3.0\n",
            "39        31.27   5.00    Male     No   Sat  Dinner   3.0\n",
            "40        16.04   2.24    Male     No   Sat  Dinner   3.0\n",
            "41        17.46   2.54    Male     No   Sun  Dinner   2.0\n",
            "42        13.94   3.06    Male     No   Sun  Dinner   2.0\n",
            "43         9.68   1.32    Male     No   Sun  Dinner   2.0\n",
            "44        30.40   5.60    Male     No   Sun  Dinner   4.0\n",
            "45        18.29   3.00    Male     No   Sun  Dinner   2.0\n",
            "46        22.23   5.00    Male     No   Sun  Dinner   2.0\n",
            "47        32.40   6.00    Male     No   Sun  Dinner   4.0\n",
            "49        18.04   3.00    Male     No   Sun  Dinner   2.0\n",
            "50        12.54   2.50    Male     No   Sun  Dinner   2.0\n",
            "51        10.29   2.60  Female     No   Sun  Dinner   2.0\n",
            "52        34.81   5.20  Female     No   Sun  Dinner   4.0\n",
            "53         9.94   1.56    Male     No   Sun  Dinner   2.0\n",
            "54        25.56   4.34    Male     No   Sun  Dinner   4.0\n",
            "55        19.49   3.51    Male     No   Sun  Dinner   2.0\n",
            "56        38.01   3.00    Male    Yes   Sat  Dinner   4.0\n",
            "57        26.41   1.50  Female     No   Sat  Dinner   2.0\n",
            "58        11.24   1.76    Male    Yes   Sat  Dinner   2.0\n",
            "59        48.27   6.73    Male     No   Sat  Dinner   4.0\n",
            "60        20.29   3.21    Male    Yes   Sat  Dinner   2.0\n",
            "61        13.81   2.00    Male    Yes   Sat  Dinner   2.0\n",
            "62        11.02   1.98    Male    Yes   Sat  Dinner   2.0\n",
            "63        18.29   3.76    Male    Yes   Sat  Dinner   4.0\n",
            "64        17.59   2.64    Male     No   Sat  Dinner   3.0\n",
            "65        20.08   3.15    Male     No   Sat  Dinner   3.0\n",
            "66        16.45   2.47  Female     No   Sat  Dinner   2.0\n",
            "68        20.23   2.01    Male     No   Sat  Dinner   2.0\n",
            "69        15.01   2.09    Male    Yes   Sat  Dinner   2.0\n",
            "70        12.02   1.97    Male     No   Sat  Dinner   2.0\n",
            "71        17.07   3.00  Female     No   Sat  Dinner   3.0\n",
            "72        26.86   3.14  Female    Yes   Sat  Dinner   2.0\n",
            "73        25.28   5.00  Female    Yes   Sat  Dinner   2.0\n",
            "74        14.73   2.20  Female     No   Sat  Dinner   2.0\n",
            "75        10.51   1.25    Male     No   Sat  Dinner   2.0\n",
            "76        17.92   3.08    Male    Yes   Sat  Dinner   2.0\n",
            "77        27.20   4.00    Male     No  Thur   Lunch   4.0\n",
            "78        22.76   3.00    Male     No  Thur   Lunch   2.0\n",
            "79        17.29   2.71    Male     No  Thur   Lunch   2.0\n",
            "81        16.66   3.40    Male     No  Thur   Lunch   2.0\n",
            "82        10.07   1.83  Female     No  Thur   Lunch   1.0\n",
            "83        32.68   5.00    Male    Yes  Thur   Lunch   2.0\n",
            "84        15.98   2.03    Male     No  Thur   Lunch   2.0\n",
            "85        34.83   5.17  Female     No  Thur   Lunch   4.0\n",
            "86        13.03   2.00    Male     No  Thur   Lunch   2.0\n",
            "87        18.28   4.00    Male     No  Thur   Lunch   2.0\n",
            "88        24.71   5.85    Male     No  Thur   Lunch   2.0\n",
            "89        21.16   3.00    Male     No  Thur   Lunch   2.0\n",
            "90        28.97   3.00    Male    Yes   Fri  Dinner   2.0\n",
            "91        22.49   3.50    Male     No   Fri  Dinner   2.0\n",
            "92         5.75   1.00  Female    Yes   Fri  Dinner   2.0\n",
            "93        16.32   4.30  Female    Yes   Fri  Dinner   2.0\n",
            "94        22.75   3.25  Female     No   Fri  Dinner   2.0\n",
            "95        40.17   4.73    Male    Yes   Fri  Dinner   4.0\n",
            "96        27.28   4.00    Male    Yes   Fri  Dinner   2.0\n",
            "97        12.03   1.50    Male    Yes   Fri  Dinner   2.0\n",
            "98        21.01   3.00    Male    Yes   Fri  Dinner   2.0\n",
            "99        12.46   1.50    Male     No   Fri  Dinner   2.0\n",
            "100       11.35   2.50  Female    Yes   Fri  Dinner   2.0\n",
            "101       15.38   3.00  Female    Yes   Fri  Dinner   2.0\n",
            "102       44.30   2.50  Female    Yes   Sat  Dinner   3.0\n",
            "103       22.42   3.48  Female    Yes   Sat  Dinner   2.0\n",
            "104       20.92   4.08  Female     No   Sat  Dinner   2.0\n",
            "105       15.36   1.64    Male    Yes   Sat  Dinner   2.0\n",
            "106       20.49   4.06    Male    Yes   Sat  Dinner   2.0\n",
            "107       25.21   4.29    Male    Yes   Sat  Dinner   2.0\n",
            "108       18.24   3.76    Male     No   Sat  Dinner   2.0\n",
            "109       14.31   4.00  Female    Yes   Sat  Dinner   2.0\n",
            "110       14.00   3.00    Male     No   Sat  Dinner   2.0\n",
            "111        7.25   1.00  Female     No   Sat  Dinner   1.0\n",
            "112       38.07   4.00    Male     No   Sun  Dinner   3.0\n",
            "113       23.95   2.55    Male     No   Sun  Dinner   2.0\n",
            "114       25.71   4.00  Female     No   Sun  Dinner   3.0\n",
            "115       17.31   3.50  Female     No   Sun  Dinner   2.0\n",
            "116       29.93   5.07    Male     No   Sun  Dinner   4.0\n",
            "117       10.65   1.50  Female     No  Thur   Lunch   2.0\n",
            "118       12.43   1.80  Female     No  Thur   Lunch   2.0\n",
            "119       24.08   2.92  Female     No  Thur   Lunch   4.0\n",
            "120       11.69   2.31    Male     No  Thur   Lunch   2.0\n",
            "121       13.42   1.68  Female     No  Thur   Lunch   2.0\n",
            "122       14.26   2.50    Male     No  Thur   Lunch   2.0\n",
            "123       15.95   2.00    Male     No  Thur   Lunch   2.0\n",
            "124       12.48   2.52  Female     No  Thur   Lunch   2.0\n",
            "125       29.80   4.20  Female     No  Thur   Lunch   6.0\n",
            "126        8.52   1.48    Male     No  Thur   Lunch   2.0\n",
            "127       14.52   2.00  Female     No  Thur   Lunch   2.0\n",
            "128       11.38   2.00  Female     No  Thur   Lunch   2.0\n",
            "129       22.82   2.18    Male     No  Thur   Lunch   3.0\n",
            "130       19.08   1.50    Male     No  Thur   Lunch   2.0\n",
            "131       20.27   2.83  Female     No  Thur   Lunch   2.0\n",
            "132       11.17   1.50  Female     No  Thur   Lunch   2.0\n",
            "133       12.26   2.00  Female     No  Thur   Lunch   2.0\n",
            "134       18.26   3.25  Female     No  Thur   Lunch   2.0\n",
            "135        8.51   1.25  Female     No  Thur   Lunch   2.0\n",
            "136       10.33   2.00  Female     No  Thur   Lunch   2.0\n",
            "137       14.15   2.00  Female     No  Thur   Lunch   2.0\n",
            "138       16.00   2.00    Male    Yes  Thur   Lunch   2.0\n",
            "139       13.16   2.75  Female     No  Thur   Lunch   2.0\n",
            "140       17.47   3.50  Female     No  Thur   Lunch   2.0\n",
            "141       34.30   6.70    Male     No  Thur   Lunch   6.0\n",
            "142       41.19   5.00    Male     No  Thur   Lunch   5.0\n",
            "143       27.05   5.00  Female     No  Thur   Lunch   6.0\n",
            "144       16.43   2.30  Female     No  Thur   Lunch   2.0\n",
            "145        8.35   1.50  Female     No  Thur   Lunch   2.0\n",
            "146       18.64   1.36  Female     No  Thur   Lunch   3.0\n",
            "147       11.87   1.63  Female     No  Thur   Lunch   2.0\n",
            "148        9.78   1.73    Male     No  Thur   Lunch   2.0\n",
            "149        7.51   2.00    Male     No  Thur   Lunch   2.0\n",
            "150       14.07   2.50    Male     No   Sun  Dinner   2.0\n",
            "151       13.13   2.00    Male     No   Sun  Dinner   2.0\n",
            "152       17.26   2.74    Male     No   Sun  Dinner   3.0\n",
            "153       24.55   2.00    Male     No   Sun  Dinner   4.0\n",
            "154       19.77   2.00    Male     No   Sun  Dinner   4.0\n",
            "155       29.85   5.14  Female     No   Sun  Dinner   5.0\n",
            "156       48.17   5.00    Male     No   Sun  Dinner   6.0\n",
            "157       25.00   3.75  Female     No   Sun  Dinner   4.0\n",
            "158       13.39   2.61  Female     No   Sun  Dinner   2.0\n",
            "159       16.49   2.00    Male     No   Sun  Dinner   4.0\n",
            "160       21.50   3.50    Male     No   Sun  Dinner   4.0\n",
            "161       12.66   2.50    Male     No   Sun  Dinner   2.0\n",
            "162       16.21   2.00  Female     No   Sun  Dinner   3.0\n",
            "163       13.81   2.00    Male     No   Sun  Dinner   2.0\n",
            "164       17.51   3.00  Female    Yes   Sun  Dinner   2.0\n",
            "165       24.52   3.48    Male     No   Sun  Dinner   3.0\n",
            "166       20.76   2.24    Male     No   Sun  Dinner   2.0\n",
            "167       31.71   4.50    Male     No   Sun  Dinner   4.0\n",
            "168       10.59   1.61  Female    Yes   Sat  Dinner   2.0\n",
            "169       10.63   2.00  Female    Yes   Sat  Dinner   2.0\n",
            "170       50.81  10.00    Male    Yes   Sat  Dinner   3.0\n",
            "171       15.81   3.16    Male    Yes   Sat  Dinner   2.0\n",
            "172        7.25   5.15    Male    Yes   Sun  Dinner   2.0\n",
            "173       31.85   3.18    Male    Yes   Sun  Dinner   2.0\n",
            "174       16.82   4.00    Male    Yes   Sun  Dinner   2.0\n",
            "175       32.90   3.11    Male    Yes   Sun  Dinner   2.0\n",
            "176       17.89   2.00    Male    Yes   Sun  Dinner   2.0\n",
            "177       14.48   2.00    Male    Yes   Sun  Dinner   2.0\n",
            "178        9.60   4.00  Female    Yes   Sun  Dinner   2.0\n",
            "179       34.63   3.55    Male    Yes   Sun  Dinner   2.0\n",
            "180       34.65   3.68    Male    Yes   Sun  Dinner   4.0\n",
            "181       23.33   5.65    Male    Yes   Sun  Dinner   2.0\n",
            "182       45.35   3.50    Male    Yes   Sun  Dinner   3.0\n",
            "183       23.17   6.50    Male    Yes   Sun  Dinner   4.0\n",
            "184       40.55   3.00    Male    Yes   Sun  Dinner   2.0\n",
            "185       20.69   5.00    Male     No   Sun  Dinner   5.0\n",
            "186       20.90   3.50  Female    Yes   Sun  Dinner   3.0\n",
            "187       30.46   2.00    Male    Yes   Sun  Dinner   5.0\n",
            "188       18.15   3.50  Female    Yes   Sun  Dinner   3.0\n",
            "189       23.10   4.00    Male    Yes   Sun  Dinner   3.0\n",
            "190       15.69   1.50    Male    Yes   Sun  Dinner   2.0\n",
            "191       19.81   4.19  Female    Yes  Thur   Lunch   2.0\n",
            "192       28.44   2.56    Male    Yes  Thur   Lunch   2.0\n",
            "193       15.48   2.02    Male    Yes  Thur   Lunch   2.0\n",
            "194       16.58   4.00    Male    Yes  Thur   Lunch   2.0\n",
            "195        7.56   1.44    Male     No  Thur   Lunch   2.0\n",
            "196       10.34   2.00    Male    Yes  Thur   Lunch   2.0\n",
            "197       43.11   5.00  Female    Yes  Thur   Lunch   4.0\n",
            "198       13.00   2.00  Female    Yes  Thur   Lunch   2.0\n",
            "199       13.51   2.00    Male    Yes  Thur   Lunch   2.0\n",
            "200       18.71   4.00    Male    Yes  Thur   Lunch   3.0\n",
            "201       12.74   2.01  Female    Yes  Thur   Lunch   2.0\n",
            "202       13.00   2.00  Female    Yes  Thur   Lunch   2.0\n",
            "203       16.40   2.50  Female    Yes  Thur   Lunch   2.0\n",
            "204       20.53   4.00    Male    Yes  Thur   Lunch   4.0\n",
            "205       16.47   3.23  Female    Yes  Thur   Lunch   3.0\n",
            "206       26.59   3.41    Male    Yes   Sat  Dinner   3.0\n",
            "207       38.73   3.00    Male    Yes   Sat  Dinner   4.0\n",
            "208       24.27   2.03    Male    Yes   Sat  Dinner   2.0\n",
            "209       12.76   2.23  Female    Yes   Sat  Dinner   2.0\n",
            "210       30.06   2.00    Male    Yes   Sat  Dinner   3.0\n",
            "211       25.89   5.16    Male    Yes   Sat  Dinner   4.0\n",
            "212       48.33   9.00    Male     No   Sat  Dinner   4.0\n",
            "213       13.27   2.50  Female    Yes   Sat  Dinner   2.0\n",
            "214       28.17   6.50  Female    Yes   Sat  Dinner   3.0\n",
            "215       12.90   1.10  Female    Yes   Sat  Dinner   2.0\n",
            "216       28.15   3.00    Male    Yes   Sat  Dinner   5.0\n",
            "217       11.59   1.50    Male    Yes   Sat  Dinner   2.0\n",
            "218        7.74   1.44    Male    Yes   Sat  Dinner   2.0\n",
            "219       30.14   3.09  Female    Yes   Sat  Dinner   4.0\n",
            "220       12.16   2.20    Male    Yes   Fri   Lunch   2.0\n",
            "221       13.42   3.48  Female    Yes   Fri   Lunch   2.0\n",
            "222        8.58   1.92    Male    Yes   Fri   Lunch   1.0\n",
            "223       15.98   3.00  Female     No   Fri   Lunch   3.0\n",
            "224       13.42   1.58    Male    Yes   Fri   Lunch   2.0\n",
            "225       16.27   2.50  Female    Yes   Fri   Lunch   2.0\n",
            "226       10.09   2.00  Female    Yes   Fri   Lunch   2.0\n",
            "227       20.45   3.00    Male     No   Sat  Dinner   4.0\n",
            "228       13.28   2.72    Male     No   Sat  Dinner   2.0\n",
            "229       22.12   2.88  Female    Yes   Sat  Dinner   2.0\n",
            "230       24.01   2.00    Male    Yes   Sat  Dinner   4.0\n",
            "231       15.69   3.00    Male    Yes   Sat  Dinner   3.0\n",
            "232       11.61   3.39    Male     No   Sat  Dinner   2.0\n",
            "233       10.77   1.47    Male     No   Sat  Dinner   2.0\n",
            "234       15.53   3.00    Male    Yes   Sat  Dinner   2.0\n",
            "235       10.07   1.25    Male     No   Sat  Dinner   2.0\n",
            "236       12.60   1.00    Male    Yes   Sat  Dinner   2.0\n",
            "237       32.83   1.17    Male    Yes   Sat  Dinner   2.0\n",
            "238       35.83   4.67  Female     No   Sat  Dinner   3.0\n",
            "239       29.03   5.92    Male     No   Sat  Dinner   3.0\n",
            "240       27.18   2.00  Female    Yes   Sat  Dinner   2.0\n",
            "241       22.67   2.00    Male    Yes   Sat  Dinner   2.0\n",
            "242       17.82   1.75    Male     No   Sat  Dinner   2.0\n",
            "243       18.78   3.00  Female     No  Thur  Dinner   2.0\n"
          ]
        }
      ],
      "source": [
        "new_df = df.dropna()\n",
        "print(new_df.to_string())"
      ]
    },
    {
      "cell_type": "code",
      "execution_count": null,
      "id": "33c8fef1",
      "metadata": {
        "id": "33c8fef1",
        "outputId": "2edb6a97-6604-4e5e-df22-6f216bfe2c0e"
      },
      "outputs": [
        {
          "name": "stdout",
          "output_type": "stream",
          "text": [
            "<class 'pandas.core.frame.DataFrame'>\n",
            "Int64Index: 241 entries, 0 to 243\n",
            "Data columns (total 7 columns):\n",
            " #   Column      Non-Null Count  Dtype  \n",
            "---  ------      --------------  -----  \n",
            " 0   total_bill  241 non-null    float64\n",
            " 1   tip         241 non-null    float64\n",
            " 2   sex         241 non-null    object \n",
            " 3   smoker      241 non-null    object \n",
            " 4   day         241 non-null    object \n",
            " 5   time        241 non-null    object \n",
            " 6   size        241 non-null    float64\n",
            "dtypes: float64(3), object(4)\n",
            "memory usage: 15.1+ KB\n",
            "None\n"
          ]
        }
      ],
      "source": [
        "print(new_df.info())"
      ]
    },
    {
      "cell_type": "markdown",
      "id": "0667cc34",
      "metadata": {
        "id": "0667cc34"
      },
      "source": [
        "## Înlocuirea valorilor lipsă\n",
        "\n",
        "Uneori nu ne putem permite să eliminăm complet rândurile cu valori lipsă din setul nostru de date, deoarece am putea pierde informații valoroase sau am putea afecta dimensiunea și reprezentativitatea setului de date. În astfel de situații, o abordare comună este să apelăm la metode de înlocuire a valorilor lipsă.\n",
        "\n",
        "Una dintre cele mai comune metode de înlocuire a valorilor lipsă pentru date numerice este înlocuirea acestora cu valoarea medie a coloanei respective."
      ]
    },
    {
      "cell_type": "code",
      "execution_count": null,
      "id": "5ae3c6d1",
      "metadata": {
        "id": "5ae3c6d1",
        "outputId": "94b04e83-d977-427d-849b-6b9d4390564c"
      },
      "outputs": [
        {
          "name": "stdout",
          "output_type": "stream",
          "text": [
            "<class 'pandas.core.frame.DataFrame'>\n",
            "RangeIndex: 244 entries, 0 to 243\n",
            "Data columns (total 7 columns):\n",
            " #   Column      Non-Null Count  Dtype  \n",
            "---  ------      --------------  -----  \n",
            " 0   total_bill  243 non-null    float64\n",
            " 1   tip         243 non-null    float64\n",
            " 2   sex         244 non-null    object \n",
            " 3   smoker      244 non-null    object \n",
            " 4   day         244 non-null    object \n",
            " 5   time        244 non-null    object \n",
            " 6   size        244 non-null    float64\n",
            "dtypes: float64(3), object(4)\n",
            "memory usage: 13.5+ KB\n",
            "None\n"
          ]
        }
      ],
      "source": [
        "x = df[\"size\"].mean()\n",
        "df[\"size\"].fillna(x, inplace = True)\n",
        "print(df.info())"
      ]
    },
    {
      "cell_type": "markdown",
      "id": "112f075b",
      "metadata": {
        "id": "112f075b"
      },
      "source": [
        "## Corelația\n",
        "\n",
        "Un aspect excelent al modulului Pandas este metoda ```corr()```. Metoda ```corr()``` calculează relația între fiecare coloană din setul tău de date. Rezultatul metodei ```corr()``` este o tabelă cu o mulțime de numere care reprezintă cât de bine este relația între două coloane.\n",
        "\n",
        "Numărul variază de la -1 la 1.\n",
        "\n",
        "1 înseamnă că există o relație de 1 la 1 (o corelație perfectă), iar pentru acest set de date, de fiecare dată când o valoare a crescut în prima coloană, cealaltă a crescut și ea.\n",
        "\n",
        "0.9 este de asemenea o relație bună, iar dacă crești o valoare, probabil că și cealaltă va crește.\n",
        "\n",
        "-0.9 ar fi la fel de bună relație ca și 0.9, dar dacă crești o valoare, cealaltă probabil va scădea.\n",
        "\n",
        "0.2 înseamnă NU o relație bună, ceea ce înseamnă că dacă o valoare crește, nu înseamnă că și cealaltă va face la fel.\n",
        "\n"
      ]
    },
    {
      "cell_type": "code",
      "execution_count": null,
      "id": "7de399a7",
      "metadata": {
        "id": "7de399a7",
        "outputId": "2c729e17-da83-451d-8550-4d13bca4e7d9"
      },
      "outputs": [
        {
          "data": {
            "text/html": [
              "<div>\n",
              "<style scoped>\n",
              "    .dataframe tbody tr th:only-of-type {\n",
              "        vertical-align: middle;\n",
              "    }\n",
              "\n",
              "    .dataframe tbody tr th {\n",
              "        vertical-align: top;\n",
              "    }\n",
              "\n",
              "    .dataframe thead th {\n",
              "        text-align: right;\n",
              "    }\n",
              "</style>\n",
              "<table border=\"1\" class=\"dataframe\">\n",
              "  <thead>\n",
              "    <tr style=\"text-align: right;\">\n",
              "      <th></th>\n",
              "      <th>total_bill</th>\n",
              "      <th>tip</th>\n",
              "      <th>size</th>\n",
              "    </tr>\n",
              "  </thead>\n",
              "  <tbody>\n",
              "    <tr>\n",
              "      <th>total_bill</th>\n",
              "      <td>1.000000</td>\n",
              "      <td>0.677179</td>\n",
              "      <td>0.593508</td>\n",
              "    </tr>\n",
              "    <tr>\n",
              "      <th>tip</th>\n",
              "      <td>0.677179</td>\n",
              "      <td>1.000000</td>\n",
              "      <td>0.491623</td>\n",
              "    </tr>\n",
              "    <tr>\n",
              "      <th>size</th>\n",
              "      <td>0.593508</td>\n",
              "      <td>0.491623</td>\n",
              "      <td>1.000000</td>\n",
              "    </tr>\n",
              "  </tbody>\n",
              "</table>\n",
              "</div>"
            ],
            "text/plain": [
              "            total_bill       tip      size\n",
              "total_bill    1.000000  0.677179  0.593508\n",
              "tip           0.677179  1.000000  0.491623\n",
              "size          0.593508  0.491623  1.000000"
            ]
          },
          "execution_count": 15,
          "metadata": {},
          "output_type": "execute_result"
        }
      ],
      "source": [
        " df.corr()"
      ]
    },
    {
      "cell_type": "markdown",
      "id": "8755c44e",
      "metadata": {
        "id": "8755c44e"
      },
      "source": [
        "## Generarea graficelor"
      ]
    },
    {
      "cell_type": "code",
      "execution_count": null,
      "id": "b0bab3ad",
      "metadata": {
        "id": "b0bab3ad",
        "outputId": "e4d7541e-8de3-4cac-d6a0-af9a7a23cf34"
      },
      "outputs": [
        {
          "data": {
            "image/png": "[encoded data removed]",
            "text/plain": [
              "<Figure size 640x480 with 1 Axes>"
            ]
          },
          "metadata": {},
          "output_type": "display_data"
        }
      ],
      "source": [
        "import matplotlib.pyplot as plt\n",
        "%matplotlib inline\n",
        "\n",
        "df.plot()\n",
        "plt.show()"
      ]
    },
    {
      "cell_type": "code",
      "execution_count": null,
      "id": "2d692ed8",
      "metadata": {
        "id": "2d692ed8",
        "outputId": "be4dc977-59f2-4111-9703-a6eb632e87cd"
      },
      "outputs": [
        {
          "data": {
            "image/png": "[encoded data removed]",
            "text/plain": [
              "<Figure size 640x480 with 1 Axes>"
            ]
          },
          "metadata": {},
          "output_type": "display_data"
        }
      ],
      "source": [
        "df.plot(kind = 'scatter', x = 'size', y = 'total_bill')\n",
        "plt.show()"
      ]
    },
    {
      "cell_type": "code",
      "execution_count": null,
      "id": "3f8d3117",
      "metadata": {
        "id": "3f8d3117",
        "outputId": "ef2bcb77-a937-4e1b-f84f-c77eaa79cfe5"
      },
      "outputs": [
        {
          "data": {
            "text/plain": [
              "<AxesSubplot:ylabel='Frequency'>"
            ]
          },
          "execution_count": 18,
          "metadata": {},
          "output_type": "execute_result"
        },
        {
          "data": {
            "image/png": "[encoded data removed]",
            "text/plain": [
              "<Figure size 640x480 with 1 Axes>"
            ]
          },
          "metadata": {},
          "output_type": "display_data"
        }
      ],
      "source": [
        " df[\"size\"].plot(kind = 'hist')"
      ]
    },
    {
      "cell_type": "markdown",
      "id": "cb347fd9",
      "metadata": {
        "id": "cb347fd9"
      },
      "source": [
        "# Matplotlib\n",
        "\n",
        "Matplotlib este o bibliotecă Python puternică și flexibilă pentru vizualizarea datelor și crearea de grafice. Acesta oferă o varietate de funcții și metode pentru a crea o gamă largă de grafice, inclusiv grafice de tip linie, grafice cu bare, grafice de dispersie, histograme, diagrame circulare și multe altele. Matplotlib este larg utilizat în domenii precum data science, inginerie, finanțe, cercetarea academică și vizualizarea datelor."
      ]
    },
    {
      "cell_type": "markdown",
      "id": "c6530159",
      "metadata": {
        "id": "c6530159"
      },
      "source": [
        "## Graficul unei funcții\n",
        "\n",
        "Pornim de la un exemplu în care realizăm graficul funcției $f : [-20, 20] \\rightarrow \\mathbb{R}$, unde:\n",
        "\n",
        "$$f(x) = x^2 + 4x + 1$$"
      ]
    },
    {
      "cell_type": "code",
      "execution_count": null,
      "id": "679cbad8",
      "metadata": {
        "id": "679cbad8",
        "outputId": "08587c0f-4e39-4f93-ab10-6904333d58cf"
      },
      "outputs": [
        {
          "data": {
            "image/png": "[encoded data removed]",
            "text/plain": [
              "<Figure size 640x480 with 1 Axes>"
            ]
          },
          "metadata": {},
          "output_type": "display_data"
        }
      ],
      "source": [
        "import matplotlib.pyplot as plt\n",
        "import numpy as np\n",
        "\n",
        "# definim mulțimea punctelor\n",
        "xpoints = np.arange(-20, 20)\n",
        "\n",
        "# definim funcția f\n",
        "f = lambda x : x**2 + 4 * x + 1\n",
        "\n",
        "# calculăm valorile funcției f pentru fiecare x din xpoints\n",
        "ypoints = [f(x) for x in xpoints]\n",
        "\n",
        "# realizăm graficul\n",
        "plt.plot(xpoints, ypoints, label=\"f(x) = x^2 + 4x + 1\")\n",
        "plt.xlabel(\"x\")\n",
        "plt.ylabel(\"f(x)\")\n",
        "plt.legend()\n",
        "plt.grid(True)\n",
        "plt.show()"
      ]
    },
    {
      "cell_type": "markdown",
      "id": "6e4403da",
      "metadata": {
        "id": "6e4403da"
      },
      "source": [
        "## Funcția scatter\n",
        "\n",
        "Funcția scatter() plasează un punct pentru fiecare observație. Aceasta necesită două tablouri de aceeași lungime, unul pentru valorile de pe axa x și unul pentru valorile de pe axa y."
      ]
    },
    {
      "cell_type": "code",
      "execution_count": null,
      "id": "78d0fc78",
      "metadata": {
        "id": "78d0fc78",
        "outputId": "61d47876-170f-4959-8a45-b90f736cd129"
      },
      "outputs": [
        {
          "data": {
            "image/png": "[encoded data removed]",
            "text/plain": [
              "<Figure size 640x480 with 1 Axes>"
            ]
          },
          "metadata": {},
          "output_type": "display_data"
        }
      ],
      "source": [
        "x = np.array([5,7,8,7,2,17,2,9,4,11,12,9,6])\n",
        "y = np.array([99,86,87,88,111,86,103,87,94,78,77,85,86])\n",
        "\n",
        "plt.scatter(x, y)\n",
        "plt.show()"
      ]
    },
    {
      "cell_type": "markdown",
      "id": "05b5673e",
      "metadata": {
        "id": "05b5673e"
      },
      "source": [
        "## Funcția bar"
      ]
    },
    {
      "cell_type": "code",
      "execution_count": null,
      "id": "cb9b4a06",
      "metadata": {
        "id": "cb9b4a06",
        "outputId": "f566dfd9-299c-40bd-d9a1-c5b00f6687ba"
      },
      "outputs": [
        {
          "data": {
            "image/png": "[encoded data removed]",
            "text/plain": [
              "<Figure size 640x480 with 1 Axes>"
            ]
          },
          "metadata": {},
          "output_type": "display_data"
        }
      ],
      "source": [
        "x = np.array([\"A\", \"B\", \"C\", \"D\"])\n",
        "y = np.array([3, 8, 1, 10])\n",
        "\n",
        "plt.bar(x,y)\n",
        "plt.show()"
      ]
    },
    {
      "cell_type": "markdown",
      "id": "62a542d2",
      "metadata": {
        "id": "62a542d2"
      },
      "source": [
        "## Funcția hist\n"
      ]
    },
    {
      "cell_type": "code",
      "execution_count": null,
      "id": "ffaf7e57",
      "metadata": {
        "id": "ffaf7e57",
        "outputId": "a9e2b2a6-eb1d-4bad-e7c1-684c4a5d33d2"
      },
      "outputs": [
        {
          "data": {
            "image/png": "[encoded data removed]",
            "text/plain": [
              "<Figure size 640x480 with 1 Axes>"
            ]
          },
          "metadata": {},
          "output_type": "display_data"
        }
      ],
      "source": [
        "x = np.random.normal(170, 10, 250)\n",
        "\n",
        "plt.hist(x)\n",
        "plt.show()"
      ]
    },
    {
      "cell_type": "markdown",
      "id": "33a54eca",
      "metadata": {
        "id": "33a54eca"
      },
      "source": [
        "# Problema 1\n",
        "\n",
        "Implementați o funcție Python care citește datele din fișierul 'grades.csv' și calculează următoarele statistici pentru coloanele cu date numerice (cele care conțin note): media, valoarea maximă, valoarea minimă și deviația standard a notelor.\n",
        "\n",
        "Hint: ```select_dtypes(include=np.number)```"
      ]
    },
    {
      "cell_type": "code",
      "execution_count": null,
      "id": "3ee63409",
      "metadata": {
        "id": "3ee63409"
      },
      "outputs": [],
      "source": [
        "import pandas as pd\n",
        "import numpy as np\n",
        "\n",
        "def calculate_statistics(filename):\n",
        "    \"\"\"\n",
        "    Calculează media, valoarea maximă, valoarea minimă și deviația standard a datelor.\n",
        "    \"\"\"\n",
        "    # TODO\n",
        "    statistics = {\n",
        "        'Mean': 0,\n",
        "        'Max': 0,\n",
        "        'Min': 0,\n",
        "        'Standard Deviation': 0\n",
        "    }\n",
        "    return statistics"
      ]
    },
    {
      "cell_type": "code",
      "execution_count": null,
      "id": "2ee3a31e",
      "metadata": {
        "scrolled": true,
        "id": "2ee3a31e",
        "outputId": "aeb35ed3-3ccf-4300-e20a-7680b167ebd3"
      },
      "outputs": [
        {
          "name": "stdout",
          "output_type": "stream",
          "text": [
            "Statistici pentru note:\n",
            "Mean: 0\n",
            "Max: 0\n",
            "Min: 0\n",
            "Standard Deviation: 0\n"
          ]
        }
      ],
      "source": [
        "filename = 'grades.csv'\n",
        "# Calculează statisticile\n",
        "statistics = calculate_statistics(filename)\n",
        "# Afișează statisticile\n",
        "print(\"Statistici pentru note:\")\n",
        "for stat, value in statistics.items():\n",
        "    print(f\"{stat}: {value}\")"
      ]
    },
    {
      "cell_type": "markdown",
      "id": "7cbf3e6d",
      "metadata": {
        "id": "7cbf3e6d"
      },
      "source": [
        "# Problema 2\n",
        "\n",
        "Încărcați datele din fișierul 'housePrices.csv' și afișați primele 5 înregistrări. Prima coloană reprezintă dimensiunea casei, iar a doua coloană reprezintă prețul corespunzător."
      ]
    },
    {
      "cell_type": "code",
      "execution_count": null,
      "id": "493d1d71",
      "metadata": {
        "id": "493d1d71"
      },
      "outputs": [],
      "source": [
        "# TODO"
      ]
    },
    {
      "cell_type": "markdown",
      "id": "9c48c2aa",
      "metadata": {
        "id": "9c48c2aa"
      },
      "source": [
        "# Problema 3\n",
        "\n",
        "Pentru DataFrame-ul cu datele din fișierul 'housePrices.csv' calculați media, valoarea maximă, valoarea minimă și deviația standard a prețurilor caselor."
      ]
    },
    {
      "cell_type": "code",
      "execution_count": null,
      "id": "46273f98",
      "metadata": {
        "id": "46273f98"
      },
      "outputs": [],
      "source": [
        "# TODO"
      ]
    },
    {
      "cell_type": "markdown",
      "id": "5938091e",
      "metadata": {
        "id": "5938091e"
      },
      "source": [
        "# Problema 4\n",
        "\n",
        "Determinați linia pentru cea mai scumpă casă și afișați dimensiunea acesteia."
      ]
    },
    {
      "cell_type": "code",
      "execution_count": null,
      "id": "ea374712",
      "metadata": {
        "id": "ea374712"
      },
      "outputs": [],
      "source": [
        "# TODO\n"
      ]
    },
    {
      "cell_type": "markdown",
      "id": "41533ff1",
      "metadata": {
        "id": "41533ff1"
      },
      "source": [
        "# Problema 5\n",
        "\n",
        "Normalizați valorile din ambele coloane prin împărțirea lor la valorile lor maxime și salvați valorile normalizate într-un fișier CSV nou."
      ]
    },
    {
      "cell_type": "code",
      "execution_count": null,
      "id": "bffa41e8",
      "metadata": {
        "id": "bffa41e8"
      },
      "outputs": [],
      "source": [
        "# TODO\n"
      ]
    },
    {
      "cell_type": "markdown",
      "id": "fc39fcdc",
      "metadata": {
        "id": "fc39fcdc"
      },
      "source": [
        "# Problema 6\n",
        "\n",
        "Afișați doar casele mai mari de $100 m^2$ împreună cu prețurile lor."
      ]
    },
    {
      "cell_type": "code",
      "execution_count": null,
      "id": "50c0e89c",
      "metadata": {
        "id": "50c0e89c"
      },
      "outputs": [],
      "source": [
        "# TODO"
      ]
    },
    {
      "cell_type": "markdown",
      "id": "6f375e14",
      "metadata": {
        "id": "6f375e14"
      },
      "source": [
        "# Problema 7\n",
        "\n",
        "Trasați graficul funcției $f(x) = x^3 + 2x^2 + 4x - 6$, pentru 100 de valori ale lui x între -4 și 4. Adăugați etichete pentru axele x și y și un titlu pe grafic."
      ]
    },
    {
      "cell_type": "code",
      "execution_count": null,
      "id": "b9bed810",
      "metadata": {
        "id": "b9bed810"
      },
      "outputs": [],
      "source": [
        "# TODO"
      ]
    },
    {
      "cell_type": "markdown",
      "id": "c930abfa",
      "metadata": {
        "id": "c930abfa"
      },
      "source": [
        "# Problema 8\n",
        "\n",
        "Încărcați fișierul 'car_data.csv'. Afișați ultimele 5 înregistrări și informații generale despre setul de date."
      ]
    },
    {
      "cell_type": "code",
      "execution_count": null,
      "id": "119f331b",
      "metadata": {
        "id": "119f331b"
      },
      "outputs": [],
      "source": [
        "# TODO"
      ]
    },
    {
      "cell_type": "markdown",
      "id": "89f227d3",
      "metadata": {
        "id": "89f227d3"
      },
      "source": [
        "# Problema 9\n",
        "\n",
        "Trasați histograma pentru toate caracteristicile din setul de date (cu excepția lui Car_name). Utilizați subplot pentru a le afișa pe toate într-o singură figură."
      ]
    },
    {
      "cell_type": "code",
      "execution_count": null,
      "id": "3da1276d",
      "metadata": {
        "id": "3da1276d"
      },
      "outputs": [],
      "source": [
        "# TODO"
      ]
    },
    {
      "cell_type": "markdown",
      "id": "b8f0d0db",
      "metadata": {
        "id": "b8f0d0db"
      },
      "source": [
        "# Problema 10\n",
        "\n",
        "Realizați un grafic care să prezinte relația care există între *Selling_Price* și *Present_Price*."
      ]
    },
    {
      "cell_type": "code",
      "execution_count": null,
      "id": "6fabe6cb",
      "metadata": {
        "id": "6fabe6cb"
      },
      "outputs": [],
      "source": [
        "# TODO"
      ]
    }
  ],
  "metadata": {
    "kernelspec": {
      "display_name": "Python 3 (ipykernel)",
      "language": "python",
      "name": "python3"
    },
    "language_info": {
      "codemirror_mode": {
        "name": "ipython",
        "version": 3
      },
      "file_extension": ".py",
      "mimetype": "text/x-python",
      "name": "python",
      "nbconvert_exporter": "python",
      "pygments_lexer": "ipython3",
      "version": "3.9.13"
    },
    "colab": {
      "provenance": []
    }
  },
  "nbformat": 4,
  "nbformat_minor": 5
}